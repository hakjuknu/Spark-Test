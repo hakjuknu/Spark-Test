{
 "cells": [
  {
   "cell_type": "markdown",
   "metadata": {},
   "source": [
    "> 함수형 프로그래밍은 동작 부분을 최소화함으로써 코드를 이해할 수 있게 한다. - Michael Feathers \n",
    "\n",
    "데이터를 분석하는 스파크 애플리케이션을 작성하려면 OOP 패러다임과 함께 함수형 개념이 왜 중요한지 알아야 한다   \n",
    "## FP 개념을 사용하면 데이터의 불변성을 보장하는 사용자 정의 스타일로 코드를 작성하는 방법을 배울 수 있다\n",
    "- 계산을 수학 함수의 평가로 간주하고 상태 변경과 가변 데이터를 방지한다\n",
    "- 가능한 한 숨겨진 임력과 출력(side-effect)를 제거하는 순수 함수로 입력과 출력 간의 관계를 설명한다\n",
    "\n",
    "## 함수형 프로그래밍의 장점\n",
    "- 간결성 과 동시성\n",
    "- 반복적인 프로그램 보다는 수학적 정의에 가까운 형식으로 아이디어를 설명한다\n",
    "- 어떠한 side-effect 없이 다른 함수에 영향이 가지 않는다\n",
    "- 코드 라인 수가 적다\n",
    "\n",
    "## Spark-Scala\n",
    "- 성능 향상과 데이터 처리 오버헤드 감소\n",
    "- 스파크의 최신 기능과 최고 기능\n",
    "- 스파크 철학에 대한 투명한 이해\n",
    "\n",
    "## 왜 스파크?\n",
    "스파크는 하둡 맵 리듀스 모델을 기반으로 하고, 대화형 쿼리와 스트림 처리 같은 계산의 여러 형태와 타입에서 맵리듀스를 사용한다.   \n",
    "대화형 쿼리와 스트림 처리 같은 계산의 여러 형태와 타입에서 맵리듀스를 사용한다.   \n",
    "인-메모리(in-memory) 처리 방식으로 애플리케이션의 성능과 처리 속도를 향상시킨다.\n",
    "\n",
    "- 배치 기반 애플리케이션\n",
    "- 이전에 빠르게 실행할 수 없었던 반복 알고리즘\n",
    "- 대화식 쿼리와 스트리밍\n",
    "\n",
    "### 스파크 특징\n",
    "- 빠른 계산\n",
    "- 다중 프로그래밍 언어 지원\n",
    "- 고급 분석\n",
    "\n",
    "### 스파크 배포 방식\n",
    "- 독립형 ( stand-alone ) 클러스터 : 스파크가 HDFS에서 실행되고, 실제 저장 공간이 HDFS에 할당된다. 맵리듀스와 스파크가 함께 실행된다\n",
    "- 하둡 얀 클러스터 : 스파크가 단순히 루트 권한이나 사전 설치 없이 얀에서 실행된다\n",
    "- 메소스 클러스터 : 메소스로 구성된 컴퓨터에서 메소스가 어느 노드가 어떤 스파크 잡을 처리할지 결정한 후 잡을 드라이버 프로그램으로 할당한다\n",
    "- 상용 클라우드 클러스터에 배포 : AWS EC2에서 실제 클러스터 모드로 스파크 잡을 배포한다\n",
    "\n",
    "## 스칼라와 스파크 생태계\n",
    "스파크의 핵심 API는 자바, 스칼라, 파이썬,R로 작성됐다. 다음과 같은 컴포넌트로 생태계가 구성된다\n",
    "- 아파치 스파크 코어 : 스파크 플랫폼의 기본 엔진. 인메모리 처리 기능 제공. 모든 것은 스파크 코어 기반 위에 구축돼 있다\n",
    "- 스파크 SQL : 다양한 데이터 구조(구조화된 데이터와 반구조화된 데이터)를 지원하는 스파크 컴포넌트\n",
    "- 스파크 스트리밍 : 스트리밍 데이터를 분석하며, 향후 분석을 위해 사용될 수 있는 작은 배치로 변환한다\n",
    "- MLlib : 많은 ML 알고리즘을 분산시킬 수 있는 머신러닝 프레임워크\n",
    "- GraphX : 사용자 정의 그래프 컴포넌트를 병렬로 스파크 위에 구축된 분산 그래프 프레임워크다\n",
    "\n",
    "## 순수 함수와 고차 함수\n",
    "1차 함수가 아니면 다 고차 함수다. 수학 관점에서 고차 함수는 연산자 또는 함수라 불린다    \n",
    "함수의 리턴 값이 입력에 의해서만 결정되고 부수 효과가 없으며 관찰 가능한 함수를 순수 함수(pure)라 한다\n",
    "### 순수 함수 \n",
    "일반적으로 일반 함수보다 작지만 수학 함수처럼 보이기 때문에 인간의 두뇌를 더 쉽게 해석하고 이해할 수 있다"
   ]
  },
  {
   "cell_type": "code",
   "execution_count": 1,
   "metadata": {},
   "outputs": [
    {
     "data": {
      "text/plain": [
       "pureFunc: (cityName: String)String\n",
       "notpureFunc: (cityName: String)Unit\n",
       "pureMul: (x: Int, y: Int)Int\n",
       "notpureMul: (x: Int, y: Int)Unit\n"
      ]
     },
     "metadata": {},
     "output_type": "display_data",
     "source": "user"
    }
   ],
   "source": [
    "def pureFunc(cityName: String) = s\"I live in $cityName\"\n",
    "def notpureFunc(cityName: String) = println(s\"I live in $cityName\")\n",
    "def pureMul(x: Int, y: Int) = x * y\n",
    "def notpureMul(x: Int, y: Int) = println(x*y)"
   ]
  },
  {
   "cell_type": "code",
   "execution_count": 2,
   "metadata": {},
   "outputs": [
    {
     "name": "stdout",
     "output_type": "stream",
     "text": [
      "I live in Dublin\n",
      "250\n"
     ]
    }
   ],
   "source": [
    "pureFunc(\"Galway\")\n",
    "notpureFunc(\"Dublin\")\n",
    "pureMul(10, 25)\n",
    "notpureMul(10, 25)"
   ]
  },
  {
   "cell_type": "code",
   "execution_count": 4,
   "metadata": {},
   "outputs": [
    {
     "name": "stdout",
     "output_type": "stream",
     "text": [
      "My Sequence is : 362880\n"
     ]
    },
    {
     "data": {
      "text/plain": [
       "data = 362880\n"
      ]
     },
     "metadata": {},
     "output_type": "display_data",
     "source": "user"
    },
    {
     "data": {
      "text/plain": [
       "362880"
      ]
     },
     "execution_count": 4,
     "metadata": {},
     "output_type": "execute_result"
    }
   ],
   "source": [
    "val data = Seq.range(1, 10).reduce(pureMul)\n",
    "println(s\"My Sequence is : \" + data)"
   ]
  },
  {
   "cell_type": "markdown",
   "metadata": {},
   "source": [
    "### 익명 함수 \n",
    "함수는 이름으로 불리는 코드 조각이다.   \n",
    "코드에서 사용하기 전에 함수를 정의하고 싶지 않을 때(한 곳에서만 사용) 익명 함수 개념은 좋다   \n",
    "람다(lambda) 표현식. 함수-리터럴로 표현, 익명 함수가 거의 람다다.  \n",
    "파라미터 목록 뒤에 화살표와 함수 본문이 따라온다. 따라서 이름이 없는 익명. 나중에 참조할 방법이 없다"
   ]
  },
  {
   "cell_type": "code",
   "execution_count": 17,
   "metadata": {},
   "outputs": [
    {
     "data": {
      "text/plain": [
       "TransferMoney: (money: Double, bankFee: Double => Double)Double\n"
      ]
     },
     "metadata": {},
     "output_type": "display_data",
     "source": "user"
    }
   ],
   "source": [
    "def TransferMoney(money: Double, bankFee: Double => Double): Double = {\n",
    "    money + bankFee(money)\n",
    "}"
   ]
  },
  {
   "cell_type": "code",
   "execution_count": 6,
   "metadata": {},
   "outputs": [
    {
     "data": {
      "text/plain": [
       "105.0"
      ]
     },
     "execution_count": 6,
     "metadata": {},
     "output_type": "execute_result"
    }
   ],
   "source": [
    "TransferMoney(100, (amount: Double) => amount * 0.05)"
   ]
  },
  {
   "cell_type": "markdown",
   "metadata": {},
   "source": [
    "### 고차 함수 \n",
    "함수를 파라미터로 전달하고 함수의 결과로 다시 함수를 리턴한다. 이를 고차 함수 라고 한다"
   ]
  },
  {
   "cell_type": "code",
   "execution_count": 7,
   "metadata": {},
   "outputs": [
    {
     "data": {
      "text/plain": [
       "testHOF: (func: Int => String, value: Int)String\n",
       "paramFunc: [A](x: A)String\n"
      ]
     },
     "metadata": {},
     "output_type": "display_data",
     "source": "user"
    }
   ],
   "source": [
    "def testHOF(func: Int => String, value: Int) = func(value)\n",
    "def paramFunc[A](x: A) = \"[\" + x.toString() + \"]\""
   ]
  },
  {
   "cell_type": "code",
   "execution_count": 9,
   "metadata": {},
   "outputs": [
    {
     "name": "stdout",
     "output_type": "stream",
     "text": [
      "[10]"
     ]
    }
   ],
   "source": [
    "print(testHOF(paramFunc, 10))"
   ]
  },
  {
   "cell_type": "code",
   "execution_count": 10,
   "metadata": {},
   "outputs": [
    {
     "data": {
      "text/plain": [
       "quarterMaker: (value: Int)Double\n",
       "addTwo: (value: Int)Int\n"
      ]
     },
     "metadata": {},
     "output_type": "display_data",
     "source": "user"
    }
   ],
   "source": [
    "def quarterMaker(value: Int): Double = value.toDouble/4\n",
    "def addTwo(value: Int): Int = value + 2"
   ]
  },
  {
   "cell_type": "code",
   "execution_count": 11,
   "metadata": {},
   "outputs": [
    {
     "data": {
      "text/plain": [
       "applyFuncOnRange: (begin: Int, end: Int, func: Int => AnyVal)Unit\n"
      ]
     },
     "metadata": {},
     "output_type": "display_data",
     "source": "user"
    }
   ],
   "source": [
    "def applyFuncOnRange(begin: Int, end: Int, func: Int => AnyVal): Unit = {\n",
    "    for ( i <- begin to end)\n",
    "        println(func(i))\n",
    "}"
   ]
  },
  {
   "cell_type": "code",
   "execution_count": 12,
   "metadata": {},
   "outputs": [
    {
     "name": "stdout",
     "output_type": "stream",
     "text": [
      "0.25\n",
      "0.5\n",
      "0.75\n",
      "1.0\n",
      "1.25\n",
      "1.5\n",
      "1.75\n",
      "2.0\n",
      "2.25\n",
      "2.5\n"
     ]
    }
   ],
   "source": [
    "applyFuncOnRange(1, 10, quarterMaker)"
   ]
  },
  {
   "cell_type": "code",
   "execution_count": 13,
   "metadata": {},
   "outputs": [
    {
     "name": "stdout",
     "output_type": "stream",
     "text": [
      "3\n",
      "4\n",
      "5\n",
      "6\n",
      "7\n",
      "8\n",
      "9\n",
      "10\n",
      "11\n",
      "12\n"
     ]
    }
   ],
   "source": [
    "applyFuncOnRange(1, 10, addTwo)"
   ]
  },
  {
   "cell_type": "markdown",
   "metadata": {},
   "source": [
    "### 콜백 함수\n",
    "콜백 함수는 어떤 함수에 파라미터로 전달될 수 있는 함수다."
   ]
  },
  {
   "cell_type": "code",
   "execution_count": 18,
   "metadata": {},
   "outputs": [
    {
     "data": {
      "text/plain": [
       "bankFee: (amount: Double)Double\n"
      ]
     },
     "metadata": {},
     "output_type": "display_data",
     "source": "user"
    }
   ],
   "source": [
    "def bankFee(amount: Double) = amount * 0.05"
   ]
  },
  {
   "cell_type": "code",
   "execution_count": 20,
   "metadata": {},
   "outputs": [
    {
     "name": "stdout",
     "output_type": "stream",
     "text": [
      "110.25"
     ]
    }
   ],
   "source": [
    "print(TransferMoney(105.0, bankFee))"
   ]
  },
  {
   "cell_type": "markdown",
   "metadata": {},
   "source": [
    "### 함수를 리턴 값으로 사용\n",
    "고차 함수는 함수를 결과로 리턴할 수 있다."
   ]
  },
  {
   "cell_type": "code",
   "execution_count": 21,
   "metadata": {},
   "outputs": [
    {
     "data": {
      "text/plain": [
       "returnedFunction = > String = <function1>\n"
      ]
     },
     "metadata": {},
     "output_type": "display_data",
     "source": "user"
    },
    {
     "data": {
      "text/plain": [
       "TransferMoney: (money: Double)Double => String\n"
      ]
     },
     "metadata": {},
     "output_type": "display_data",
     "source": "user"
    },
    {
     "data": {
      "text/plain": [
       "Dear Customer we are going to add the following amount as Fee: 75.0"
      ]
     },
     "execution_count": 21,
     "metadata": {},
     "output_type": "execute_result"
    }
   ],
   "source": [
    "def TransferMoney(money: Double) = {\n",
    "    if(money > 1000)\n",
    "        (money: Double) => \"Dear Customer we are going to add the following amount as Fee: \" + money * 0.05\n",
    "    else\n",
    "        (money: Double) => \"Dear Customer we are going to add the following amount as Fee: \" + money * 0.1\n",
    "}\n",
    "val returnedFunction = TransferMoney(1500)\n",
    "returnedFunction(1500)"
   ]
  },
  {
   "cell_type": "markdown",
   "metadata": {},
   "source": []
  }
 ],
 "metadata": {
  "kernelspec": {
   "display_name": "Apache Toree - Scala",
   "language": "scala",
   "name": "apache_toree_scala"
  },
  "language_info": {
   "codemirror_mode": "text/x-scala",
   "file_extension": ".scala",
   "mimetype": "text/x-scala",
   "name": "scala",
   "pygments_lexer": "scala",
   "version": "2.11.12"
  }
 },
 "nbformat": 4,
 "nbformat_minor": 4
}
