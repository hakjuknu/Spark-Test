{
 "cells": [
  {
   "cell_type": "markdown",
   "metadata": {},
   "source": [
    "### 1. https://docs.scala-lang.org/overviews/quasiquotes/setup.html    \n",
    "Scala 2.11, quasiquotes 는 scala-reflect.jar의 부분으로 스파크 공식 배포로 이동되었다.    \n",
    "그래서 특별히 사용하기 위해서 뭔가 할 필요 없다. 그저 **scala-reflect**만 추가하면 된단다.    \n"
   ]
  },
  {
   "cell_type": "code",
   "execution_count": 44,
   "metadata": {},
   "outputs": [
    {
     "data": {
      "text/plain": [
       "universe = scala.reflect.runtime.JavaUniverse@3d472b86\n"
      ]
     },
     "metadata": {},
     "output_type": "display_data",
     "source": "user"
    },
    {
     "data": {
      "text/plain": [
       "scala.reflect.runtime.JavaUniverse@3d472b86"
      ]
     },
     "execution_count": 44,
     "metadata": {},
     "output_type": "execute_result"
    }
   ],
   "source": [
    "val universe: scala.reflect.runtime.universe.type = scala.reflect.runtime.universe"
   ]
  },
  {
   "cell_type": "code",
   "execution_count": 45,
   "metadata": {},
   "outputs": [],
   "source": [
    "import universe._"
   ]
  },
  {
   "cell_type": "markdown",
   "metadata": {},
   "source": [
    "universe의 와일드 카드 임포트가 우리가 quasiquotes를 사용하기 위해 할 일이다.     \n",
    "추가적으로 사용할 **ToolBox** API 정도"
   ]
  },
  {
   "cell_type": "code",
   "execution_count": 46,
   "metadata": {},
   "outputs": [
    {
     "data": {
      "text/plain": [
       "toolbox = scala.tools.reflect.ToolBoxFactory$ToolBoxImpl@961d685\n"
      ]
     },
     "metadata": {},
     "output_type": "display_data",
     "source": "user"
    },
    {
     "data": {
      "text/plain": [
       "scala.tools.reflect.ToolBoxFactory$ToolBoxImpl@961d685"
      ]
     },
     "execution_count": 46,
     "metadata": {},
     "output_type": "execute_result"
    }
   ],
   "source": [
    "import scala.reflect.runtime.currentMirror\n",
    "import scala.tools.reflect.ToolBox\n",
    "val toolbox = currentMirror.mkToolBox()"
   ]
  },
  {
   "cell_type": "markdown",
   "metadata": {},
   "source": [
    "새롭고 반짝반짝한 **showCode** 프리티 프린터"
   ]
  },
  {
   "cell_type": "code",
   "execution_count": 47,
   "metadata": {},
   "outputs": [
    {
     "data": {
      "text/plain": [
       "C = \n"
      ]
     },
     "metadata": {},
     "output_type": "display_data",
     "source": "user"
    },
    {
     "data": {
      "text/plain": [
       "class C extends scala.AnyRef {\n",
       "  def <init>() = {\n",
       "    super.<init>();\n",
       "    ()\n",
       "  }\n",
       "}\n"
      ]
     },
     "metadata": {},
     "output_type": "display_data",
     "source": "user"
    }
   ],
   "source": [
    "val C = q\"class C\""
   ]
  },
  {
   "cell_type": "code",
   "execution_count": 48,
   "metadata": {},
   "outputs": [
    {
     "name": "stdout",
     "output_type": "stream",
     "text": [
      "class C\n"
     ]
    }
   ],
   "source": [
    "println(showCode(C))"
   ]
  },
  {
   "cell_type": "markdown",
   "metadata": {},
   "source": [
    "### 2. https://docs.scala-lang.org/overviews/quasiquotes/intro.html\n",
    "quasiquotes은 Scala Syntax Tree를 좀 더 쉽게 조작 할 수 있도록 하는 깔끔한 표기법이다.    \n"
   ]
  },
  {
   "cell_type": "code",
   "execution_count": 49,
   "metadata": {},
   "outputs": [
    {
     "data": {
      "text/plain": [
       "tree = i.am(a.quasiquote)\n"
      ]
     },
     "metadata": {},
     "output_type": "display_data",
     "source": "user"
    },
    {
     "data": {
      "text/plain": [
       "i.am(a.quasiquote)"
      ]
     },
     "execution_count": 49,
     "metadata": {},
     "output_type": "execute_result"
    }
   ],
   "source": [
    "val tree = q\"i am { a quasiquote }\""
   ]
  },
  {
   "cell_type": "markdown",
   "metadata": {},
   "source": [
    "코드 조각을 q를 사용해서 랩핑하면 주어진 코드 조각을 표현하는 트리가 된다.    \n",
    "니가 이미 알다시피, quotation 구문은 그저 문자열 보간법의 다른 사용 형태일 뿐이다. 2.10 버전에 도입된   \n",
    "그저 문자열로 보이지만 후드 아래에서 구문 트리 아래에서 실행된다."
   ]
  },
  {
   "cell_type": "code",
   "execution_count": 50,
   "metadata": {},
   "outputs": [
    {
     "name": "stdout",
     "output_type": "stream",
     "text": [
      "it worked!\n"
     ]
    }
   ],
   "source": [
    "println(tree match { case q\"i am { a quasiquote }\" => \"it worked!\" })"
   ]
  },
  {
   "cell_type": "markdown",
   "metadata": {},
   "source": [
    "트리와 quasiquote를 매치 할 때마다 이것은 주어진 트리의 구조가 주어진 패턴과 일치하는지 매치한다.    \n",
    "equalsStructure 메소드의 도움으로 매뉴얼하게 구조적으로 일치하는지 체크할 수 있다."
   ]
  },
  {
   "cell_type": "code",
   "execution_count": 51,
   "metadata": {},
   "outputs": [
    {
     "name": "stdout",
     "output_type": "stream",
     "text": [
      "true\n"
     ]
    }
   ],
   "source": [
    "println(q\"foo + bar\" equalsStructure q\"foo.+(bar)\")"
   ]
  },
  {
   "cell_type": "markdown",
   "metadata": {},
   "source": [
    "$를 사용해서 quasiquotation에 넣을 수도 있다."
   ]
  },
  {
   "cell_type": "code",
   "execution_count": 52,
   "metadata": {},
   "outputs": [
    {
     "data": {
      "text/plain": [
       "aquasiquote = a.quasiquote\n"
      ]
     },
     "metadata": {},
     "output_type": "display_data",
     "source": "user"
    },
    {
     "data": {
      "text/plain": [
       "a.quasiquote"
      ]
     },
     "execution_count": 52,
     "metadata": {},
     "output_type": "execute_result"
    }
   ],
   "source": [
    "val aquasiquote = q\"a quasiquote\""
   ]
  },
  {
   "cell_type": "code",
   "execution_count": 53,
   "metadata": {},
   "outputs": [
    {
     "data": {
      "text/plain": [
       "tree = i.am(a.quasiquote)\n"
      ]
     },
     "metadata": {},
     "output_type": "display_data",
     "source": "user"
    },
    {
     "data": {
      "text/plain": [
       "i.am(a.quasiquote)"
      ]
     },
     "execution_count": 53,
     "metadata": {},
     "output_type": "execute_result"
    }
   ],
   "source": [
    "val tree = q\"i am { $aquasiquote }\""
   ]
  },
  {
   "cell_type": "markdown",
   "metadata": {},
   "source": [
    "이 연산자는 unquoting으로도 알려져 있다.    \n",
    "quasiquote 내에서 타입 트리 표현식을 unquote 할 때 마다 구조적으로 트리를 그 위치에서 대체한다.    \n",
    "대부분 quote들 간 대체에서 소스 코드의 텍스트 대체와 동등하다.    \n",
    "비슷하게도, 패턴 매칭 내 unquoting으로 구조적으로 트리 해체를 할 수 있다. "
   ]
  },
  {
   "cell_type": "code",
   "execution_count": 54,
   "metadata": {},
   "outputs": [
    {
     "data": {
      "text/plain": [
       "what = a.quasiquote\n"
      ]
     },
     "metadata": {},
     "output_type": "display_data",
     "source": "user"
    },
    {
     "data": {
      "text/plain": [
       "a.quasiquote"
      ]
     },
     "execution_count": 54,
     "metadata": {},
     "output_type": "execute_result"
    }
   ],
   "source": [
    "val q\"i am $what\" = q\"i am { a quasiquote }\""
   ]
  },
  {
   "cell_type": "markdown",
   "metadata": {},
   "source": [
    "**Interpolators**    \n",
    "스칼라는 풍부한 구문을 가진 언어로, 통사적 맥락에 따라 크게 달라진다."
   ]
  },
  {
   "cell_type": "code",
   "execution_count": 55,
   "metadata": {},
   "outputs": [
    {
     "data": {
      "text/plain": [
       "x = \n"
      ]
     },
     "metadata": {},
     "output_type": "display_data",
     "source": "user"
    },
    {
     "data": {
      "text/plain": [
       "val x: List[Int] = List(1, 2) match {\n",
       "  case List((a @ _), (b @ _)) => List(a.$plus(b))\n",
       "}\n"
      ]
     },
     "metadata": {},
     "output_type": "display_data",
     "source": "user"
    }
   ],
   "source": [
    "val x = q\"\"\"\n",
    "        val x: List[Int] = List(1, 2) match {\n",
    "            case List(a, b) => List(a + b)\n",
    "        }\n",
    "\"\"\""
   ]
  },
  {
   "cell_type": "markdown",
   "metadata": {},
   "source": [
    "||||\n",
    "|---|---|---|\n",
    "||Used for| |\n",
    "|q | expression, definitions and imports ||\n",
    "|tq | types ||\n",
    "|pq | patterns ||\n",
    "|cq | case clause | |\n",
    "|fq | for loop enumerator | |\n",
    "서로 다른 컨텍스트들 간의 구문적인 유사도가 아래의 두 트리의 유사도를 함축하지는 않는다."
   ]
  },
  {
   "cell_type": "code",
   "execution_count": 56,
   "metadata": {},
   "outputs": [
    {
     "name": "stdout",
     "output_type": "stream",
     "text": [
      "false\n"
     ]
    }
   ],
   "source": [
    "println(q\"List[Int]\" equalsStructure tq\"List[Int]\")"
   ]
  },
  {
   "cell_type": "code",
   "execution_count": 57,
   "metadata": {},
   "outputs": [
    {
     "name": "stdout",
     "output_type": "stream",
     "text": [
      "TypeApply(Ident(TermName(\"List\")), List(Ident(TypeName(\"Int\"))))\n"
     ]
    }
   ],
   "source": [
    "println(showRaw(q\"List[Int]\"))"
   ]
  },
  {
   "cell_type": "code",
   "execution_count": 58,
   "metadata": {},
   "outputs": [
    {
     "name": "stdout",
     "output_type": "stream",
     "text": [
      "AppliedTypeTree(Ident(TypeName(\"List\")), List(Ident(TypeName(\"Int\"))))\n"
     ]
    }
   ],
   "source": [
    "println(showRaw(tq\"List[Int]\"))"
   ]
  },
  {
   "cell_type": "code",
   "execution_count": 59,
   "metadata": {},
   "outputs": [
    {
     "name": "stdout",
     "output_type": "stream",
     "text": [
      "AppliedTypeTree(Ident(TypeName(\"List\")), List(Bind(TypeName(\"int\"), EmptyTree)))\n"
     ]
    }
   ],
   "source": [
    "println(showRaw(pq\"List[int]\"))"
   ]
  },
  {
   "cell_type": "code",
   "execution_count": 60,
   "metadata": {},
   "outputs": [
    {
     "name": "stdout",
     "output_type": "stream",
     "text": [
      "false\n"
     ]
    }
   ],
   "source": [
    "println(pq\"List(a, b)\" equalsStructure q\"List(a, b)\")"
   ]
  },
  {
   "cell_type": "markdown",
   "metadata": {},
   "source": [
    " **Splicing**     \n",
    " Unquote Splicing은 다양한 수의 엘리먼트 변수를 unquote하는 방법이다."
   ]
  },
  {
   "cell_type": "code",
   "execution_count": 61,
   "metadata": {},
   "outputs": [
    {
     "data": {
      "text/plain": [
       "ab = List(a, b)\n",
       "fab = f(a, b)\n"
      ]
     },
     "metadata": {},
     "output_type": "display_data",
     "source": "user"
    },
    {
     "data": {
      "text/plain": [
       "f(a, b)"
      ]
     },
     "execution_count": 61,
     "metadata": {},
     "output_type": "execute_result"
    }
   ],
   "source": [
    "val ab = List(q\"a\", q\"b\")\n",
    "val fab = q\"f(..$ab)\""
   ]
  },
  {
   "cell_type": "markdown",
   "metadata": {},
   "source": [
    "unquotee 명세 이전의 도트는 flattening의 정도를 나타낸다. 그리고 splicing rank 라고 불린다 ..$     \n",
    "..$는 argument가 Iterable[Tree] 로 예상하고 ...$는 Iterable[Iterable[Tree]] 로 예상한다.   \n",
    "splicing은 regular unquotation과 간편하게 결합될 수 있다."
   ]
  },
  {
   "cell_type": "code",
   "execution_count": 62,
   "metadata": {},
   "outputs": [
    {
     "data": {
      "text/plain": [
       "c = c\n",
       "fabc = f(a, b, c)\n"
      ]
     },
     "metadata": {},
     "output_type": "display_data",
     "source": "user"
    },
    {
     "data": {
      "text/plain": [
       "f(a, b, c)"
      ]
     },
     "execution_count": 62,
     "metadata": {},
     "output_type": "execute_result"
    }
   ],
   "source": [
    "val c = q\"c\"\n",
    "val fabc = q\"f(..$ab, $c)\""
   ]
  },
  {
   "cell_type": "code",
   "execution_count": 63,
   "metadata": {},
   "outputs": [
    {
     "data": {
      "text/plain": [
       "fcab = f(c, a, b)\n"
      ]
     },
     "metadata": {},
     "output_type": "display_data",
     "source": "user"
    },
    {
     "data": {
      "text/plain": [
       "f(c, a, b)"
      ]
     },
     "execution_count": 63,
     "metadata": {},
     "output_type": "execute_result"
    }
   ],
   "source": [
    "val fcab = q\"f($c, ..$ab)\""
   ]
  },
  {
   "cell_type": "code",
   "execution_count": 64,
   "metadata": {},
   "outputs": [
    {
     "data": {
      "text/plain": [
       "fabcab = f(a, b, c, a, b)\n"
      ]
     },
     "metadata": {},
     "output_type": "display_data",
     "source": "user"
    },
    {
     "data": {
      "text/plain": [
       "f(a, b, c, a, b)"
      ]
     },
     "execution_count": 64,
     "metadata": {},
     "output_type": "execute_result"
    }
   ],
   "source": [
    "val fabcab = q\"f(..$ab, $c, ..$ab)\""
   ]
  },
  {
   "cell_type": "markdown",
   "metadata": {},
   "source": [
    "만약 Application 에 대해 추상화하고 싶으면 ...$ 를 사용할 수 있다"
   ]
  },
  {
   "cell_type": "code",
   "execution_count": 65,
   "metadata": {},
   "outputs": [
    {
     "data": {
      "text/plain": [
       "argss = List(List(a, b), List(c))\n"
      ]
     },
     "metadata": {},
     "output_type": "display_data",
     "source": "user"
    },
    {
     "data": {
      "text/plain": [
       "List(List(a, b), List(c))"
      ]
     },
     "execution_count": 65,
     "metadata": {},
     "output_type": "execute_result"
    }
   ],
   "source": [
    "val argss = List(ab, List(c))"
   ]
  },
  {
   "cell_type": "code",
   "execution_count": 66,
   "metadata": {},
   "outputs": [
    {
     "data": {
      "text/plain": [
       "fagss = f(a, b)(c)\n"
      ]
     },
     "metadata": {},
     "output_type": "display_data",
     "source": "user"
    },
    {
     "data": {
      "text/plain": [
       "f(a, b)(c)"
      ]
     },
     "execution_count": 66,
     "metadata": {},
     "output_type": "execute_result"
    }
   ],
   "source": [
    "val fagss = q\"f(...$argss)\""
   ]
  },
  {
   "cell_type": "markdown",
   "metadata": {},
   "source": [
    "...$ 의 splicing 은 함수 application과 def 와 class 정의의 파라미터 리스트에만 지원된다."
   ]
  },
  {
   "cell_type": "code",
   "execution_count": 67,
   "metadata": {},
   "outputs": [
    {
     "data": {
      "text/plain": [
       "args = List(a, b)\n"
      ]
     },
     "metadata": {},
     "output_type": "display_data",
     "source": "user"
    },
    {
     "data": {
      "text/plain": [
       "List(a, b)"
      ]
     },
     "execution_count": 67,
     "metadata": {},
     "output_type": "execute_result"
    }
   ],
   "source": [
    "val q\"f(..$args)\" = q\"f(a, b)\""
   ]
  },
  {
   "cell_type": "code",
   "execution_count": 68,
   "metadata": {},
   "outputs": [
    {
     "data": {
      "text/plain": [
       "argss = List(List(a, b), List(c))\n"
      ]
     },
     "metadata": {},
     "output_type": "display_data",
     "source": "user"
    },
    {
     "data": {
      "text/plain": [
       "List(List(a, b), List(c))"
      ]
     },
     "execution_count": 68,
     "metadata": {},
     "output_type": "execute_result"
    }
   ],
   "source": [
    "val q\"f(...$argss)\" = q\"f(a, b)(c)\""
   ]
  },
  {
   "cell_type": "markdown",
   "metadata": {},
   "source": [
    "splicing과 $ 변수 실행을 제한하는 몇가지 방법이 있다."
   ]
  },
  {
   "cell_type": "code",
   "execution_count": 69,
   "metadata": {},
   "outputs": [
    {
     "data": {
      "text/plain": [
       "Name: Compile Error\n",
       "Message: <console>:1: error: illegal start of definition\n",
       "case q\"f($first, ..$rest)\"  => // ok\n",
       "^\n",
       "\n",
       "StackTrace: "
      ]
     },
     "execution_count": 69,
     "metadata": {},
     "output_type": "execute_result"
    }
   ],
   "source": [
    "case q\"f($first, ..$rest)\"  => // ok\n",
    "case q\"f(..$init, $last)\"   => // ok\n",
    "case q\"f(..$a, ..$b)\"       => // not allowed"
   ]
  },
  {
   "cell_type": "markdown",
   "metadata": {},
   "source": [
    "주어진 리스트에서 오직 한 ..$ 만 허용된다. ...$도 마찬가지다"
   ]
  },
  {
   "cell_type": "markdown",
   "metadata": {},
   "source": [
    "3. https://docs.scala-lang.org/overviews/quasiquotes/lifting.html\n",
    "lifting은 quasiquotes 내부의 커스텀 데이터 타입을 unquote(디코딩)하는 확장 가능한 방법이다.    \n",
    "이것의 주요한 use-case는 literal 값과 트리의 여러 요소들 unquoting의 지원이다."
   ]
  },
  {
   "cell_type": "code",
   "execution_count": 70,
   "metadata": {},
   "outputs": [
    {
     "data": {
      "text/plain": [
       "two = 2\n",
       "four = 2.$plus(2)\n"
      ]
     },
     "metadata": {},
     "output_type": "display_data",
     "source": "user"
    },
    {
     "data": {
      "text/plain": [
       "2.$plus(2)"
      ]
     },
     "execution_count": 70,
     "metadata": {},
     "output_type": "execute_result"
    }
   ],
   "source": [
    "val two = 1 + 1\n",
    "val four = q\"$two + $two\""
   ]
  },
  {
   "cell_type": "markdown",
   "metadata": {},
   "source": [
    "위 코드는 성공적으로 동작한다. 그 이유는 Int는 기본적으로 Liftable 하기 때문이다.    \n",
    "Liftable 타입은 trait이다. 트리에 주어진 타입에 매핑된 단일 추상화 메소드다"
   ]
  },
  {
   "cell_type": "code",
   "execution_count": 71,
   "metadata": {},
   "outputs": [
    {
     "data": {
      "text/plain": [
       "defined trait Liftable\n"
      ]
     },
     "metadata": {},
     "output_type": "display_data",
     "source": "user"
    }
   ],
   "source": [
    "import scala.reflect.runtime.universe._\n",
    "\n",
    "trait Liftable[T] {\n",
    "    def apply(value: T): Tree\n",
    "}"
   ]
  },
  {
   "cell_type": "code",
   "execution_count": 72,
   "metadata": {},
   "outputs": [
    {
     "data": {
      "text/plain": [
       "ints = List(1, 2, 3)\n",
       "f123 = f(1, 2, 3)\n"
      ]
     },
     "metadata": {},
     "output_type": "display_data",
     "source": "user"
    },
    {
     "data": {
      "text/plain": [
       "f(1, 2, 3)"
      ]
     },
     "execution_count": 72,
     "metadata": {},
     "output_type": "execute_result"
    }
   ],
   "source": [
    "val ints = List(1, 2, 3)\n",
    "val f123 = q\"f(..$ints)\""
   ]
  },
  {
   "cell_type": "code",
   "execution_count": 73,
   "metadata": {},
   "outputs": [
    {
     "data": {
      "text/plain": [
       "intss = List(List(1, 2, 3), List(4, 5), List(6))\n",
       "f123456 = f(1, 2, 3)(4, 5)(6)\n"
      ]
     },
     "metadata": {},
     "output_type": "display_data",
     "source": "user"
    },
    {
     "data": {
      "text/plain": [
       "f(1, 2, 3)(4, 5)(6)"
      ]
     },
     "execution_count": 73,
     "metadata": {},
     "output_type": "execute_result"
    }
   ],
   "source": [
    "val intss = List(List(1, 2, 3), List(4, 5), List(6))\n",
    "val f123456 = q\"f(...$intss)\""
   ]
  },
  {
   "cell_type": "code",
   "execution_count": 74,
   "metadata": {},
   "outputs": [
    {
     "data": {
      "text/plain": [
       "Name: Compile Error\n",
       "Message: <console>:15: error: not found: value Liftable\n",
       "           implicit val lift = Liftable[Point] {\n",
       "                               ^\n",
       "<console>:16: error: value q is not a member of StringContext\n",
       " Note: implicit value lift is not applicable here because it comes after the application point and it lacks an explicit result type\n",
       "               p => q\"_root_.points.Point(${p.x}, ${p.y})\"\n",
       "                    ^\n",
       "\n",
       "StackTrace: "
      ]
     },
     "execution_count": 74,
     "metadata": {},
     "output_type": "execute_result"
    }
   ],
   "source": [
    "case class Point(x : Int, y: Int)\n",
    "object Point {\n",
    "    implicit val lift = Liftable[Point] { \n",
    "        p => q\"_root_.points.Point(${p.x}, ${p.y})\"\n",
    "    }\n",
    "}"
   ]
  },
  {
   "cell_type": "code",
   "execution_count": null,
   "metadata": {},
   "outputs": [],
   "source": []
  },
  {
   "cell_type": "code",
   "execution_count": null,
   "metadata": {},
   "outputs": [],
   "source": []
  },
  {
   "cell_type": "code",
   "execution_count": null,
   "metadata": {},
   "outputs": [],
   "source": []
  },
  {
   "cell_type": "code",
   "execution_count": null,
   "metadata": {},
   "outputs": [],
   "source": []
  },
  {
   "cell_type": "code",
   "execution_count": null,
   "metadata": {},
   "outputs": [],
   "source": []
  },
  {
   "cell_type": "code",
   "execution_count": null,
   "metadata": {},
   "outputs": [],
   "source": []
  },
  {
   "cell_type": "code",
   "execution_count": null,
   "metadata": {},
   "outputs": [],
   "source": []
  },
  {
   "cell_type": "code",
   "execution_count": null,
   "metadata": {},
   "outputs": [],
   "source": []
  }
 ],
 "metadata": {
  "kernelspec": {
   "display_name": "Apache Toree - Scala",
   "language": "scala",
   "name": "apache_toree_scala"
  },
  "language_info": {
   "codemirror_mode": "text/x-scala",
   "file_extension": ".scala",
   "mimetype": "text/x-scala",
   "name": "scala",
   "pygments_lexer": "scala",
   "version": "2.11.12"
  }
 },
 "nbformat": 4,
 "nbformat_minor": 4
}
