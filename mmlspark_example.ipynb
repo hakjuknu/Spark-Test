{
 "cells": [
  {
   "cell_type": "code",
   "execution_count": 2,
   "metadata": {},
   "outputs": [],
   "source": [
    "import pyspark\n",
    "\n",
    "# com.microsoft.ml.spark:mmlspark_2.11:1.0.0-rc1 Cannot Find Package\n",
    "spark = pyspark.sql.SparkSession.builder.appName(\"MyApp\") \\\n",
    "            .config(\"spark.jars.packages\", \"com.microsoft.ml.spark:mmlspark_2.11:0.18.0\") \\\n",
    "            .getOrCreate()\n",
    "\n",
    "import mmlspark"
   ]
  },
  {
   "cell_type": "markdown",
   "metadata": {},
   "source": [
    "https://github.com/Azure/mmlspark/blob/master/notebooks/samples/LightGBM%20-%20Quantile%20Regression%20for%20Drug%20Discovery.ipynb\n",
    "https://mmlspark.blob.core.windows.net/docs/1.0.0-rc1/pyspark/mmlspark.lightgbm.html"
   ]
  },
  {
   "cell_type": "code",
   "execution_count": 17,
   "metadata": {},
   "outputs": [],
   "source": [
    "from pyspark.ml.tuning import ParamGridBuilder, CrossValidator\n",
    "from pyspark.ml.evaluation import RegressionEvaluator\n",
    "from mmlspark.train import ComputeModelStatistics\n",
    "from mmlspark.lightgbm import LightGBMRegressor\n",
    "import numpy as np\n",
    "import sys"
   ]
  },
  {
   "cell_type": "code",
   "execution_count": 22,
   "metadata": {},
   "outputs": [
    {
     "name": "stdout",
     "output_type": "stream",
     "text": [
      "System version: 3.7.6 | packaged by conda-forge | (default, Mar 23 2020, 23:03:20) \n",
      "[GCC 7.3.0]\n",
      "PySpark version: 2.4.5\n"
     ]
    }
   ],
   "source": [
    "print(\"System version: {}\".format(sys.version))\n",
    "print(\"PySpark version: {}\".format(pyspark.version.__version__))"
   ]
  },
  {
   "cell_type": "code",
   "execution_count": 73,
   "metadata": {},
   "outputs": [],
   "source": [
    "input_path = \"/home/jovyan/work/ScalaAndSpark/pima-indians-diabetes.csv\" # https://uzshare.com/view/811490\n",
    "\n",
    "pima_indian_dataset = spark.read.format(\"csv\")\\\n",
    "    .option(\"sep\", \",\")\\\n",
    "    .option(\"inferSchema\", \"true\")\\\n",
    "    .option(\"header\", \"false\")\\\n",
    "    .load(input_path)\\\n",
    "    .toDF(\"Pregnancles\",\"Glucose\",\"BloodPressure\",\"SkinThickness\",\"Insulin\",\"BMI\",\"DiabetesPedigreeFuction\",\"Age\",\"Outcome\")"
   ]
  },
  {
   "cell_type": "code",
   "execution_count": 40,
   "metadata": {},
   "outputs": [
    {
     "name": "stdout",
     "output_type": "stream",
     "text": [
      "+-----------+-------+-------------+-------------+-------+----+-----------------------+---+-------+\n",
      "|Pregnancles|Glucose|BloodPressure|SkinThickness|Insulin| BMI|DiabetesPedigreeFuction|Age|Outcome|\n",
      "+-----------+-------+-------------+-------------+-------+----+-----------------------+---+-------+\n",
      "|          6|    148|           72|           35|      0|33.6|                  0.627| 50|      1|\n",
      "|          1|     85|           66|           29|      0|26.6|                  0.351| 31|      0|\n",
      "|          8|    183|           64|            0|      0|23.3|                  0.672| 32|      1|\n",
      "|          1|     89|           66|           23|     94|28.1|                  0.167| 21|      0|\n",
      "|          0|    137|           40|           35|    168|43.1|                  2.288| 33|      1|\n",
      "|          5|    116|           74|            0|      0|25.6|                  0.201| 30|      0|\n",
      "|          3|     78|           50|           32|     88|31.0|                  0.248| 26|      1|\n",
      "|         10|    115|            0|            0|      0|35.3|                  0.134| 29|      0|\n",
      "|          2|    197|           70|           45|    543|30.5|                  0.158| 53|      1|\n",
      "|          8|    125|           96|            0|      0| 0.0|                  0.232| 54|      1|\n",
      "|          4|    110|           92|            0|      0|37.6|                  0.191| 30|      0|\n",
      "|         10|    168|           74|            0|      0|38.0|                  0.537| 34|      1|\n",
      "|         10|    139|           80|            0|      0|27.1|                  1.441| 57|      0|\n",
      "|          1|    189|           60|           23|    846|30.1|                  0.398| 59|      1|\n",
      "|          5|    166|           72|           19|    175|25.8|                  0.587| 51|      1|\n",
      "|          7|    100|            0|            0|      0|30.0|                  0.484| 32|      1|\n",
      "|          0|    118|           84|           47|    230|45.8|                  0.551| 31|      1|\n",
      "|          7|    107|           74|            0|      0|29.6|                  0.254| 31|      1|\n",
      "|          1|    103|           30|           38|     83|43.3|                  0.183| 33|      0|\n",
      "|          1|    115|           70|           30|     96|34.6|                  0.529| 32|      1|\n",
      "+-----------+-------+-------------+-------------+-------+----+-----------------------+---+-------+\n",
      "only showing top 20 rows\n",
      "\n"
     ]
    }
   ],
   "source": [
    "pima_indian_dataset.show()"
   ]
  },
  {
   "cell_type": "code",
   "execution_count": 43,
   "metadata": {},
   "outputs": [],
   "source": [
    "from pyspark.ml.feature import VectorAssembler"
   ]
  },
  {
   "cell_type": "code",
   "execution_count": 63,
   "metadata": {},
   "outputs": [],
   "source": [
    "features = pima_indian_dataset.columns[0:-1]\n",
    "label = pima_indian_dataset.columns[-1]"
   ]
  },
  {
   "cell_type": "code",
   "execution_count": 64,
   "metadata": {},
   "outputs": [
    {
     "name": "stdout",
     "output_type": "stream",
     "text": [
      "+-----------+-------+-------------+-------------+-------+----+-----------------------+---+-------+--------------------+\n",
      "|Pregnancles|Glucose|BloodPressure|SkinThickness|Insulin| BMI|DiabetesPedigreeFuction|Age|Outcome|            features|\n",
      "+-----------+-------+-------------+-------------+-------+----+-----------------------+---+-------+--------------------+\n",
      "|          6|    148|           72|           35|      0|33.6|                  0.627| 50|      1|[6.0,148.0,72.0,3...|\n",
      "|          1|     85|           66|           29|      0|26.6|                  0.351| 31|      0|[1.0,85.0,66.0,29...|\n",
      "|          8|    183|           64|            0|      0|23.3|                  0.672| 32|      1|[8.0,183.0,64.0,0...|\n",
      "|          1|     89|           66|           23|     94|28.1|                  0.167| 21|      0|[1.0,89.0,66.0,23...|\n",
      "|          0|    137|           40|           35|    168|43.1|                  2.288| 33|      1|[0.0,137.0,40.0,3...|\n",
      "|          5|    116|           74|            0|      0|25.6|                  0.201| 30|      0|[5.0,116.0,74.0,0...|\n",
      "|          3|     78|           50|           32|     88|31.0|                  0.248| 26|      1|[3.0,78.0,50.0,32...|\n",
      "|         10|    115|            0|            0|      0|35.3|                  0.134| 29|      0|[10.0,115.0,0.0,0...|\n",
      "|          2|    197|           70|           45|    543|30.5|                  0.158| 53|      1|[2.0,197.0,70.0,4...|\n",
      "|          8|    125|           96|            0|      0| 0.0|                  0.232| 54|      1|[8.0,125.0,96.0,0...|\n",
      "|          4|    110|           92|            0|      0|37.6|                  0.191| 30|      0|[4.0,110.0,92.0,0...|\n",
      "|         10|    168|           74|            0|      0|38.0|                  0.537| 34|      1|[10.0,168.0,74.0,...|\n",
      "|         10|    139|           80|            0|      0|27.1|                  1.441| 57|      0|[10.0,139.0,80.0,...|\n",
      "|          1|    189|           60|           23|    846|30.1|                  0.398| 59|      1|[1.0,189.0,60.0,2...|\n",
      "|          5|    166|           72|           19|    175|25.8|                  0.587| 51|      1|[5.0,166.0,72.0,1...|\n",
      "|          7|    100|            0|            0|      0|30.0|                  0.484| 32|      1|[7.0,100.0,0.0,0....|\n",
      "|          0|    118|           84|           47|    230|45.8|                  0.551| 31|      1|[0.0,118.0,84.0,4...|\n",
      "|          7|    107|           74|            0|      0|29.6|                  0.254| 31|      1|[7.0,107.0,74.0,0...|\n",
      "|          1|    103|           30|           38|     83|43.3|                  0.183| 33|      0|[1.0,103.0,30.0,3...|\n",
      "|          1|    115|           70|           30|     96|34.6|                  0.529| 32|      1|[1.0,115.0,70.0,3...|\n",
      "+-----------+-------+-------------+-------------+-------+----+-----------------------+---+-------+--------------------+\n",
      "only showing top 20 rows\n",
      "\n"
     ]
    }
   ],
   "source": [
    "va = VectorAssembler().setInputCols(features).setOutputCol(\"features\")\n",
    "va.transform(pima_indian_dataset).show()"
   ]
  },
  {
   "cell_type": "code",
   "execution_count": 69,
   "metadata": {},
   "outputs": [],
   "source": [
    "from mmlspark.lightgbm import LightGBMClassifier\n",
    "lgbm = LightGBMClassifier().setFeaturesCol(\"features\").setLabelCol(\"Outcome\")"
   ]
  },
  {
   "cell_type": "code",
   "execution_count": 77,
   "metadata": {},
   "outputs": [],
   "source": [
    "from pyspark.ml import Pipeline\n",
    "\n",
    "pipeline = Pipeline(stages=[va, lgbm])"
   ]
  },
  {
   "cell_type": "code",
   "execution_count": 75,
   "metadata": {},
   "outputs": [],
   "source": [
    "from pyspark.ml.tuning import ParamGridBuilder\n",
    "\n",
    "paramGrid = ParamGridBuilder()\\\n",
    "    .addGrid(lgbm.learningRate, [0.05, 0.1])\\\n",
    "    .build()"
   ]
  },
  {
   "cell_type": "code",
   "execution_count": 76,
   "metadata": {},
   "outputs": [],
   "source": [
    "from pyspark.ml.evaluation import BinaryClassificationEvaluator\n",
    "\n",
    "evaluator = BinaryClassificationEvaluator()\\\n",
    "    .setLabelCol(\"Outcome\")\\\n",
    "    .setRawPredictionCol(\"prediction\")\\\n",
    "    .setMetricName(\"areaUnderROC\")"
   ]
  },
  {
   "cell_type": "code",
   "execution_count": 78,
   "metadata": {},
   "outputs": [],
   "source": [
    "from pyspark.ml.tuning import CrossValidator\n",
    "\n",
    "crossval = CrossValidator(estimator=pipeline,\n",
    "                          estimatorParamMaps=paramGrid,\n",
    "                          evaluator=evaluator,\n",
    "                          seed=0)"
   ]
  },
  {
   "cell_type": "code",
   "execution_count": 79,
   "metadata": {},
   "outputs": [],
   "source": [
    "train, test = pima_indian_dataset.randomSplit([.8, .2], 0)"
   ]
  },
  {
   "cell_type": "code",
   "execution_count": 80,
   "metadata": {},
   "outputs": [],
   "source": [
    "lgbModel = crossval.fit(train)"
   ]
  },
  {
   "cell_type": "code",
   "execution_count": 82,
   "metadata": {},
   "outputs": [
    {
     "name": "stdout",
     "output_type": "stream",
     "text": [
      "----- AUC -----\n",
      "The Model's AUC is : 0.7291482789055606\n"
     ]
    }
   ],
   "source": [
    "results = lgbModel.transform(test)\n",
    "auc = evaluator.evaluate(results)\n",
    "\n",
    "print(\"----- AUC -----\")\n",
    "print(f\"The Model's AUC is : {auc}\")"
   ]
  },
  {
   "cell_type": "code",
   "execution_count": null,
   "metadata": {},
   "outputs": [],
   "source": []
  }
 ],
 "metadata": {
  "kernelspec": {
   "display_name": "Python 3",
   "language": "python",
   "name": "python3"
  },
  "language_info": {
   "codemirror_mode": {
    "name": "ipython",
    "version": 3
   },
   "file_extension": ".py",
   "mimetype": "text/x-python",
   "name": "python",
   "nbconvert_exporter": "python",
   "pygments_lexer": "ipython3",
   "version": "3.7.6"
  }
 },
 "nbformat": 4,
 "nbformat_minor": 4
}
