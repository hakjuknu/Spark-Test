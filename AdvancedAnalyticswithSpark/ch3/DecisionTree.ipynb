{
 "cells": [
  {
   "cell_type": "code",
   "execution_count": 1,
   "id": "casual-liquid",
   "metadata": {},
   "outputs": [],
   "source": [
    "import pyspark\n",
    "from pyspark.sql import SparkSession"
   ]
  },
  {
   "cell_type": "code",
   "execution_count": 2,
   "id": "classical-holiday",
   "metadata": {},
   "outputs": [],
   "source": [
    "spark = SparkSession.builder.master(\"spark://spark-master:7077\")\\\n",
    "                            .appName(\"convtype\")\\\n",
    "                            .config(\"spark.executor.memory\", \"6g\")\\\n",
    "                            .getOrCreate()"
   ]
  },
  {
   "cell_type": "code",
   "execution_count": 3,
   "id": "adopted-latex",
   "metadata": {},
   "outputs": [],
   "source": [
    "data = spark.sparkContext.textFile(\"./data/covtype.data.gz\")"
   ]
  },
  {
   "cell_type": "code",
   "execution_count": 4,
   "id": "attractive-marketing",
   "metadata": {},
   "outputs": [
    {
     "name": "stdout",
     "output_type": "stream",
     "text": [
      "2596,51,3,258,0,510,221,232,148,6279,1,0,0,0,0,0,0,0,0,0,0,0,0,0,0,0,0,0,0,0,0,0,0,0,0,0,0,0,0,0,0,0,1,0,0,0,0,0,0,0,0,0,0,0,5\n"
     ]
    },
    {
     "data": {
      "text/plain": [
       "581012"
      ]
     },
     "execution_count": 4,
     "metadata": {},
     "output_type": "execute_result"
    }
   ],
   "source": [
    "print(data.first())\n",
    "data.count()"
   ]
  },
  {
   "cell_type": "code",
   "execution_count": 5,
   "id": "personalized-airplane",
   "metadata": {},
   "outputs": [
    {
     "data": {
      "text/plain": [
       "55"
      ]
     },
     "execution_count": 5,
     "metadata": {},
     "output_type": "execute_result"
    }
   ],
   "source": [
    "raw = data.map(lambda x: x.replace(\"'\",\"\").split(','))\n",
    "raw.first()\n",
    "len(raw.first())"
   ]
  },
  {
   "cell_type": "code",
   "execution_count": 6,
   "id": "written-december",
   "metadata": {},
   "outputs": [],
   "source": [
    "rawDF = spark.createDataFrame(data=raw)"
   ]
  },
  {
   "cell_type": "code",
   "execution_count": 7,
   "id": "innocent-handy",
   "metadata": {},
   "outputs": [
    {
     "name": "stdout",
     "output_type": "stream",
     "text": [
      "+----+---+---+---+---+----+---+---+---+----+---+---+---+---+---+---+---+---+---+---+---+---+---+---+---+---+---+---+---+---+---+---+---+---+---+---+---+---+---+---+---+---+---+---+---+---+---+---+---+---+---+---+---+---+---+\n",
      "|  _1| _2| _3| _4| _5|  _6| _7| _8| _9| _10|_11|_12|_13|_14|_15|_16|_17|_18|_19|_20|_21|_22|_23|_24|_25|_26|_27|_28|_29|_30|_31|_32|_33|_34|_35|_36|_37|_38|_39|_40|_41|_42|_43|_44|_45|_46|_47|_48|_49|_50|_51|_52|_53|_54|_55|\n",
      "+----+---+---+---+---+----+---+---+---+----+---+---+---+---+---+---+---+---+---+---+---+---+---+---+---+---+---+---+---+---+---+---+---+---+---+---+---+---+---+---+---+---+---+---+---+---+---+---+---+---+---+---+---+---+---+\n",
      "|2596| 51|  3|258|  0| 510|221|232|148|6279|  1|  0|  0|  0|  0|  0|  0|  0|  0|  0|  0|  0|  0|  0|  0|  0|  0|  0|  0|  0|  0|  0|  0|  0|  0|  0|  0|  0|  0|  0|  0|  0|  1|  0|  0|  0|  0|  0|  0|  0|  0|  0|  0|  0|  5|\n",
      "|2590| 56|  2|212| -6| 390|220|235|151|6225|  1|  0|  0|  0|  0|  0|  0|  0|  0|  0|  0|  0|  0|  0|  0|  0|  0|  0|  0|  0|  0|  0|  0|  0|  0|  0|  0|  0|  0|  0|  0|  0|  1|  0|  0|  0|  0|  0|  0|  0|  0|  0|  0|  0|  5|\n",
      "|2804|139|  9|268| 65|3180|234|238|135|6121|  1|  0|  0|  0|  0|  0|  0|  0|  0|  0|  0|  0|  0|  0|  0|  1|  0|  0|  0|  0|  0|  0|  0|  0|  0|  0|  0|  0|  0|  0|  0|  0|  0|  0|  0|  0|  0|  0|  0|  0|  0|  0|  0|  0|  2|\n",
      "|2785|155| 18|242|118|3090|238|238|122|6211|  1|  0|  0|  0|  0|  0|  0|  0|  0|  0|  0|  0|  0|  0|  0|  0|  0|  0|  0|  0|  0|  0|  0|  0|  0|  0|  0|  0|  0|  0|  0|  0|  0|  1|  0|  0|  0|  0|  0|  0|  0|  0|  0|  0|  2|\n",
      "|2595| 45|  2|153| -1| 391|220|234|150|6172|  1|  0|  0|  0|  0|  0|  0|  0|  0|  0|  0|  0|  0|  0|  0|  0|  0|  0|  0|  0|  0|  0|  0|  0|  0|  0|  0|  0|  0|  0|  0|  0|  1|  0|  0|  0|  0|  0|  0|  0|  0|  0|  0|  0|  5|\n",
      "+----+---+---+---+---+----+---+---+---+----+---+---+---+---+---+---+---+---+---+---+---+---+---+---+---+---+---+---+---+---+---+---+---+---+---+---+---+---+---+---+---+---+---+---+---+---+---+---+---+---+---+---+---+---+---+\n",
      "only showing top 5 rows\n",
      "\n"
     ]
    }
   ],
   "source": [
    "rawDF.show(5)"
   ]
  },
  {
   "cell_type": "code",
   "execution_count": 8,
   "id": "essential-recognition",
   "metadata": {},
   "outputs": [],
   "source": [
    "from pyspark.sql.types import StructType, StructField, DoubleType, StringType"
   ]
  },
  {
   "cell_type": "code",
   "execution_count": 9,
   "id": "adaptive-somewhere",
   "metadata": {},
   "outputs": [
    {
     "data": {
      "text/plain": [
       "StructType(List(StructField(Elevation,StringType,true),StructField(Aspect,StringType,true),StructField(Slope,StringType,true),StructField(Horizontal_Distance_To_Hydrology,StringType,true),StructField(Vertical_Distance_To_Hydrology,StringType,true),StructField(Horizontal_Distance_To_RoadWays,StringType,true),StructField(Hillshade_9am,StringType,true),StructField(Hillshade_Noon,StringType,true),StructField(Hillshade_3pm,StringType,true),StructField(Horizontal_Distance_To_ire_Points,StringType,true),StructField(Wilderness_Area_1,StringType,true),StructField(Wilderness_Area_2,StringType,true),StructField(Wilderness_Area_3,StringType,true),StructField(Wilderness_Area_4,StringType,true),StructField(Soil_Type_1,StringType,true),StructField(Soil_Type_2,StringType,true),StructField(Soil_Type_3,StringType,true),StructField(Soil_Type_4,StringType,true),StructField(Soil_Type_5,StringType,true),StructField(Soil_Type_6,StringType,true),StructField(Soil_Type_7,StringType,true),StructField(Soil_Type_8,StringType,true),StructField(Soil_Type_9,StringType,true),StructField(Soil_Type_10,StringType,true),StructField(Soil_Type_11,StringType,true),StructField(Soil_Type_12,StringType,true),StructField(Soil_Type_13,StringType,true),StructField(Soil_Type_14,StringType,true),StructField(Soil_Type_15,StringType,true),StructField(Soil_Type_16,StringType,true),StructField(Soil_Type_17,StringType,true),StructField(Soil_Type_18,StringType,true),StructField(Soil_Type_19,StringType,true),StructField(Soil_Type_20,StringType,true),StructField(Soil_Type_21,StringType,true),StructField(Soil_Type_22,StringType,true),StructField(Soil_Type_23,StringType,true),StructField(Soil_Type_24,StringType,true),StructField(Soil_Type_25,StringType,true),StructField(Soil_Type_26,StringType,true),StructField(Soil_Type_27,StringType,true),StructField(Soil_Type_28,StringType,true),StructField(Soil_Type_29,StringType,true),StructField(Soil_Type_30,StringType,true),StructField(Soil_Type_31,StringType,true),StructField(Soil_Type_32,StringType,true),StructField(Soil_Type_33,StringType,true),StructField(Soil_Type_34,StringType,true),StructField(Soil_Type_35,StringType,true),StructField(Soil_Type_36,StringType,true),StructField(Soil_Type_37,StringType,true),StructField(Soil_Type_38,StringType,true),StructField(Soil_Type_39,StringType,true),StructField(Soil_Type_40,StringType,true),StructField(Cover_Type,StringType,true)))"
      ]
     },
     "execution_count": 9,
     "metadata": {},
     "output_type": "execute_result"
    }
   ],
   "source": [
    "schema = StructType([StructField(\"Elevation\", StringType(), True),\n",
    "                    StructField(\"Aspect\", StringType(), True),\n",
    "                    StructField(\"Slope\", StringType(), True),\n",
    "                    StructField(\"Horizontal_Distance_To_Hydrology\", StringType(), True),\n",
    "                    StructField(\"Vertical_Distance_To_Hydrology\", StringType(), True),                     \n",
    "                    StructField(\"Horizontal_Distance_To_RoadWays\", StringType(), True),\n",
    "                    StructField(\"Hillshade_9am\", StringType(), True),\n",
    "                    StructField(\"Hillshade_Noon\", StringType(), True),\n",
    "                    StructField(\"Hillshade_3pm\", StringType(), True),\n",
    "                    StructField(\"Horizontal_Distance_To_ire_Points\", StringType(), True),\n",
    "                    *[StructField(\"Wilderness_Area_\" + str(i), StringType(), True) for i in range(1,5)],                     \n",
    "])\n",
    "for i in range(1, 41):\n",
    "    schema.add(StructField(f\"Soil_Type_{i}\", StringType(), True))\n",
    "\n",
    "schema.add(StructField(\"Cover_Type\", StringType(), True))"
   ]
  },
  {
   "cell_type": "code",
   "execution_count": 10,
   "id": "damaged-moscow",
   "metadata": {},
   "outputs": [],
   "source": [
    "schemedDF = spark.createDataFrame(data=raw, schema=schema)"
   ]
  },
  {
   "cell_type": "code",
   "execution_count": 11,
   "id": "laughing-friendly",
   "metadata": {},
   "outputs": [
    {
     "name": "stdout",
     "output_type": "stream",
     "text": [
      "root\n",
      " |-- Elevation: string (nullable = true)\n",
      " |-- Aspect: string (nullable = true)\n",
      " |-- Slope: string (nullable = true)\n",
      " |-- Horizontal_Distance_To_Hydrology: string (nullable = true)\n",
      " |-- Vertical_Distance_To_Hydrology: string (nullable = true)\n",
      " |-- Horizontal_Distance_To_RoadWays: string (nullable = true)\n",
      " |-- Hillshade_9am: string (nullable = true)\n",
      " |-- Hillshade_Noon: string (nullable = true)\n",
      " |-- Hillshade_3pm: string (nullable = true)\n",
      " |-- Horizontal_Distance_To_ire_Points: string (nullable = true)\n",
      " |-- Wilderness_Area_1: string (nullable = true)\n",
      " |-- Wilderness_Area_2: string (nullable = true)\n",
      " |-- Wilderness_Area_3: string (nullable = true)\n",
      " |-- Wilderness_Area_4: string (nullable = true)\n",
      " |-- Soil_Type_1: string (nullable = true)\n",
      " |-- Soil_Type_2: string (nullable = true)\n",
      " |-- Soil_Type_3: string (nullable = true)\n",
      " |-- Soil_Type_4: string (nullable = true)\n",
      " |-- Soil_Type_5: string (nullable = true)\n",
      " |-- Soil_Type_6: string (nullable = true)\n",
      " |-- Soil_Type_7: string (nullable = true)\n",
      " |-- Soil_Type_8: string (nullable = true)\n",
      " |-- Soil_Type_9: string (nullable = true)\n",
      " |-- Soil_Type_10: string (nullable = true)\n",
      " |-- Soil_Type_11: string (nullable = true)\n",
      " |-- Soil_Type_12: string (nullable = true)\n",
      " |-- Soil_Type_13: string (nullable = true)\n",
      " |-- Soil_Type_14: string (nullable = true)\n",
      " |-- Soil_Type_15: string (nullable = true)\n",
      " |-- Soil_Type_16: string (nullable = true)\n",
      " |-- Soil_Type_17: string (nullable = true)\n",
      " |-- Soil_Type_18: string (nullable = true)\n",
      " |-- Soil_Type_19: string (nullable = true)\n",
      " |-- Soil_Type_20: string (nullable = true)\n",
      " |-- Soil_Type_21: string (nullable = true)\n",
      " |-- Soil_Type_22: string (nullable = true)\n",
      " |-- Soil_Type_23: string (nullable = true)\n",
      " |-- Soil_Type_24: string (nullable = true)\n",
      " |-- Soil_Type_25: string (nullable = true)\n",
      " |-- Soil_Type_26: string (nullable = true)\n",
      " |-- Soil_Type_27: string (nullable = true)\n",
      " |-- Soil_Type_28: string (nullable = true)\n",
      " |-- Soil_Type_29: string (nullable = true)\n",
      " |-- Soil_Type_30: string (nullable = true)\n",
      " |-- Soil_Type_31: string (nullable = true)\n",
      " |-- Soil_Type_32: string (nullable = true)\n",
      " |-- Soil_Type_33: string (nullable = true)\n",
      " |-- Soil_Type_34: string (nullable = true)\n",
      " |-- Soil_Type_35: string (nullable = true)\n",
      " |-- Soil_Type_36: string (nullable = true)\n",
      " |-- Soil_Type_37: string (nullable = true)\n",
      " |-- Soil_Type_38: string (nullable = true)\n",
      " |-- Soil_Type_39: string (nullable = true)\n",
      " |-- Soil_Type_40: string (nullable = true)\n",
      " |-- Cover_Type: string (nullable = true)\n",
      "\n"
     ]
    }
   ],
   "source": [
    "schemedDF.printSchema()"
   ]
  },
  {
   "cell_type": "code",
   "execution_count": 12,
   "id": "recovered-greenhouse",
   "metadata": {},
   "outputs": [
    {
     "data": {
      "text/plain": [
       "<bound method DataFrame.head of DataFrame[Elevation: string, Aspect: string, Slope: string, Horizontal_Distance_To_Hydrology: string, Vertical_Distance_To_Hydrology: string, Horizontal_Distance_To_RoadWays: string, Hillshade_9am: string, Hillshade_Noon: string, Hillshade_3pm: string, Horizontal_Distance_To_ire_Points: string, Wilderness_Area_1: string, Wilderness_Area_2: string, Wilderness_Area_3: string, Wilderness_Area_4: string, Soil_Type_1: string, Soil_Type_2: string, Soil_Type_3: string, Soil_Type_4: string, Soil_Type_5: string, Soil_Type_6: string, Soil_Type_7: string, Soil_Type_8: string, Soil_Type_9: string, Soil_Type_10: string, Soil_Type_11: string, Soil_Type_12: string, Soil_Type_13: string, Soil_Type_14: string, Soil_Type_15: string, Soil_Type_16: string, Soil_Type_17: string, Soil_Type_18: string, Soil_Type_19: string, Soil_Type_20: string, Soil_Type_21: string, Soil_Type_22: string, Soil_Type_23: string, Soil_Type_24: string, Soil_Type_25: string, Soil_Type_26: string, Soil_Type_27: string, Soil_Type_28: string, Soil_Type_29: string, Soil_Type_30: string, Soil_Type_31: string, Soil_Type_32: string, Soil_Type_33: string, Soil_Type_34: string, Soil_Type_35: string, Soil_Type_36: string, Soil_Type_37: string, Soil_Type_38: string, Soil_Type_39: string, Soil_Type_40: string, Cover_Type: string]>"
      ]
     },
     "execution_count": 12,
     "metadata": {},
     "output_type": "execute_result"
    }
   ],
   "source": [
    "schemedDF.head"
   ]
  },
  {
   "cell_type": "code",
   "execution_count": 15,
   "id": "killing-bottom",
   "metadata": {},
   "outputs": [],
   "source": [
    "from pyspark.sql.functions import col\n",
    "\n",
    "for colName in schemedDF.columns:\n",
    "    schemedDF = schemedDF.withColumn(colName, col(colName).cast('double'))"
   ]
  },
  {
   "cell_type": "code",
   "execution_count": 16,
   "id": "alert-ending",
   "metadata": {},
   "outputs": [
    {
     "data": {
      "text/plain": [
       "Row(Elevation=2596.0, Aspect=51.0, Slope=3.0, Horizontal_Distance_To_Hydrology=258.0, Vertical_Distance_To_Hydrology=0.0, Horizontal_Distance_To_RoadWays=510.0, Hillshade_9am=221.0, Hillshade_Noon=232.0, Hillshade_3pm=148.0, Horizontal_Distance_To_ire_Points=6279.0, Wilderness_Area_1=1.0, Wilderness_Area_2=0.0, Wilderness_Area_3=0.0, Wilderness_Area_4=0.0, Soil_Type_1=0.0, Soil_Type_2=0.0, Soil_Type_3=0.0, Soil_Type_4=0.0, Soil_Type_5=0.0, Soil_Type_6=0.0, Soil_Type_7=0.0, Soil_Type_8=0.0, Soil_Type_9=0.0, Soil_Type_10=0.0, Soil_Type_11=0.0, Soil_Type_12=0.0, Soil_Type_13=0.0, Soil_Type_14=0.0, Soil_Type_15=0.0, Soil_Type_16=0.0, Soil_Type_17=0.0, Soil_Type_18=0.0, Soil_Type_19=0.0, Soil_Type_20=0.0, Soil_Type_21=0.0, Soil_Type_22=0.0, Soil_Type_23=0.0, Soil_Type_24=0.0, Soil_Type_25=0.0, Soil_Type_26=0.0, Soil_Type_27=0.0, Soil_Type_28=0.0, Soil_Type_29=1.0, Soil_Type_30=0.0, Soil_Type_31=0.0, Soil_Type_32=0.0, Soil_Type_33=0.0, Soil_Type_34=0.0, Soil_Type_35=0.0, Soil_Type_36=0.0, Soil_Type_37=0.0, Soil_Type_38=0.0, Soil_Type_39=0.0, Soil_Type_40=0.0, Cover_Type=5.0)"
      ]
     },
     "execution_count": 16,
     "metadata": {},
     "output_type": "execute_result"
    }
   ],
   "source": [
    "schemedDF.head()"
   ]
  },
  {
   "cell_type": "code",
   "execution_count": 17,
   "id": "capable-activation",
   "metadata": {},
   "outputs": [],
   "source": [
    "trainData, testData = schemedDF.randomSplit(weights=[0.9, 0.1], seed=13)"
   ]
  },
  {
   "cell_type": "code",
   "execution_count": 18,
   "id": "registered-winning",
   "metadata": {},
   "outputs": [
    {
     "name": "stdout",
     "output_type": "stream",
     "text": [
      "Train Data Count -  523063\n",
      "Test Data Count -  57949\n"
     ]
    }
   ],
   "source": [
    "print('Train Data Count - ', trainData.count())\n",
    "print('Test Data Count - ', testData.count())"
   ]
  },
  {
   "cell_type": "code",
   "execution_count": 19,
   "id": "under-expense",
   "metadata": {},
   "outputs": [
    {
     "data": {
      "text/plain": [
       "DataFrame[Elevation: double, Aspect: double, Slope: double, Horizontal_Distance_To_Hydrology: double, Vertical_Distance_To_Hydrology: double, Horizontal_Distance_To_RoadWays: double, Hillshade_9am: double, Hillshade_Noon: double, Hillshade_3pm: double, Horizontal_Distance_To_ire_Points: double, Wilderness_Area_1: double, Wilderness_Area_2: double, Wilderness_Area_3: double, Wilderness_Area_4: double, Soil_Type_1: double, Soil_Type_2: double, Soil_Type_3: double, Soil_Type_4: double, Soil_Type_5: double, Soil_Type_6: double, Soil_Type_7: double, Soil_Type_8: double, Soil_Type_9: double, Soil_Type_10: double, Soil_Type_11: double, Soil_Type_12: double, Soil_Type_13: double, Soil_Type_14: double, Soil_Type_15: double, Soil_Type_16: double, Soil_Type_17: double, Soil_Type_18: double, Soil_Type_19: double, Soil_Type_20: double, Soil_Type_21: double, Soil_Type_22: double, Soil_Type_23: double, Soil_Type_24: double, Soil_Type_25: double, Soil_Type_26: double, Soil_Type_27: double, Soil_Type_28: double, Soil_Type_29: double, Soil_Type_30: double, Soil_Type_31: double, Soil_Type_32: double, Soil_Type_33: double, Soil_Type_34: double, Soil_Type_35: double, Soil_Type_36: double, Soil_Type_37: double, Soil_Type_38: double, Soil_Type_39: double, Soil_Type_40: double, Cover_Type: double]"
      ]
     },
     "execution_count": 19,
     "metadata": {},
     "output_type": "execute_result"
    }
   ],
   "source": [
    "trainData.cache()\n",
    "testData.cache()"
   ]
  },
  {
   "cell_type": "code",
   "execution_count": 20,
   "id": "running-narrow",
   "metadata": {},
   "outputs": [
    {
     "name": "stdout",
     "output_type": "stream",
     "text": [
      "['Elevation', 'Aspect', 'Slope', 'Horizontal_Distance_To_Hydrology', 'Vertical_Distance_To_Hydrology', 'Horizontal_Distance_To_RoadWays', 'Hillshade_9am', 'Hillshade_Noon', 'Hillshade_3pm', 'Horizontal_Distance_To_ire_Points', 'Wilderness_Area_1', 'Wilderness_Area_2', 'Wilderness_Area_3', 'Wilderness_Area_4', 'Soil_Type_1', 'Soil_Type_2', 'Soil_Type_3', 'Soil_Type_4', 'Soil_Type_5', 'Soil_Type_6', 'Soil_Type_7', 'Soil_Type_8', 'Soil_Type_9', 'Soil_Type_10', 'Soil_Type_11', 'Soil_Type_12', 'Soil_Type_13', 'Soil_Type_14', 'Soil_Type_15', 'Soil_Type_16', 'Soil_Type_17', 'Soil_Type_18', 'Soil_Type_19', 'Soil_Type_20', 'Soil_Type_21', 'Soil_Type_22', 'Soil_Type_23', 'Soil_Type_24', 'Soil_Type_25', 'Soil_Type_26', 'Soil_Type_27', 'Soil_Type_28', 'Soil_Type_29', 'Soil_Type_30', 'Soil_Type_31', 'Soil_Type_32', 'Soil_Type_33', 'Soil_Type_34', 'Soil_Type_35', 'Soil_Type_36', 'Soil_Type_37', 'Soil_Type_38', 'Soil_Type_39', 'Soil_Type_40']\n"
     ]
    }
   ],
   "source": [
    "trainInputCols = trainData.columns\n",
    "trainInputCols.remove('Cover_Type')\n",
    "print(trainInputCols)"
   ]
  },
  {
   "cell_type": "code",
   "execution_count": 21,
   "id": "wrapped-equality",
   "metadata": {},
   "outputs": [
    {
     "name": "stdout",
     "output_type": "stream",
     "text": [
      "+----------+\n",
      "|Cover_Type|\n",
      "+----------+\n",
      "|       7.0|\n",
      "|       1.0|\n",
      "|       4.0|\n",
      "|       3.0|\n",
      "|       2.0|\n",
      "|       6.0|\n",
      "|       5.0|\n",
      "+----------+\n",
      "\n"
     ]
    }
   ],
   "source": [
    "trainData.select(\"Cover_Type\").distinct().show()"
   ]
  },
  {
   "cell_type": "code",
   "execution_count": 22,
   "id": "green-playing",
   "metadata": {},
   "outputs": [],
   "source": [
    "from pyspark.ml.linalg import Vectors\n",
    "from pyspark.ml.feature import VectorAssembler"
   ]
  },
  {
   "cell_type": "code",
   "execution_count": 23,
   "id": "collaborative-little",
   "metadata": {},
   "outputs": [
    {
     "name": "stdout",
     "output_type": "stream",
     "text": [
      "+----------------------------------------------------------------------------------------------------+\n",
      "|trainFeatureVector                                                                                  |\n",
      "+----------------------------------------------------------------------------------------------------+\n",
      "|(54,[0,1,2,3,4,5,6,7,8,9,13,15],[1859.0,18.0,12.0,67.0,11.0,90.0,211.0,215.0,139.0,792.0,1.0,1.0])  |\n",
      "|(54,[0,1,2,3,4,5,6,7,8,9,13,15],[1861.0,35.0,14.0,60.0,11.0,85.0,218.0,209.0,124.0,832.0,1.0,1.0])  |\n",
      "|(54,[0,1,2,3,4,5,6,7,8,9,13,15],[1863.0,37.0,17.0,120.0,18.0,90.0,217.0,202.0,115.0,769.0,1.0,1.0]) |\n",
      "|(54,[0,1,2,3,4,5,6,7,8,9,13,15],[1866.0,23.0,14.0,85.0,16.0,108.0,212.0,210.0,133.0,819.0,1.0,1.0]) |\n",
      "|(54,[0,1,2,3,4,5,6,7,8,9,13,15],[1867.0,20.0,15.0,108.0,19.0,120.0,208.0,206.0,132.0,808.0,1.0,1.0])|\n",
      "+----------------------------------------------------------------------------------------------------+\n",
      "only showing top 5 rows\n",
      "\n"
     ]
    }
   ],
   "source": [
    "assembler = VectorAssembler(inputCols=trainInputCols,\n",
    "                            outputCol=\"trainFeatureVector\")\n",
    "\n",
    "assembledTrainData = assembler.transform(trainData)\n",
    "assembledTrainData.select(\"trainFeatureVector\").show(5, truncate=False)"
   ]
  },
  {
   "cell_type": "code",
   "execution_count": 24,
   "id": "educational-blues",
   "metadata": {},
   "outputs": [],
   "source": [
    "from pyspark.ml.classification import DecisionTreeClassifier"
   ]
  },
  {
   "cell_type": "code",
   "execution_count": 25,
   "id": "interracial-little",
   "metadata": {},
   "outputs": [],
   "source": [
    "classifier = DecisionTreeClassifier(seed=13,\n",
    "                                    featuresCol=\"trainFeatureVector\",\n",
    "                                    labelCol=\"Cover_Type\",\n",
    "                                    predictionCol=\"prediction\")"
   ]
  },
  {
   "cell_type": "code",
   "execution_count": 26,
   "id": "level-dialogue",
   "metadata": {},
   "outputs": [],
   "source": [
    "model = classifier.fit(assembledTrainData)"
   ]
  },
  {
   "cell_type": "code",
   "execution_count": 27,
   "id": "fancy-contest",
   "metadata": {},
   "outputs": [
    {
     "name": "stdout",
     "output_type": "stream",
     "text": [
      "('DecisionTreeClassificationModel: uid=DecisionTreeClassifier_5c168896ad23, '\n",
      " 'depth=5, numNodes=43, numClasses=8, numFeatures=54\\n'\n",
      " '  If (feature 0 <= 3052.5)\\n'\n",
      " '   If (feature 0 <= 2540.5)\\n'\n",
      " '    If (feature 10 <= 0.5)\\n'\n",
      " '     If (feature 0 <= 2429.5)\\n'\n",
      " '      If (feature 3 <= 15.0)\\n'\n",
      " '       Predict: 4.0\\n'\n",
      " '      Else (feature 3 > 15.0)\\n'\n",
      " '       Predict: 3.0\\n'\n",
      " '     Else (feature 0 > 2429.5)\\n'\n",
      " '      Predict: 3.0\\n'\n",
      " '    Else (feature 10 > 0.5)\\n'\n",
      " '     If (feature 9 <= 4633.0)\\n'\n",
      " '      Predict: 2.0\\n'\n",
      " '     Else (feature 9 > 4633.0)\\n'\n",
      " '      If (feature 5 <= 877.0)\\n'\n",
      " '       Predict: 5.0\\n'\n",
      " '      Else (feature 5 > 877.0)\\n'\n",
      " '       Predict: 2.0\\n'\n",
      " '   Else (feature 0 > 2540.5)\\n'\n",
      " '    If (feature 0 <= 2957.5)\\n'\n",
      " '     If (feature 15 <= 0.5)\\n'\n",
      " '      If (feature 17 <= 0.5)\\n'\n",
      " '       Predict: 2.0\\n'\n",
      " '      Else (feature 17 > 0.5)\\n'\n",
      " '       Predict: 3.0\\n'\n",
      " '     Else (feature 15 > 0.5)\\n'\n",
      " '      Predict: 3.0\\n'\n",
      " '    Else (feature 0 > 2957.5)\\n'\n",
      " '     If (feature 3 <= 191.0)\\n'\n",
      " '      If (feature 36 <= 0.5)\\n'\n",
      " '       Predict: 2.0\\n'\n",
      " '      Else (feature 36 > 0.5)\\n'\n",
      " '       Predict: 1.0\\n'\n",
      " '     Else (feature 3 > 191.0)\\n'\n",
      " '      Predict: 2.0\\n'\n",
      " '  Else (feature 0 > 3052.5)\\n'\n",
      " '   If (feature 0 <= 3311.5)\\n'\n",
      " '    If (feature 7 <= 240.5)\\n'\n",
      " '     If (feature 45 <= 0.5)\\n'\n",
      " '      Predict: 1.0\\n'\n",
      " '     Else (feature 45 > 0.5)\\n'\n",
      " '      If (feature 5 <= 3897.5)\\n'\n",
      " '       Predict: 2.0\\n'\n",
      " '      Else (feature 5 > 3897.5)\\n'\n",
      " '       Predict: 1.0\\n'\n",
      " '    Else (feature 7 > 240.5)\\n'\n",
      " '     If (feature 3 <= 316.0)\\n'\n",
      " '      Predict: 1.0\\n'\n",
      " '     Else (feature 3 > 316.0)\\n'\n",
      " '      If (feature 0 <= 3205.5)\\n'\n",
      " '       Predict: 2.0\\n'\n",
      " '      Else (feature 0 > 3205.5)\\n'\n",
      " '       Predict: 1.0\\n'\n",
      " '   Else (feature 0 > 3311.5)\\n'\n",
      " '    If (feature 12 <= 0.5)\\n'\n",
      " '     Predict: 1.0\\n'\n",
      " '    Else (feature 12 > 0.5)\\n'\n",
      " '     If (feature 45 <= 0.5)\\n'\n",
      " '      Predict: 7.0\\n'\n",
      " '     Else (feature 45 > 0.5)\\n'\n",
      " '      If (feature 5 <= 991.0)\\n'\n",
      " '       Predict: 7.0\\n'\n",
      " '      Else (feature 5 > 991.0)\\n'\n",
      " '       Predict: 1.0\\n')\n"
     ]
    }
   ],
   "source": [
    "import pprint\n",
    "pprint.pprint(model.toDebugString)"
   ]
  },
  {
   "cell_type": "code",
   "execution_count": 28,
   "id": "approximate-plasma",
   "metadata": {},
   "outputs": [
    {
     "name": "stdout",
     "output_type": "stream",
     "text": [
      "Elevation 0.8089191402843596\n",
      "Aspect 0.0\n",
      "Slope 0.0\n",
      "Horizontal_Distance_To_Hydrology 0.03784006969010683\n",
      "Vertical_Distance_To_Hydrology 0.0\n",
      "Horizontal_Distance_To_RoadWays 0.006506837799972758\n",
      "Hillshade_9am 0.0\n",
      "Hillshade_Noon 0.025836882606185087\n",
      "Hillshade_3pm 0.0\n",
      "Horizontal_Distance_To_ire_Points 0.0004282934147880387\n",
      "Wilderness_Area_1 0.019998876874341355\n",
      "Wilderness_Area_2 0.0\n",
      "Wilderness_Area_3 0.011843193242447668\n",
      "Wilderness_Area_4 0.0\n",
      "Soil_Type_1 0.0\n",
      "Soil_Type_2 0.027341994298035327\n",
      "Soil_Type_3 0.0\n",
      "Soil_Type_4 0.026801367923066442\n",
      "Soil_Type_5 0.0\n",
      "Soil_Type_6 0.0\n",
      "Soil_Type_7 0.0\n",
      "Soil_Type_8 0.0\n",
      "Soil_Type_9 0.0\n",
      "Soil_Type_10 0.0\n",
      "Soil_Type_11 0.0\n",
      "Soil_Type_12 0.0\n",
      "Soil_Type_13 0.0\n",
      "Soil_Type_14 0.0\n",
      "Soil_Type_15 0.0\n",
      "Soil_Type_16 0.0\n",
      "Soil_Type_17 0.0\n",
      "Soil_Type_18 0.0\n",
      "Soil_Type_19 0.0\n",
      "Soil_Type_20 0.0\n",
      "Soil_Type_21 0.0\n",
      "Soil_Type_22 0.0\n",
      "Soil_Type_23 0.005626083224378807\n",
      "Soil_Type_24 0.0\n",
      "Soil_Type_25 0.0\n",
      "Soil_Type_26 0.0\n",
      "Soil_Type_27 0.0\n",
      "Soil_Type_28 0.0\n",
      "Soil_Type_29 0.0\n",
      "Soil_Type_30 0.0\n",
      "Soil_Type_31 0.0\n",
      "Soil_Type_32 0.028857260642318177\n",
      "Soil_Type_33 0.0\n",
      "Soil_Type_34 0.0\n",
      "Soil_Type_35 0.0\n",
      "Soil_Type_36 0.0\n",
      "Soil_Type_37 0.0\n",
      "Soil_Type_38 0.0\n",
      "Soil_Type_39 0.0\n",
      "Soil_Type_40 0.0\n"
     ]
    }
   ],
   "source": [
    "for c, i  in zip(trainInputCols, model.featureImportances):\n",
    "    print(c, i)"
   ]
  },
  {
   "cell_type": "code",
   "execution_count": 29,
   "id": "delayed-layer",
   "metadata": {},
   "outputs": [
    {
     "name": "stdout",
     "output_type": "stream",
     "text": [
      "+----------+----------+-----------------------------------------------------------------------------------------------+\n",
      "|Cover_Type|prediction|probability                                                                                    |\n",
      "+----------+----------+-----------------------------------------------------------------------------------------------+\n",
      "|3.0       |3.0       |[0.0,0.0,0.02713077181082995,0.639734655088883,0.05485782432079902,0.0,0.27827674877948794,0.0]|\n",
      "|3.0       |3.0       |[0.0,0.0,0.02713077181082995,0.639734655088883,0.05485782432079902,0.0,0.27827674877948794,0.0]|\n",
      "|6.0       |3.0       |[0.0,0.0,0.02713077181082995,0.639734655088883,0.05485782432079902,0.0,0.27827674877948794,0.0]|\n",
      "|3.0       |3.0       |[0.0,0.0,0.02713077181082995,0.639734655088883,0.05485782432079902,0.0,0.27827674877948794,0.0]|\n",
      "|3.0       |3.0       |[0.0,0.0,0.02713077181082995,0.639734655088883,0.05485782432079902,0.0,0.27827674877948794,0.0]|\n",
      "|3.0       |3.0       |[0.0,0.0,0.02713077181082995,0.639734655088883,0.05485782432079902,0.0,0.27827674877948794,0.0]|\n",
      "|6.0       |3.0       |[0.0,0.0,0.02713077181082995,0.639734655088883,0.05485782432079902,0.0,0.27827674877948794,0.0]|\n",
      "|6.0       |3.0       |[0.0,0.0,0.02713077181082995,0.639734655088883,0.05485782432079902,0.0,0.27827674877948794,0.0]|\n",
      "|6.0       |3.0       |[0.0,0.0,0.02713077181082995,0.639734655088883,0.05485782432079902,0.0,0.27827674877948794,0.0]|\n",
      "|6.0       |3.0       |[0.0,0.0,0.02713077181082995,0.639734655088883,0.05485782432079902,0.0,0.27827674877948794,0.0]|\n",
      "|3.0       |3.0       |[0.0,0.0,0.02713077181082995,0.639734655088883,0.05485782432079902,0.0,0.27827674877948794,0.0]|\n",
      "|6.0       |3.0       |[0.0,0.0,0.02713077181082995,0.639734655088883,0.05485782432079902,0.0,0.27827674877948794,0.0]|\n",
      "|6.0       |3.0       |[0.0,0.0,0.02713077181082995,0.639734655088883,0.05485782432079902,0.0,0.27827674877948794,0.0]|\n",
      "|3.0       |3.0       |[0.0,0.0,0.02713077181082995,0.639734655088883,0.05485782432079902,0.0,0.27827674877948794,0.0]|\n",
      "|6.0       |4.0       |[0.0,0.0,0.03663691874119305,0.28511038046031,0.4607797087834664,0.0,0.21747299201503054,0.0]  |\n",
      "|3.0       |3.0       |[0.0,0.0,0.02713077181082995,0.639734655088883,0.05485782432079902,0.0,0.27827674877948794,0.0]|\n",
      "|6.0       |3.0       |[0.0,0.0,0.02713077181082995,0.639734655088883,0.05485782432079902,0.0,0.27827674877948794,0.0]|\n",
      "|3.0       |3.0       |[0.0,0.0,0.02713077181082995,0.639734655088883,0.05485782432079902,0.0,0.27827674877948794,0.0]|\n",
      "|6.0       |3.0       |[0.0,0.0,0.02713077181082995,0.639734655088883,0.05485782432079902,0.0,0.27827674877948794,0.0]|\n",
      "|6.0       |3.0       |[0.0,0.0,0.02713077181082995,0.639734655088883,0.05485782432079902,0.0,0.27827674877948794,0.0]|\n",
      "+----------+----------+-----------------------------------------------------------------------------------------------+\n",
      "only showing top 20 rows\n",
      "\n"
     ]
    }
   ],
   "source": [
    "prediction = model.transform(assembledTrainData)\n",
    "prediction.select(\"Cover_Type\", \"prediction\", \"probability\").show(truncate=False)"
   ]
  },
  {
   "cell_type": "code",
   "execution_count": 30,
   "id": "signed-mention",
   "metadata": {},
   "outputs": [],
   "source": [
    "from pyspark.ml.evaluation import MulticlassClassificationEvaluator"
   ]
  },
  {
   "cell_type": "code",
   "execution_count": 31,
   "id": "rocky-release",
   "metadata": {},
   "outputs": [],
   "source": [
    "evaluator = MulticlassClassificationEvaluator(labelCol=\"Cover_Type\",\n",
    "                                              predictionCol=\"prediction\")"
   ]
  },
  {
   "cell_type": "code",
   "execution_count": 32,
   "id": "vulnerable-search",
   "metadata": {},
   "outputs": [
    {
     "name": "stdout",
     "output_type": "stream",
     "text": [
      "ACC -  0.6998870116983996\n",
      "F1 -  0.6818200208761772\n"
     ]
    }
   ],
   "source": [
    "accuracy = evaluator.setMetricName(\"accuracy\").evaluate(prediction)\n",
    "f1 = evaluator.setMetricName(\"f1\").evaluate(prediction)\n",
    "\n",
    "print(\"ACC - \", accuracy)\n",
    "print(\"F1 - \", f1)\n"
   ]
  },
  {
   "cell_type": "code",
   "execution_count": 33,
   "id": "simplified-outside",
   "metadata": {},
   "outputs": [],
   "source": [
    "from pyspark.mllib.evaluation import MulticlassMetrics"
   ]
  },
  {
   "cell_type": "code",
   "execution_count": 34,
   "id": "unlimited-florist",
   "metadata": {},
   "outputs": [],
   "source": [
    "predictionRDD = prediction.select(\"prediction\", \"Cover_Type\").rdd"
   ]
  },
  {
   "cell_type": "code",
   "execution_count": 35,
   "id": "billion-affairs",
   "metadata": {},
   "outputs": [
    {
     "data": {
      "text/plain": [
       "PythonRDD[124] at RDD at PythonRDD.scala:53"
      ]
     },
     "execution_count": 35,
     "metadata": {},
     "output_type": "execute_result"
    }
   ],
   "source": [
    "predictionRDD.map(lambda row : [double(c) for c in row])"
   ]
  },
  {
   "cell_type": "code",
   "execution_count": 36,
   "id": "available-capital",
   "metadata": {},
   "outputs": [
    {
     "data": {
      "text/plain": [
       "Row(prediction=3.0, Cover_Type=3.0)"
      ]
     },
     "execution_count": 36,
     "metadata": {},
     "output_type": "execute_result"
    }
   ],
   "source": [
    "predictionRDD.first()"
   ]
  },
  {
   "cell_type": "code",
   "execution_count": 37,
   "id": "inappropriate-purpose",
   "metadata": {},
   "outputs": [
    {
     "data": {
      "text/plain": [
       "array([[1.26587e+05, 6.00300e+04, 2.03000e+02, 0.00000e+00, 0.00000e+00,\n",
       "        0.00000e+00, 3.82100e+03],\n",
       "       [4.62740e+04, 2.00853e+05, 7.28400e+03, 7.80000e+01, 1.05000e+02,\n",
       "        0.00000e+00, 4.57000e+02],\n",
       "       [0.00000e+00, 2.57900e+03, 2.90340e+04, 6.07000e+02, 0.00000e+00,\n",
       "        0.00000e+00, 0.00000e+00],\n",
       "       [0.00000e+00, 0.00000e+00, 1.50700e+03, 9.81000e+02, 0.00000e+00,\n",
       "        0.00000e+00, 0.00000e+00],\n",
       "       [3.00000e+00, 7.71900e+03, 7.70000e+02, 0.00000e+00, 1.14000e+02,\n",
       "        0.00000e+00, 0.00000e+00],\n",
       "       [0.00000e+00, 3.38400e+03, 1.17930e+04, 4.63000e+02, 0.00000e+00,\n",
       "        0.00000e+00, 0.00000e+00],\n",
       "       [9.75200e+03, 9.20000e+01, 5.70000e+01, 0.00000e+00, 0.00000e+00,\n",
       "        0.00000e+00, 8.51600e+03]])"
      ]
     },
     "execution_count": 37,
     "metadata": {},
     "output_type": "execute_result"
    }
   ],
   "source": [
    "metrics = MulticlassMetrics(predictionRDD)\n",
    "metrics.confusionMatrix().toArray()"
   ]
  },
  {
   "cell_type": "code",
   "execution_count": 38,
   "id": "refined-printer",
   "metadata": {},
   "outputs": [],
   "source": [
    "confusionMatrix = prediction.groupBy(\"Cover_Type\") \\\n",
    "                            .pivot(\"prediction\", range(1,8)) \\\n",
    "                            .count() \\\n",
    "                            .na.fill(0.0) \\\n",
    "                            .orderBy(\"Cover_Type\")"
   ]
  },
  {
   "cell_type": "code",
   "execution_count": 39,
   "id": "institutional-doubt",
   "metadata": {},
   "outputs": [
    {
     "name": "stdout",
     "output_type": "stream",
     "text": [
      "+----------+------+------+-----+---+---+---+----+\n",
      "|Cover_Type|     1|     2|    3|  4|  5|  6|   7|\n",
      "+----------+------+------+-----+---+---+---+----+\n",
      "|       1.0|126587| 60030|  203|  0|  0|  0|3821|\n",
      "|       2.0| 46274|200853| 7284| 78|105|  0| 457|\n",
      "|       3.0|     0|  2579|29034|607|  0|  0|   0|\n",
      "|       4.0|     0|     0| 1507|981|  0|  0|   0|\n",
      "|       5.0|     3|  7719|  770|  0|114|  0|   0|\n",
      "|       6.0|     0|  3384|11793|463|  0|  0|   0|\n",
      "|       7.0|  9752|    92|   57|  0|  0|  0|8516|\n",
      "+----------+------+------+-----+---+---+---+----+\n",
      "\n"
     ]
    }
   ],
   "source": [
    "confusionMatrix.show()"
   ]
  },
  {
   "cell_type": "code",
   "execution_count": 40,
   "id": "secondary-sunrise",
   "metadata": {},
   "outputs": [],
   "source": [
    "def classProbabilities(df):\n",
    "    total = df.count()\n",
    "    res = df.groupBy(\"Cover_Type\") \\\n",
    "            .count() \\\n",
    "            .orderBy(\"Cover_Type\") \\\n",
    "            .withColumn(\"prob\", col(\"count\") / total)\n",
    "    return res.select(\"Cover_Type\", \"prob\")"
   ]
  },
  {
   "cell_type": "code",
   "execution_count": 41,
   "id": "suspended-challenge",
   "metadata": {},
   "outputs": [],
   "source": [
    "trainPriorProbabilities = classProbabilities(trainData)\n",
    "testPriorProbabilities = classProbabilities(testData)"
   ]
  },
  {
   "cell_type": "code",
   "execution_count": 42,
   "id": "rough-dryer",
   "metadata": {},
   "outputs": [
    {
     "name": "stdout",
     "output_type": "stream",
     "text": [
      "+----------+--------------------+--------------------+\n",
      "|Cover_Type|          train_prob|                prob|\n",
      "+----------+--------------------+--------------------+\n",
      "|       7.0|0.035209907793133904| 0.03611796579751161|\n",
      "|       1.0|  0.3644704366395635|  0.3658216707794785|\n",
      "|       4.0|0.004756597197660...|0.004469447272601771|\n",
      "|       3.0| 0.06159869843594366| 0.06098465892422648|\n",
      "|       2.0| 0.48761047904363336|  0.4874976272239383|\n",
      "|       6.0|0.029900795888831745|0.029802067335070494|\n",
      "|       5.0| 0.01645308500123312| 0.01530656266717286|\n",
      "+----------+--------------------+--------------------+\n",
      "\n"
     ]
    }
   ],
   "source": [
    "priorProbabilities = trainPriorProbabilities.select(col(\"Cover_Type\"), col(\"prob\").alias(\"train_prob\")).join(testPriorProbabilities, on='Cover_Type')\n",
    "priorProbabilities.show()"
   ]
  },
  {
   "cell_type": "code",
   "execution_count": 43,
   "id": "regulation-apparatus",
   "metadata": {},
   "outputs": [],
   "source": [
    "multipliedProb = priorProbabilities.withColumn(\"multipliedProb\", col(\"train_prob\") * col(\"prob\"))"
   ]
  },
  {
   "cell_type": "code",
   "execution_count": 44,
   "id": "considerable-acting",
   "metadata": {},
   "outputs": [
    {
     "name": "stdout",
     "output_type": "stream",
     "text": [
      "+----------+--------------------+--------------------+--------------------+\n",
      "|Cover_Type|          train_prob|                prob|      multipliedProb|\n",
      "+----------+--------------------+--------------------+--------------------+\n",
      "|       7.0|0.035209907793133904| 0.03611796579751161|0.001271710245405...|\n",
      "|       1.0|  0.3644704366395635|  0.3658216707794785|  0.1333311840812112|\n",
      "|       4.0|0.004756597197660...|0.004469447272601771|2.125936037194985...|\n",
      "|       3.0| 0.06159869843594366| 0.06098465892422648|0.003756575614292...|\n",
      "|       2.0| 0.48761047904363336|  0.4874976272239383| 0.23770895154329916|\n",
      "|       6.0|0.029900795888831745|0.029802067335070494|8.911055324511627E-4|\n",
      "|       5.0| 0.01645308500123312| 0.01530656266717286|2.518401766396966E-4|\n",
      "+----------+--------------------+--------------------+--------------------+\n",
      "\n"
     ]
    }
   ],
   "source": [
    "multipliedProb.show()"
   ]
  },
  {
   "cell_type": "code",
   "execution_count": 45,
   "id": "healthy-filename",
   "metadata": {},
   "outputs": [
    {
     "name": "stdout",
     "output_type": "stream",
     "text": [
      "+-------------------+\n",
      "|sum(multipliedProb)|\n",
      "+-------------------+\n",
      "|0.37723262655367135|\n",
      "+-------------------+\n",
      "\n"
     ]
    }
   ],
   "source": [
    "multipliedProb.select(\"multipliedProb\").groupBy().sum().show()"
   ]
  },
  {
   "cell_type": "code",
   "execution_count": 46,
   "id": "stopped-abraham",
   "metadata": {},
   "outputs": [],
   "source": [
    "from pyspark.ml import Pipeline, PipelineModel\n",
    "    \n",
    "pipeline = Pipeline(stages=[assembler, classifier])"
   ]
  },
  {
   "cell_type": "code",
   "execution_count": 47,
   "id": "widespread-accommodation",
   "metadata": {},
   "outputs": [],
   "source": [
    "from pyspark.ml.tuning import ParamGridBuilder"
   ]
  },
  {
   "cell_type": "code",
   "execution_count": 48,
   "id": "considered-alaska",
   "metadata": {},
   "outputs": [],
   "source": [
    "paramGrid = ParamGridBuilder().addGrid(classifier.impurity, [\"gini\", \"entropy\"]) \\\n",
    "                            .addGrid(classifier.maxDepth, [1, 20]) \\\n",
    "                            .addGrid(classifier.maxBins, [40, 300]) \\\n",
    "                            .addGrid(classifier.minInfoGain, [0.0, 0.05]) \\\n",
    "                            .build()"
   ]
  },
  {
   "cell_type": "code",
   "execution_count": 49,
   "id": "alive-scope",
   "metadata": {},
   "outputs": [],
   "source": [
    "multiclassEval = MulticlassClassificationEvaluator(labelCol=\"Cover_Type\", predictionCol=\"prediction\", metricName=\"accuracy\")"
   ]
  },
  {
   "cell_type": "code",
   "execution_count": 50,
   "id": "trying-pickup",
   "metadata": {},
   "outputs": [],
   "source": [
    "from pyspark.ml.tuning import TrainValidationSplitModel, TrainValidationSplit"
   ]
  },
  {
   "cell_type": "code",
   "execution_count": 51,
   "id": "demanding-flour",
   "metadata": {},
   "outputs": [],
   "source": [
    "validator = TrainValidationSplit(estimator=pipeline, \n",
    "                                estimatorParamMaps=paramGrid,\n",
    "                                evaluator=multiclassEval,\n",
    "                                trainRatio=0.9,\n",
    "                                parallelism=4)"
   ]
  },
  {
   "cell_type": "code",
   "execution_count": 52,
   "id": "pharmaceutical-chambers",
   "metadata": {},
   "outputs": [],
   "source": [
    "validatorModel = validator.fit(trainData)"
   ]
  },
  {
   "cell_type": "code",
   "execution_count": 53,
   "id": "dated-cathedral",
   "metadata": {},
   "outputs": [
    {
     "name": "stdout",
     "output_type": "stream",
     "text": [
      "{Param(parent='DecisionTreeClassifier_5c168896ad23', name='cacheNodeIds', doc='If false, the algorithm will pass trees to executors to match instances with nodes. If true, the algorithm will cache node IDs for each instance. Caching can speed up training of deeper trees. Users can set how often should the cache be checkpointed or disable it by setting checkpointInterval.'): False,\n",
      " Param(parent='DecisionTreeClassifier_5c168896ad23', name='checkpointInterval', doc='set checkpoint interval (>= 1) or disable checkpoint (-1). E.g. 10 means that the cache will get checkpointed every 10 iterations. Note: this setting will be ignored if the checkpoint directory is not set in the SparkContext.'): 10,\n",
      " Param(parent='DecisionTreeClassifier_5c168896ad23', name='predictionCol', doc='prediction column name.'): 'prediction',\n",
      " Param(parent='DecisionTreeClassifier_5c168896ad23', name='leafCol', doc='Leaf indices column name. Predicted leaf index of each instance in each tree by preorder.'): '',\n",
      " Param(parent='DecisionTreeClassifier_5c168896ad23', name='rawPredictionCol', doc='raw prediction (a.k.a. confidence) column name.'): 'rawPrediction',\n",
      " Param(parent='DecisionTreeClassifier_5c168896ad23', name='labelCol', doc='label column name.'): 'Cover_Type',\n",
      " Param(parent='DecisionTreeClassifier_5c168896ad23', name='maxBins', doc='Max number of bins for discretizing continuous features.  Must be >=2 and >= number of categories for any categorical feature.'): 40,\n",
      " Param(parent='DecisionTreeClassifier_5c168896ad23', name='minInstancesPerNode', doc='Minimum number of instances each child must have after split. If a split causes the left or right child to have fewer than minInstancesPerNode, the split will be discarded as invalid. Should be >= 1.'): 1,\n",
      " Param(parent='DecisionTreeClassifier_5c168896ad23', name='probabilityCol', doc='Column name for predicted class conditional probabilities. Note: Not all models output well-calibrated probability estimates! These probabilities should be treated as confidences, not precise probabilities.'): 'probability',\n",
      " Param(parent='DecisionTreeClassifier_5c168896ad23', name='featuresCol', doc='features column name.'): 'trainFeatureVector',\n",
      " Param(parent='DecisionTreeClassifier_5c168896ad23', name='maxMemoryInMB', doc='Maximum memory in MB allocated to histogram aggregation. If too small, then 1 node will be split per iteration, and its aggregates may exceed this size.'): 256,\n",
      " Param(parent='DecisionTreeClassifier_5c168896ad23', name='impurity', doc='Criterion used for information gain calculation (case-insensitive). Supported options: entropy, gini'): 'entropy',\n",
      " Param(parent='DecisionTreeClassifier_5c168896ad23', name='minWeightFractionPerNode', doc='Minimum fraction of the weighted sample count that each child must have after split. If a split causes the fraction of the total weight in the left or right child to be less than minWeightFractionPerNode, the split will be discarded as invalid. Should be in interval [0.0, 0.5).'): 0.0,\n",
      " Param(parent='DecisionTreeClassifier_5c168896ad23', name='seed', doc='random seed.'): 13,\n",
      " Param(parent='DecisionTreeClassifier_5c168896ad23', name='minInfoGain', doc='Minimum information gain for a split to be considered at a tree node.'): 0.0,\n",
      " Param(parent='DecisionTreeClassifier_5c168896ad23', name='maxDepth', doc='Maximum depth of the tree. (>= 0) E.g., depth 0 means 1 leaf node; depth 1 means 1 internal node + 2 leaf nodes.'): 20}\n"
     ]
    }
   ],
   "source": [
    "pprint.pprint(validatorModel.bestModel.stages[-1].extractParamMap())"
   ]
  },
  {
   "cell_type": "code",
   "execution_count": 54,
   "id": "heard-interest",
   "metadata": {},
   "outputs": [],
   "source": [
    "paramsAndMetrics = zip( validatorModel.validationMetrics, validatorModel.getEstimatorParamMaps())"
   ]
  },
  {
   "cell_type": "code",
   "execution_count": 55,
   "id": "living-shift",
   "metadata": {},
   "outputs": [
    {
     "name": "stdout",
     "output_type": "stream",
     "text": [
      "0.6330914808570292 {Param(parent='DecisionTreeClassifier_5c168896ad23', name='impurity', doc='Criterion used for information gain calculation (case-insensitive). Supported options: entropy, gini'): 'gini', Param(parent='DecisionTreeClassifier_5c168896ad23', name='maxDepth', doc='Maximum depth of the tree. (>= 0) E.g., depth 0 means 1 leaf node; depth 1 means 1 internal node + 2 leaf nodes.'): 1, Param(parent='DecisionTreeClassifier_5c168896ad23', name='maxBins', doc='Max number of bins for discretizing continuous features.  Must be >=2 and >= number of categories for any categorical feature.'): 40, Param(parent='DecisionTreeClassifier_5c168896ad23', name='minInfoGain', doc='Minimum information gain for a split to be considered at a tree node.'): 0.0}\n",
      "0.6330914808570292 {Param(parent='DecisionTreeClassifier_5c168896ad23', name='impurity', doc='Criterion used for information gain calculation (case-insensitive). Supported options: entropy, gini'): 'gini', Param(parent='DecisionTreeClassifier_5c168896ad23', name='maxDepth', doc='Maximum depth of the tree. (>= 0) E.g., depth 0 means 1 leaf node; depth 1 means 1 internal node + 2 leaf nodes.'): 1, Param(parent='DecisionTreeClassifier_5c168896ad23', name='maxBins', doc='Max number of bins for discretizing continuous features.  Must be >=2 and >= number of categories for any categorical feature.'): 40, Param(parent='DecisionTreeClassifier_5c168896ad23', name='minInfoGain', doc='Minimum information gain for a split to be considered at a tree node.'): 0.05}\n",
      "0.6354784321897436 {Param(parent='DecisionTreeClassifier_5c168896ad23', name='impurity', doc='Criterion used for information gain calculation (case-insensitive). Supported options: entropy, gini'): 'gini', Param(parent='DecisionTreeClassifier_5c168896ad23', name='maxDepth', doc='Maximum depth of the tree. (>= 0) E.g., depth 0 means 1 leaf node; depth 1 means 1 internal node + 2 leaf nodes.'): 1, Param(parent='DecisionTreeClassifier_5c168896ad23', name='maxBins', doc='Max number of bins for discretizing continuous features.  Must be >=2 and >= number of categories for any categorical feature.'): 300, Param(parent='DecisionTreeClassifier_5c168896ad23', name='minInfoGain', doc='Minimum information gain for a split to be considered at a tree node.'): 0.0}\n",
      "0.6354784321897436 {Param(parent='DecisionTreeClassifier_5c168896ad23', name='impurity', doc='Criterion used for information gain calculation (case-insensitive). Supported options: entropy, gini'): 'gini', Param(parent='DecisionTreeClassifier_5c168896ad23', name='maxDepth', doc='Maximum depth of the tree. (>= 0) E.g., depth 0 means 1 leaf node; depth 1 means 1 internal node + 2 leaf nodes.'): 1, Param(parent='DecisionTreeClassifier_5c168896ad23', name='maxBins', doc='Max number of bins for discretizing continuous features.  Must be >=2 and >= number of categories for any categorical feature.'): 300, Param(parent='DecisionTreeClassifier_5c168896ad23', name='minInfoGain', doc='Minimum information gain for a split to be considered at a tree node.'): 0.05}\n",
      "0.9028927576865516 {Param(parent='DecisionTreeClassifier_5c168896ad23', name='impurity', doc='Criterion used for information gain calculation (case-insensitive). Supported options: entropy, gini'): 'gini', Param(parent='DecisionTreeClassifier_5c168896ad23', name='maxDepth', doc='Maximum depth of the tree. (>= 0) E.g., depth 0 means 1 leaf node; depth 1 means 1 internal node + 2 leaf nodes.'): 20, Param(parent='DecisionTreeClassifier_5c168896ad23', name='maxBins', doc='Max number of bins for discretizing continuous features.  Must be >=2 and >= number of categories for any categorical feature.'): 40, Param(parent='DecisionTreeClassifier_5c168896ad23', name='minInfoGain', doc='Minimum information gain for a split to be considered at a tree node.'): 0.0}\n",
      "0.6692556879534733 {Param(parent='DecisionTreeClassifier_5c168896ad23', name='impurity', doc='Criterion used for information gain calculation (case-insensitive). Supported options: entropy, gini'): 'gini', Param(parent='DecisionTreeClassifier_5c168896ad23', name='maxDepth', doc='Maximum depth of the tree. (>= 0) E.g., depth 0 means 1 leaf node; depth 1 means 1 internal node + 2 leaf nodes.'): 20, Param(parent='DecisionTreeClassifier_5c168896ad23', name='maxBins', doc='Max number of bins for discretizing continuous features.  Must be >=2 and >= number of categories for any categorical feature.'): 40, Param(parent='DecisionTreeClassifier_5c168896ad23', name='minInfoGain', doc='Minimum information gain for a split to be considered at a tree node.'): 0.05}\n",
      "0.9069088980241348 {Param(parent='DecisionTreeClassifier_5c168896ad23', name='impurity', doc='Criterion used for information gain calculation (case-insensitive). Supported options: entropy, gini'): 'gini', Param(parent='DecisionTreeClassifier_5c168896ad23', name='maxDepth', doc='Maximum depth of the tree. (>= 0) E.g., depth 0 means 1 leaf node; depth 1 means 1 internal node + 2 leaf nodes.'): 20, Param(parent='DecisionTreeClassifier_5c168896ad23', name='maxBins', doc='Max number of bins for discretizing continuous features.  Must be >=2 and >= number of categories for any categorical feature.'): 300, Param(parent='DecisionTreeClassifier_5c168896ad23', name='minInfoGain', doc='Minimum information gain for a split to be considered at a tree node.'): 0.0}\n",
      "0.6722867372648569 {Param(parent='DecisionTreeClassifier_5c168896ad23', name='impurity', doc='Criterion used for information gain calculation (case-insensitive). Supported options: entropy, gini'): 'gini', Param(parent='DecisionTreeClassifier_5c168896ad23', name='maxDepth', doc='Maximum depth of the tree. (>= 0) E.g., depth 0 means 1 leaf node; depth 1 means 1 internal node + 2 leaf nodes.'): 20, Param(parent='DecisionTreeClassifier_5c168896ad23', name='maxBins', doc='Max number of bins for discretizing continuous features.  Must be >=2 and >= number of categories for any categorical feature.'): 300, Param(parent='DecisionTreeClassifier_5c168896ad23', name='minInfoGain', doc='Minimum information gain for a split to be considered at a tree node.'): 0.05}\n",
      "0.48521416257790745 {Param(parent='DecisionTreeClassifier_5c168896ad23', name='impurity', doc='Criterion used for information gain calculation (case-insensitive). Supported options: entropy, gini'): 'entropy', Param(parent='DecisionTreeClassifier_5c168896ad23', name='maxDepth', doc='Maximum depth of the tree. (>= 0) E.g., depth 0 means 1 leaf node; depth 1 means 1 internal node + 2 leaf nodes.'): 1, Param(parent='DecisionTreeClassifier_5c168896ad23', name='maxBins', doc='Max number of bins for discretizing continuous features.  Must be >=2 and >= number of categories for any categorical feature.'): 40, Param(parent='DecisionTreeClassifier_5c168896ad23', name='minInfoGain', doc='Minimum information gain for a split to be considered at a tree node.'): 0.0}\n",
      "0.48521416257790745 {Param(parent='DecisionTreeClassifier_5c168896ad23', name='impurity', doc='Criterion used for information gain calculation (case-insensitive). Supported options: entropy, gini'): 'entropy', Param(parent='DecisionTreeClassifier_5c168896ad23', name='maxDepth', doc='Maximum depth of the tree. (>= 0) E.g., depth 0 means 1 leaf node; depth 1 means 1 internal node + 2 leaf nodes.'): 1, Param(parent='DecisionTreeClassifier_5c168896ad23', name='maxBins', doc='Max number of bins for discretizing continuous features.  Must be >=2 and >= number of categories for any categorical feature.'): 40, Param(parent='DecisionTreeClassifier_5c168896ad23', name='minInfoGain', doc='Minimum information gain for a split to be considered at a tree node.'): 0.05}\n",
      "0.48521416257790745 {Param(parent='DecisionTreeClassifier_5c168896ad23', name='impurity', doc='Criterion used for information gain calculation (case-insensitive). Supported options: entropy, gini'): 'entropy', Param(parent='DecisionTreeClassifier_5c168896ad23', name='maxDepth', doc='Maximum depth of the tree. (>= 0) E.g., depth 0 means 1 leaf node; depth 1 means 1 internal node + 2 leaf nodes.'): 1, Param(parent='DecisionTreeClassifier_5c168896ad23', name='maxBins', doc='Max number of bins for discretizing continuous features.  Must be >=2 and >= number of categories for any categorical feature.'): 300, Param(parent='DecisionTreeClassifier_5c168896ad23', name='minInfoGain', doc='Minimum information gain for a split to be considered at a tree node.'): 0.0}\n",
      "0.48521416257790745 {Param(parent='DecisionTreeClassifier_5c168896ad23', name='impurity', doc='Criterion used for information gain calculation (case-insensitive). Supported options: entropy, gini'): 'entropy', Param(parent='DecisionTreeClassifier_5c168896ad23', name='maxDepth', doc='Maximum depth of the tree. (>= 0) E.g., depth 0 means 1 leaf node; depth 1 means 1 internal node + 2 leaf nodes.'): 1, Param(parent='DecisionTreeClassifier_5c168896ad23', name='maxBins', doc='Max number of bins for discretizing continuous features.  Must be >=2 and >= number of categories for any categorical feature.'): 300, Param(parent='DecisionTreeClassifier_5c168896ad23', name='minInfoGain', doc='Minimum information gain for a split to be considered at a tree node.'): 0.05}\n",
      "0.9128573322977248 {Param(parent='DecisionTreeClassifier_5c168896ad23', name='impurity', doc='Criterion used for information gain calculation (case-insensitive). Supported options: entropy, gini'): 'entropy', Param(parent='DecisionTreeClassifier_5c168896ad23', name='maxDepth', doc='Maximum depth of the tree. (>= 0) E.g., depth 0 means 1 leaf node; depth 1 means 1 internal node + 2 leaf nodes.'): 20, Param(parent='DecisionTreeClassifier_5c168896ad23', name='maxBins', doc='Max number of bins for discretizing continuous features.  Must be >=2 and >= number of categories for any categorical feature.'): 40, Param(parent='DecisionTreeClassifier_5c168896ad23', name='minInfoGain', doc='Minimum information gain for a split to be considered at a tree node.'): 0.0}\n",
      "0.7281527648852937 {Param(parent='DecisionTreeClassifier_5c168896ad23', name='impurity', doc='Criterion used for information gain calculation (case-insensitive). Supported options: entropy, gini'): 'entropy', Param(parent='DecisionTreeClassifier_5c168896ad23', name='maxDepth', doc='Maximum depth of the tree. (>= 0) E.g., depth 0 means 1 leaf node; depth 1 means 1 internal node + 2 leaf nodes.'): 20, Param(parent='DecisionTreeClassifier_5c168896ad23', name='maxBins', doc='Max number of bins for discretizing continuous features.  Must be >=2 and >= number of categories for any categorical feature.'): 40, Param(parent='DecisionTreeClassifier_5c168896ad23', name='minInfoGain', doc='Minimum information gain for a split to be considered at a tree node.'): 0.05}\n",
      "0.9079318771667266 {Param(parent='DecisionTreeClassifier_5c168896ad23', name='impurity', doc='Criterion used for information gain calculation (case-insensitive). Supported options: entropy, gini'): 'entropy', Param(parent='DecisionTreeClassifier_5c168896ad23', name='maxDepth', doc='Maximum depth of the tree. (>= 0) E.g., depth 0 means 1 leaf node; depth 1 means 1 internal node + 2 leaf nodes.'): 20, Param(parent='DecisionTreeClassifier_5c168896ad23', name='maxBins', doc='Max number of bins for discretizing continuous features.  Must be >=2 and >= number of categories for any categorical feature.'): 300, Param(parent='DecisionTreeClassifier_5c168896ad23', name='minInfoGain', doc='Minimum information gain for a split to be considered at a tree node.'): 0.0}\n",
      "0.7239092958493568 {Param(parent='DecisionTreeClassifier_5c168896ad23', name='impurity', doc='Criterion used for information gain calculation (case-insensitive). Supported options: entropy, gini'): 'entropy', Param(parent='DecisionTreeClassifier_5c168896ad23', name='maxDepth', doc='Maximum depth of the tree. (>= 0) E.g., depth 0 means 1 leaf node; depth 1 means 1 internal node + 2 leaf nodes.'): 20, Param(parent='DecisionTreeClassifier_5c168896ad23', name='maxBins', doc='Max number of bins for discretizing continuous features.  Must be >=2 and >= number of categories for any categorical feature.'): 300, Param(parent='DecisionTreeClassifier_5c168896ad23', name='minInfoGain', doc='Minimum information gain for a split to be considered at a tree node.'): 0.05}\n"
     ]
    }
   ],
   "source": [
    "for metric, param in paramsAndMetrics:\n",
    "    print(metric, param)"
   ]
  },
  {
   "cell_type": "code",
   "execution_count": 56,
   "id": "removed-hayes",
   "metadata": {},
   "outputs": [
    {
     "data": {
      "text/plain": [
       "0.9128573322977248"
      ]
     },
     "execution_count": 56,
     "metadata": {},
     "output_type": "execute_result"
    }
   ],
   "source": [
    "max(validatorModel.validationMetrics)"
   ]
  },
  {
   "cell_type": "code",
   "execution_count": 57,
   "id": "furnished-benjamin",
   "metadata": {},
   "outputs": [
    {
     "data": {
      "text/plain": [
       "0.9133375899497834"
      ]
     },
     "execution_count": 57,
     "metadata": {},
     "output_type": "execute_result"
    }
   ],
   "source": [
    "multiclassEval.evaluate(validatorModel.bestModel.transform(testData))"
   ]
  },
  {
   "cell_type": "code",
   "execution_count": 58,
   "id": "stable-sixth",
   "metadata": {},
   "outputs": [],
   "source": [
    "from pyspark.sql.functions import pandas_udf, PandasUDFType"
   ]
  },
  {
   "cell_type": "code",
   "execution_count": 59,
   "id": "current-river",
   "metadata": {},
   "outputs": [
    {
     "data": {
      "text/plain": [
       "['Wilderness_Area_1',\n",
       " 'Wilderness_Area_2',\n",
       " 'Wilderness_Area_3',\n",
       " 'Wilderness_Area_4']"
      ]
     },
     "execution_count": 59,
     "metadata": {},
     "output_type": "execute_result"
    }
   ],
   "source": [
    "wildernessCols = [f'Wilderness_Area_{x}' for x in range(1,5) ]\n",
    "wildernessCols"
   ]
  },
  {
   "cell_type": "code",
   "execution_count": 60,
   "id": "passing-pledge",
   "metadata": {},
   "outputs": [
    {
     "name": "stdout",
     "output_type": "stream",
     "text": [
      "+-----------------+-----------------+-----------------+-----------------+\n",
      "|Wilderness_Area_1|Wilderness_Area_2|Wilderness_Area_3|Wilderness_Area_4|\n",
      "+-----------------+-----------------+-----------------+-----------------+\n",
      "|              0.0|              0.0|              0.0|              1.0|\n",
      "|              0.0|              0.0|              0.0|              1.0|\n",
      "|              0.0|              0.0|              0.0|              1.0|\n",
      "|              0.0|              0.0|              0.0|              1.0|\n",
      "|              0.0|              0.0|              0.0|              1.0|\n",
      "+-----------------+-----------------+-----------------+-----------------+\n",
      "only showing top 5 rows\n",
      "\n"
     ]
    }
   ],
   "source": [
    "trainData.select(wildernessCols).show(5)"
   ]
  },
  {
   "cell_type": "code",
   "execution_count": 160,
   "id": "royal-dancing",
   "metadata": {},
   "outputs": [
    {
     "name": "stdout",
     "output_type": "stream",
     "text": [
      "+-------------+\n",
      "|wilderness   |\n",
      "+-------------+\n",
      "|(4,[3],[1.0])|\n",
      "|(4,[3],[1.0])|\n",
      "|(4,[3],[1.0])|\n",
      "|(4,[3],[1.0])|\n",
      "|(4,[3],[1.0])|\n",
      "+-------------+\n",
      "only showing top 5 rows\n",
      "\n"
     ]
    }
   ],
   "source": [
    "wildernessAssembler = VectorAssembler(inputCols=wildernessCols,\n",
    "                            outputCol=\"wilderness\")\n",
    "wildernessVector = wildernessAssembler.transform(trainData)\n",
    "wildernessVector.select(\"wilderness\").show(5, truncate=False)"
   ]
  },
  {
   "cell_type": "code",
   "execution_count": 169,
   "id": "delayed-slovakia",
   "metadata": {},
   "outputs": [
    {
     "ename": "NameError",
     "evalue": "name 'IntType' is not defined",
     "output_type": "error",
     "traceback": [
      "\u001b[0;31m---------------------------------------------------------------------------\u001b[0m",
      "\u001b[0;31mNameError\u001b[0m                                 Traceback (most recent call last)",
      "\u001b[0;32m<ipython-input-169-d7271b42aebc>\u001b[0m in \u001b[0;36m<module>\u001b[0;34m\u001b[0m\n\u001b[1;32m      3\u001b[0m \u001b[0;34m\u001b[0m\u001b[0m\n\u001b[1;32m      4\u001b[0m \u001b[0;31m#@udf(returnType=ArrayType(DoubleType()))\u001b[0m\u001b[0;34m\u001b[0m\u001b[0;34m\u001b[0m\u001b[0;34m\u001b[0m\u001b[0m\n\u001b[0;32m----> 5\u001b[0;31m \u001b[0;34m@\u001b[0m\u001b[0mudf\u001b[0m\u001b[0;34m(\u001b[0m\u001b[0mreturnType\u001b[0m\u001b[0;34m=\u001b[0m\u001b[0mIntType\u001b[0m\u001b[0;34m(\u001b[0m\u001b[0;34m)\u001b[0m\u001b[0;34m)\u001b[0m\u001b[0;34m\u001b[0m\u001b[0;34m\u001b[0m\u001b[0m\n\u001b[0m\u001b[1;32m      6\u001b[0m \u001b[0;32mdef\u001b[0m \u001b[0mvector_to_array\u001b[0m\u001b[0;34m(\u001b[0m\u001b[0mv\u001b[0m\u001b[0;34m)\u001b[0m\u001b[0;34m:\u001b[0m\u001b[0;34m\u001b[0m\u001b[0;34m\u001b[0m\u001b[0m\n\u001b[1;32m      7\u001b[0m     \u001b[0;31m# convert column of vectors into column of arrays\u001b[0m\u001b[0;34m\u001b[0m\u001b[0;34m\u001b[0m\u001b[0;34m\u001b[0m\u001b[0m\n",
      "\u001b[0;31mNameError\u001b[0m: name 'IntType' is not defined"
     ]
    }
   ],
   "source": [
    "from pyspark.sql.functions import udf\n",
    "from pyspark.sql.types\n",
    "import ArrayType\n",
    "\n",
    "#@udf(returnType=ArrayType(DoubleType()))\n",
    "@udf(returnType=IntegerType())\n",
    "def vector_to_array(v):\n",
    "    # convert column of vectors into column of arrays\n",
    "    a = v.toArray().tolist().index(1.0)\n",
    "    return int(a)\n",
    "\n",
    "wildernessUDF = wildernessVector.withColumn('features_array',vector_to_array('wilderness'))\n",
    "wildernessUDF.select('features_array').show()"
   ]
  },
  {
   "cell_type": "code",
   "execution_count": 157,
   "id": "conditional-paintball",
   "metadata": {},
   "outputs": [],
   "source": [
    "import pandas as pd \n",
    "from pyspark.sql.functions import udf, pandas_udf, PandasUDFType\n",
    "from pyspark.sql.types import ArrayType\n",
    "from pyspark.ml.linalg import VectorUDT\n",
    "\n",
    "def unhot_func(vec):\n",
    "    return vec.values.tolist()\n",
    "\n",
    "unhot = pandas_udf(unhot_func, ArrayType(DoubleType()))"
   ]
  },
  {
   "cell_type": "code",
   "execution_count": 158,
   "id": "statutory-construction",
   "metadata": {},
   "outputs": [],
   "source": [
    "testUDF = wildernessVector.withColumn(\"test\", unhot(col(\"wilderness\")))"
   ]
  },
  {
   "cell_type": "code",
   "execution_count": 159,
   "id": "amateur-discount",
   "metadata": {},
   "outputs": [
    {
     "ename": "Py4JJavaError",
     "evalue": "An error occurred while calling o7444.showString.\n: org.apache.spark.SparkException: Job aborted due to stage failure: Task 0 in stage 581.0 failed 4 times, most recent failure: Lost task 0.3 in stage 581.0 (TID 2435, 10.5.0.3, executor 3): java.lang.UnsupportedOperationException: Unsupported data type: struct<type:tinyint,size:int,indices:array<int>,values:array<double>>\n\tat org.apache.spark.sql.util.ArrowUtils$.toArrowType(ArrowUtils.scala:57)\n\tat org.apache.spark.sql.util.ArrowUtils$.toArrowField(ArrowUtils.scala:103)\n\tat org.apache.spark.sql.util.ArrowUtils$.$anonfun$toArrowSchema$1(ArrowUtils.scala:132)\n\tat scala.collection.TraversableLike.$anonfun$map$1(TraversableLike.scala:238)\n\tat scala.collection.Iterator.foreach(Iterator.scala:941)\n\tat scala.collection.Iterator.foreach$(Iterator.scala:941)\n\tat scala.collection.AbstractIterator.foreach(Iterator.scala:1429)\n\tat scala.collection.IterableLike.foreach(IterableLike.scala:74)\n\tat scala.collection.IterableLike.foreach$(IterableLike.scala:73)\n\tat org.apache.spark.sql.types.StructType.foreach(StructType.scala:102)\n\tat scala.collection.TraversableLike.map(TraversableLike.scala:238)\n\tat scala.collection.TraversableLike.map$(TraversableLike.scala:231)\n\tat org.apache.spark.sql.types.StructType.map(StructType.scala:102)\n\tat org.apache.spark.sql.util.ArrowUtils$.toArrowSchema(ArrowUtils.scala:131)\n\tat org.apache.spark.sql.execution.python.ArrowPythonRunner$$anon$1.writeIteratorToStream(ArrowPythonRunner.scala:76)\n\tat org.apache.spark.api.python.BasePythonRunner$WriterThread.$anonfun$run$1(PythonRunner.scala:383)\n\tat org.apache.spark.util.Utils$.logUncaughtExceptions(Utils.scala:1932)\n\tat org.apache.spark.api.python.BasePythonRunner$WriterThread.run(PythonRunner.scala:218)\n\nDriver stacktrace:\n\tat org.apache.spark.scheduler.DAGScheduler.failJobAndIndependentStages(DAGScheduler.scala:2059)\n\tat org.apache.spark.scheduler.DAGScheduler.$anonfun$abortStage$2(DAGScheduler.scala:2008)\n\tat org.apache.spark.scheduler.DAGScheduler.$anonfun$abortStage$2$adapted(DAGScheduler.scala:2007)\n\tat scala.collection.mutable.ResizableArray.foreach(ResizableArray.scala:62)\n\tat scala.collection.mutable.ResizableArray.foreach$(ResizableArray.scala:55)\n\tat scala.collection.mutable.ArrayBuffer.foreach(ArrayBuffer.scala:49)\n\tat org.apache.spark.scheduler.DAGScheduler.abortStage(DAGScheduler.scala:2007)\n\tat org.apache.spark.scheduler.DAGScheduler.$anonfun$handleTaskSetFailed$1(DAGScheduler.scala:973)\n\tat org.apache.spark.scheduler.DAGScheduler.$anonfun$handleTaskSetFailed$1$adapted(DAGScheduler.scala:973)\n\tat scala.Option.foreach(Option.scala:407)\n\tat org.apache.spark.scheduler.DAGScheduler.handleTaskSetFailed(DAGScheduler.scala:973)\n\tat org.apache.spark.scheduler.DAGSchedulerEventProcessLoop.doOnReceive(DAGScheduler.scala:2239)\n\tat org.apache.spark.scheduler.DAGSchedulerEventProcessLoop.onReceive(DAGScheduler.scala:2188)\n\tat org.apache.spark.scheduler.DAGSchedulerEventProcessLoop.onReceive(DAGScheduler.scala:2177)\n\tat org.apache.spark.util.EventLoop$$anon$1.run(EventLoop.scala:49)\n\tat org.apache.spark.scheduler.DAGScheduler.runJob(DAGScheduler.scala:775)\n\tat org.apache.spark.SparkContext.runJob(SparkContext.scala:2099)\n\tat org.apache.spark.SparkContext.runJob(SparkContext.scala:2120)\n\tat org.apache.spark.SparkContext.runJob(SparkContext.scala:2139)\n\tat org.apache.spark.sql.execution.SparkPlan.executeTake(SparkPlan.scala:467)\n\tat org.apache.spark.sql.execution.SparkPlan.executeTake(SparkPlan.scala:420)\n\tat org.apache.spark.sql.execution.CollectLimitExec.executeCollect(limit.scala:47)\n\tat org.apache.spark.sql.Dataset.collectFromPlan(Dataset.scala:3627)\n\tat org.apache.spark.sql.Dataset.$anonfun$head$1(Dataset.scala:2697)\n\tat org.apache.spark.sql.Dataset.$anonfun$withAction$1(Dataset.scala:3618)\n\tat org.apache.spark.sql.execution.SQLExecution$.$anonfun$withNewExecutionId$5(SQLExecution.scala:100)\n\tat org.apache.spark.sql.execution.SQLExecution$.withSQLConfPropagated(SQLExecution.scala:160)\n\tat org.apache.spark.sql.execution.SQLExecution$.$anonfun$withNewExecutionId$1(SQLExecution.scala:87)\n\tat org.apache.spark.sql.SparkSession.withActive(SparkSession.scala:764)\n\tat org.apache.spark.sql.execution.SQLExecution$.withNewExecutionId(SQLExecution.scala:64)\n\tat org.apache.spark.sql.Dataset.withAction(Dataset.scala:3616)\n\tat org.apache.spark.sql.Dataset.head(Dataset.scala:2697)\n\tat org.apache.spark.sql.Dataset.take(Dataset.scala:2904)\n\tat org.apache.spark.sql.Dataset.getRows(Dataset.scala:300)\n\tat org.apache.spark.sql.Dataset.showString(Dataset.scala:337)\n\tat sun.reflect.GeneratedMethodAccessor133.invoke(Unknown Source)\n\tat sun.reflect.DelegatingMethodAccessorImpl.invoke(DelegatingMethodAccessorImpl.java:43)\n\tat java.lang.reflect.Method.invoke(Method.java:498)\n\tat py4j.reflection.MethodInvoker.invoke(MethodInvoker.java:244)\n\tat py4j.reflection.ReflectionEngine.invoke(ReflectionEngine.java:357)\n\tat py4j.Gateway.invoke(Gateway.java:282)\n\tat py4j.commands.AbstractCommand.invokeMethod(AbstractCommand.java:132)\n\tat py4j.commands.CallCommand.execute(CallCommand.java:79)\n\tat py4j.GatewayConnection.run(GatewayConnection.java:238)\n\tat java.lang.Thread.run(Thread.java:748)\nCaused by: java.lang.UnsupportedOperationException: Unsupported data type: struct<type:tinyint,size:int,indices:array<int>,values:array<double>>\n\tat org.apache.spark.sql.util.ArrowUtils$.toArrowType(ArrowUtils.scala:57)\n\tat org.apache.spark.sql.util.ArrowUtils$.toArrowField(ArrowUtils.scala:103)\n\tat org.apache.spark.sql.util.ArrowUtils$.$anonfun$toArrowSchema$1(ArrowUtils.scala:132)\n\tat scala.collection.TraversableLike.$anonfun$map$1(TraversableLike.scala:238)\n\tat scala.collection.Iterator.foreach(Iterator.scala:941)\n\tat scala.collection.Iterator.foreach$(Iterator.scala:941)\n\tat scala.collection.AbstractIterator.foreach(Iterator.scala:1429)\n\tat scala.collection.IterableLike.foreach(IterableLike.scala:74)\n\tat scala.collection.IterableLike.foreach$(IterableLike.scala:73)\n\tat org.apache.spark.sql.types.StructType.foreach(StructType.scala:102)\n\tat scala.collection.TraversableLike.map(TraversableLike.scala:238)\n\tat scala.collection.TraversableLike.map$(TraversableLike.scala:231)\n\tat org.apache.spark.sql.types.StructType.map(StructType.scala:102)\n\tat org.apache.spark.sql.util.ArrowUtils$.toArrowSchema(ArrowUtils.scala:131)\n\tat org.apache.spark.sql.execution.python.ArrowPythonRunner$$anon$1.writeIteratorToStream(ArrowPythonRunner.scala:76)\n\tat org.apache.spark.api.python.BasePythonRunner$WriterThread.$anonfun$run$1(PythonRunner.scala:383)\n\tat org.apache.spark.util.Utils$.logUncaughtExceptions(Utils.scala:1932)\n\tat org.apache.spark.api.python.BasePythonRunner$WriterThread.run(PythonRunner.scala:218)\n",
     "output_type": "error",
     "traceback": [
      "\u001b[0;31m---------------------------------------------------------------------------\u001b[0m",
      "\u001b[0;31mPy4JJavaError\u001b[0m                             Traceback (most recent call last)",
      "\u001b[0;32m<ipython-input-159-db546c0c920d>\u001b[0m in \u001b[0;36m<module>\u001b[0;34m\u001b[0m\n\u001b[0;32m----> 1\u001b[0;31m \u001b[0mtestUDF\u001b[0m\u001b[0;34m.\u001b[0m\u001b[0mselect\u001b[0m\u001b[0;34m(\u001b[0m\u001b[0;34m'test'\u001b[0m\u001b[0;34m)\u001b[0m\u001b[0;34m.\u001b[0m\u001b[0mshow\u001b[0m\u001b[0;34m(\u001b[0m\u001b[0;34m)\u001b[0m\u001b[0;34m\u001b[0m\u001b[0;34m\u001b[0m\u001b[0m\n\u001b[0m",
      "\u001b[0;32m/usr/local/lib/python3.7/dist-packages/pyspark/sql/dataframe.py\u001b[0m in \u001b[0;36mshow\u001b[0;34m(self, n, truncate, vertical)\u001b[0m\n\u001b[1;32m    438\u001b[0m         \"\"\"\n\u001b[1;32m    439\u001b[0m         \u001b[0;32mif\u001b[0m \u001b[0misinstance\u001b[0m\u001b[0;34m(\u001b[0m\u001b[0mtruncate\u001b[0m\u001b[0;34m,\u001b[0m \u001b[0mbool\u001b[0m\u001b[0;34m)\u001b[0m \u001b[0;32mand\u001b[0m \u001b[0mtruncate\u001b[0m\u001b[0;34m:\u001b[0m\u001b[0;34m\u001b[0m\u001b[0;34m\u001b[0m\u001b[0m\n\u001b[0;32m--> 440\u001b[0;31m             \u001b[0mprint\u001b[0m\u001b[0;34m(\u001b[0m\u001b[0mself\u001b[0m\u001b[0;34m.\u001b[0m\u001b[0m_jdf\u001b[0m\u001b[0;34m.\u001b[0m\u001b[0mshowString\u001b[0m\u001b[0;34m(\u001b[0m\u001b[0mn\u001b[0m\u001b[0;34m,\u001b[0m \u001b[0;36m20\u001b[0m\u001b[0;34m,\u001b[0m \u001b[0mvertical\u001b[0m\u001b[0;34m)\u001b[0m\u001b[0;34m)\u001b[0m\u001b[0;34m\u001b[0m\u001b[0;34m\u001b[0m\u001b[0m\n\u001b[0m\u001b[1;32m    441\u001b[0m         \u001b[0;32melse\u001b[0m\u001b[0;34m:\u001b[0m\u001b[0;34m\u001b[0m\u001b[0;34m\u001b[0m\u001b[0m\n\u001b[1;32m    442\u001b[0m             \u001b[0mprint\u001b[0m\u001b[0;34m(\u001b[0m\u001b[0mself\u001b[0m\u001b[0;34m.\u001b[0m\u001b[0m_jdf\u001b[0m\u001b[0;34m.\u001b[0m\u001b[0mshowString\u001b[0m\u001b[0;34m(\u001b[0m\u001b[0mn\u001b[0m\u001b[0;34m,\u001b[0m \u001b[0mint\u001b[0m\u001b[0;34m(\u001b[0m\u001b[0mtruncate\u001b[0m\u001b[0;34m)\u001b[0m\u001b[0;34m,\u001b[0m \u001b[0mvertical\u001b[0m\u001b[0;34m)\u001b[0m\u001b[0;34m)\u001b[0m\u001b[0;34m\u001b[0m\u001b[0;34m\u001b[0m\u001b[0m\n",
      "\u001b[0;32m/usr/local/lib/python3.7/dist-packages/py4j/java_gateway.py\u001b[0m in \u001b[0;36m__call__\u001b[0;34m(self, *args)\u001b[0m\n\u001b[1;32m   1303\u001b[0m         \u001b[0manswer\u001b[0m \u001b[0;34m=\u001b[0m \u001b[0mself\u001b[0m\u001b[0;34m.\u001b[0m\u001b[0mgateway_client\u001b[0m\u001b[0;34m.\u001b[0m\u001b[0msend_command\u001b[0m\u001b[0;34m(\u001b[0m\u001b[0mcommand\u001b[0m\u001b[0;34m)\u001b[0m\u001b[0;34m\u001b[0m\u001b[0;34m\u001b[0m\u001b[0m\n\u001b[1;32m   1304\u001b[0m         return_value = get_return_value(\n\u001b[0;32m-> 1305\u001b[0;31m             answer, self.gateway_client, self.target_id, self.name)\n\u001b[0m\u001b[1;32m   1306\u001b[0m \u001b[0;34m\u001b[0m\u001b[0m\n\u001b[1;32m   1307\u001b[0m         \u001b[0;32mfor\u001b[0m \u001b[0mtemp_arg\u001b[0m \u001b[0;32min\u001b[0m \u001b[0mtemp_args\u001b[0m\u001b[0;34m:\u001b[0m\u001b[0;34m\u001b[0m\u001b[0;34m\u001b[0m\u001b[0m\n",
      "\u001b[0;32m/usr/local/lib/python3.7/dist-packages/pyspark/sql/utils.py\u001b[0m in \u001b[0;36mdeco\u001b[0;34m(*a, **kw)\u001b[0m\n\u001b[1;32m    126\u001b[0m     \u001b[0;32mdef\u001b[0m \u001b[0mdeco\u001b[0m\u001b[0;34m(\u001b[0m\u001b[0;34m*\u001b[0m\u001b[0ma\u001b[0m\u001b[0;34m,\u001b[0m \u001b[0;34m**\u001b[0m\u001b[0mkw\u001b[0m\u001b[0;34m)\u001b[0m\u001b[0;34m:\u001b[0m\u001b[0;34m\u001b[0m\u001b[0;34m\u001b[0m\u001b[0m\n\u001b[1;32m    127\u001b[0m         \u001b[0;32mtry\u001b[0m\u001b[0;34m:\u001b[0m\u001b[0;34m\u001b[0m\u001b[0;34m\u001b[0m\u001b[0m\n\u001b[0;32m--> 128\u001b[0;31m             \u001b[0;32mreturn\u001b[0m \u001b[0mf\u001b[0m\u001b[0;34m(\u001b[0m\u001b[0;34m*\u001b[0m\u001b[0ma\u001b[0m\u001b[0;34m,\u001b[0m \u001b[0;34m**\u001b[0m\u001b[0mkw\u001b[0m\u001b[0;34m)\u001b[0m\u001b[0;34m\u001b[0m\u001b[0;34m\u001b[0m\u001b[0m\n\u001b[0m\u001b[1;32m    129\u001b[0m         \u001b[0;32mexcept\u001b[0m \u001b[0mpy4j\u001b[0m\u001b[0;34m.\u001b[0m\u001b[0mprotocol\u001b[0m\u001b[0;34m.\u001b[0m\u001b[0mPy4JJavaError\u001b[0m \u001b[0;32mas\u001b[0m \u001b[0me\u001b[0m\u001b[0;34m:\u001b[0m\u001b[0;34m\u001b[0m\u001b[0;34m\u001b[0m\u001b[0m\n\u001b[1;32m    130\u001b[0m             \u001b[0mconverted\u001b[0m \u001b[0;34m=\u001b[0m \u001b[0mconvert_exception\u001b[0m\u001b[0;34m(\u001b[0m\u001b[0me\u001b[0m\u001b[0;34m.\u001b[0m\u001b[0mjava_exception\u001b[0m\u001b[0;34m)\u001b[0m\u001b[0;34m\u001b[0m\u001b[0;34m\u001b[0m\u001b[0m\n",
      "\u001b[0;32m/usr/local/lib/python3.7/dist-packages/py4j/protocol.py\u001b[0m in \u001b[0;36mget_return_value\u001b[0;34m(answer, gateway_client, target_id, name)\u001b[0m\n\u001b[1;32m    326\u001b[0m                 raise Py4JJavaError(\n\u001b[1;32m    327\u001b[0m                     \u001b[0;34m\"An error occurred while calling {0}{1}{2}.\\n\"\u001b[0m\u001b[0;34m.\u001b[0m\u001b[0;34m\u001b[0m\u001b[0;34m\u001b[0m\u001b[0m\n\u001b[0;32m--> 328\u001b[0;31m                     format(target_id, \".\", name), value)\n\u001b[0m\u001b[1;32m    329\u001b[0m             \u001b[0;32melse\u001b[0m\u001b[0;34m:\u001b[0m\u001b[0;34m\u001b[0m\u001b[0;34m\u001b[0m\u001b[0m\n\u001b[1;32m    330\u001b[0m                 raise Py4JError(\n",
      "\u001b[0;31mPy4JJavaError\u001b[0m: An error occurred while calling o7444.showString.\n: org.apache.spark.SparkException: Job aborted due to stage failure: Task 0 in stage 581.0 failed 4 times, most recent failure: Lost task 0.3 in stage 581.0 (TID 2435, 10.5.0.3, executor 3): java.lang.UnsupportedOperationException: Unsupported data type: struct<type:tinyint,size:int,indices:array<int>,values:array<double>>\n\tat org.apache.spark.sql.util.ArrowUtils$.toArrowType(ArrowUtils.scala:57)\n\tat org.apache.spark.sql.util.ArrowUtils$.toArrowField(ArrowUtils.scala:103)\n\tat org.apache.spark.sql.util.ArrowUtils$.$anonfun$toArrowSchema$1(ArrowUtils.scala:132)\n\tat scala.collection.TraversableLike.$anonfun$map$1(TraversableLike.scala:238)\n\tat scala.collection.Iterator.foreach(Iterator.scala:941)\n\tat scala.collection.Iterator.foreach$(Iterator.scala:941)\n\tat scala.collection.AbstractIterator.foreach(Iterator.scala:1429)\n\tat scala.collection.IterableLike.foreach(IterableLike.scala:74)\n\tat scala.collection.IterableLike.foreach$(IterableLike.scala:73)\n\tat org.apache.spark.sql.types.StructType.foreach(StructType.scala:102)\n\tat scala.collection.TraversableLike.map(TraversableLike.scala:238)\n\tat scala.collection.TraversableLike.map$(TraversableLike.scala:231)\n\tat org.apache.spark.sql.types.StructType.map(StructType.scala:102)\n\tat org.apache.spark.sql.util.ArrowUtils$.toArrowSchema(ArrowUtils.scala:131)\n\tat org.apache.spark.sql.execution.python.ArrowPythonRunner$$anon$1.writeIteratorToStream(ArrowPythonRunner.scala:76)\n\tat org.apache.spark.api.python.BasePythonRunner$WriterThread.$anonfun$run$1(PythonRunner.scala:383)\n\tat org.apache.spark.util.Utils$.logUncaughtExceptions(Utils.scala:1932)\n\tat org.apache.spark.api.python.BasePythonRunner$WriterThread.run(PythonRunner.scala:218)\n\nDriver stacktrace:\n\tat org.apache.spark.scheduler.DAGScheduler.failJobAndIndependentStages(DAGScheduler.scala:2059)\n\tat org.apache.spark.scheduler.DAGScheduler.$anonfun$abortStage$2(DAGScheduler.scala:2008)\n\tat org.apache.spark.scheduler.DAGScheduler.$anonfun$abortStage$2$adapted(DAGScheduler.scala:2007)\n\tat scala.collection.mutable.ResizableArray.foreach(ResizableArray.scala:62)\n\tat scala.collection.mutable.ResizableArray.foreach$(ResizableArray.scala:55)\n\tat scala.collection.mutable.ArrayBuffer.foreach(ArrayBuffer.scala:49)\n\tat org.apache.spark.scheduler.DAGScheduler.abortStage(DAGScheduler.scala:2007)\n\tat org.apache.spark.scheduler.DAGScheduler.$anonfun$handleTaskSetFailed$1(DAGScheduler.scala:973)\n\tat org.apache.spark.scheduler.DAGScheduler.$anonfun$handleTaskSetFailed$1$adapted(DAGScheduler.scala:973)\n\tat scala.Option.foreach(Option.scala:407)\n\tat org.apache.spark.scheduler.DAGScheduler.handleTaskSetFailed(DAGScheduler.scala:973)\n\tat org.apache.spark.scheduler.DAGSchedulerEventProcessLoop.doOnReceive(DAGScheduler.scala:2239)\n\tat org.apache.spark.scheduler.DAGSchedulerEventProcessLoop.onReceive(DAGScheduler.scala:2188)\n\tat org.apache.spark.scheduler.DAGSchedulerEventProcessLoop.onReceive(DAGScheduler.scala:2177)\n\tat org.apache.spark.util.EventLoop$$anon$1.run(EventLoop.scala:49)\n\tat org.apache.spark.scheduler.DAGScheduler.runJob(DAGScheduler.scala:775)\n\tat org.apache.spark.SparkContext.runJob(SparkContext.scala:2099)\n\tat org.apache.spark.SparkContext.runJob(SparkContext.scala:2120)\n\tat org.apache.spark.SparkContext.runJob(SparkContext.scala:2139)\n\tat org.apache.spark.sql.execution.SparkPlan.executeTake(SparkPlan.scala:467)\n\tat org.apache.spark.sql.execution.SparkPlan.executeTake(SparkPlan.scala:420)\n\tat org.apache.spark.sql.execution.CollectLimitExec.executeCollect(limit.scala:47)\n\tat org.apache.spark.sql.Dataset.collectFromPlan(Dataset.scala:3627)\n\tat org.apache.spark.sql.Dataset.$anonfun$head$1(Dataset.scala:2697)\n\tat org.apache.spark.sql.Dataset.$anonfun$withAction$1(Dataset.scala:3618)\n\tat org.apache.spark.sql.execution.SQLExecution$.$anonfun$withNewExecutionId$5(SQLExecution.scala:100)\n\tat org.apache.spark.sql.execution.SQLExecution$.withSQLConfPropagated(SQLExecution.scala:160)\n\tat org.apache.spark.sql.execution.SQLExecution$.$anonfun$withNewExecutionId$1(SQLExecution.scala:87)\n\tat org.apache.spark.sql.SparkSession.withActive(SparkSession.scala:764)\n\tat org.apache.spark.sql.execution.SQLExecution$.withNewExecutionId(SQLExecution.scala:64)\n\tat org.apache.spark.sql.Dataset.withAction(Dataset.scala:3616)\n\tat org.apache.spark.sql.Dataset.head(Dataset.scala:2697)\n\tat org.apache.spark.sql.Dataset.take(Dataset.scala:2904)\n\tat org.apache.spark.sql.Dataset.getRows(Dataset.scala:300)\n\tat org.apache.spark.sql.Dataset.showString(Dataset.scala:337)\n\tat sun.reflect.GeneratedMethodAccessor133.invoke(Unknown Source)\n\tat sun.reflect.DelegatingMethodAccessorImpl.invoke(DelegatingMethodAccessorImpl.java:43)\n\tat java.lang.reflect.Method.invoke(Method.java:498)\n\tat py4j.reflection.MethodInvoker.invoke(MethodInvoker.java:244)\n\tat py4j.reflection.ReflectionEngine.invoke(ReflectionEngine.java:357)\n\tat py4j.Gateway.invoke(Gateway.java:282)\n\tat py4j.commands.AbstractCommand.invokeMethod(AbstractCommand.java:132)\n\tat py4j.commands.CallCommand.execute(CallCommand.java:79)\n\tat py4j.GatewayConnection.run(GatewayConnection.java:238)\n\tat java.lang.Thread.run(Thread.java:748)\nCaused by: java.lang.UnsupportedOperationException: Unsupported data type: struct<type:tinyint,size:int,indices:array<int>,values:array<double>>\n\tat org.apache.spark.sql.util.ArrowUtils$.toArrowType(ArrowUtils.scala:57)\n\tat org.apache.spark.sql.util.ArrowUtils$.toArrowField(ArrowUtils.scala:103)\n\tat org.apache.spark.sql.util.ArrowUtils$.$anonfun$toArrowSchema$1(ArrowUtils.scala:132)\n\tat scala.collection.TraversableLike.$anonfun$map$1(TraversableLike.scala:238)\n\tat scala.collection.Iterator.foreach(Iterator.scala:941)\n\tat scala.collection.Iterator.foreach$(Iterator.scala:941)\n\tat scala.collection.AbstractIterator.foreach(Iterator.scala:1429)\n\tat scala.collection.IterableLike.foreach(IterableLike.scala:74)\n\tat scala.collection.IterableLike.foreach$(IterableLike.scala:73)\n\tat org.apache.spark.sql.types.StructType.foreach(StructType.scala:102)\n\tat scala.collection.TraversableLike.map(TraversableLike.scala:238)\n\tat scala.collection.TraversableLike.map$(TraversableLike.scala:231)\n\tat org.apache.spark.sql.types.StructType.map(StructType.scala:102)\n\tat org.apache.spark.sql.util.ArrowUtils$.toArrowSchema(ArrowUtils.scala:131)\n\tat org.apache.spark.sql.execution.python.ArrowPythonRunner$$anon$1.writeIteratorToStream(ArrowPythonRunner.scala:76)\n\tat org.apache.spark.api.python.BasePythonRunner$WriterThread.$anonfun$run$1(PythonRunner.scala:383)\n\tat org.apache.spark.util.Utils$.logUncaughtExceptions(Utils.scala:1932)\n\tat org.apache.spark.api.python.BasePythonRunner$WriterThread.run(PythonRunner.scala:218)\n"
     ]
    }
   ],
   "source": [
    "testUDF.select('test').show()"
   ]
  },
  {
   "cell_type": "code",
   "execution_count": null,
   "id": "responsible-slovak",
   "metadata": {},
   "outputs": [],
   "source": []
  }
 ],
 "metadata": {
  "kernelspec": {
   "display_name": "Python 3",
   "language": "python",
   "name": "python3"
  },
  "language_info": {
   "codemirror_mode": {
    "name": "ipython",
    "version": 3
   },
   "file_extension": ".py",
   "mimetype": "text/x-python",
   "name": "python",
   "nbconvert_exporter": "python",
   "pygments_lexer": "ipython3",
   "version": "3.7.3"
  }
 },
 "nbformat": 4,
 "nbformat_minor": 5
}
