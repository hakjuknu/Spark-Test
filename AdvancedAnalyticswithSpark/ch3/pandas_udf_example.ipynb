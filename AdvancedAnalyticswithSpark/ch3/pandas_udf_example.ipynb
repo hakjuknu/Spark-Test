{
 "cells": [
  {
   "cell_type": "code",
   "execution_count": 1,
   "id": "everyday-coordinate",
   "metadata": {},
   "outputs": [],
   "source": [
    "import pyspark\n",
    "from pyspark.sql import SparkSession\n",
    "from pyspark.sql.types import *\n",
    "from pyspark.sql.functions import col, count, rand, collect_list, explode, struct, count, lit\n",
    "from pyspark.sql.functions import pandas_udf, PandasUDFType"
   ]
  },
  {
   "cell_type": "code",
   "execution_count": 2,
   "id": "absent-story",
   "metadata": {},
   "outputs": [],
   "source": [
    "spark = SparkSession.builder.master(\"spark://spark-master:7077\")\\\n",
    "                            .appName(\"pd_udf_test\")\\\n",
    "                            .getOrCreate()"
   ]
  },
  {
   "cell_type": "code",
   "execution_count": 3,
   "id": "superior-conditions",
   "metadata": {},
   "outputs": [
    {
     "name": "stdout",
     "output_type": "stream",
     "text": [
      "+---+--------------------+\n",
      "| id|                   v|\n",
      "+---+--------------------+\n",
      "|  0|  0.5735088808806846|\n",
      "|  0| 0.21115832288040115|\n",
      "|  0|  0.8625763449006016|\n",
      "|  0|  0.6820046691266172|\n",
      "|  0|  0.9663688039215863|\n",
      "|  0| 0.48372726132734367|\n",
      "|  0|0.038113342046994014|\n",
      "|  0|  0.9420468572125484|\n",
      "|  0|  0.7293567628605727|\n",
      "|  0|0.058862872570508706|\n",
      "|  0| 0.26623358995113044|\n",
      "|  0| 0.46045459726068005|\n",
      "|  0|  0.7077162833753116|\n",
      "|  0|   0.687404327139024|\n",
      "|  0|  0.8994002687953412|\n",
      "|  0| 0.12777339030587864|\n",
      "|  0|  0.6482828546705524|\n",
      "|  0| 0.34120852101915855|\n",
      "|  0| 0.34528104485499334|\n",
      "|  0|   0.823373400263306|\n",
      "+---+--------------------+\n",
      "only showing top 20 rows\n",
      "\n"
     ]
    }
   ],
   "source": [
    "df = spark.range(0, 1000).withColumn('id', (col('id') / 1000).cast('integer')).withColumn('v', rand())\n",
    "df.cache()\n",
    "df.count()\n",
    "\n",
    "df.show()"
   ]
  },
  {
   "cell_type": "code",
   "execution_count": 12,
   "id": "referenced-understanding",
   "metadata": {},
   "outputs": [
    {
     "name": "stdout",
     "output_type": "stream",
     "text": [
      "+---+------------------+\n",
      "| id|                 v|\n",
      "+---+------------------+\n",
      "|  0|1.5735088808806847|\n",
      "|  0|1.2111583228804013|\n",
      "|  0|1.8625763449006016|\n",
      "|  0|1.6820046691266173|\n",
      "|  0|1.9663688039215863|\n",
      "|  0|1.4837272613273438|\n",
      "|  0| 1.038113342046994|\n",
      "|  0|1.9420468572125484|\n",
      "|  0|1.7293567628605726|\n",
      "|  0|1.0588628725705087|\n",
      "|  0|1.2662335899511303|\n",
      "|  0|  1.46045459726068|\n",
      "|  0|1.7077162833753117|\n",
      "|  0| 1.687404327139024|\n",
      "|  0| 1.899400268795341|\n",
      "|  0|1.1277733903058786|\n",
      "|  0|1.6482828546705524|\n",
      "|  0|1.3412085210191584|\n",
      "|  0|1.3452810448549934|\n",
      "|  0| 1.823373400263306|\n",
      "+---+------------------+\n",
      "only showing top 20 rows\n",
      "\n"
     ]
    }
   ],
   "source": [
    "import pandas as pd\n",
    "\n",
    "@pandas_udf(\"double\")\n",
    "def pandas_plus_one(v: pd.Series) -> pd.Series:\n",
    "    return v + 1\n",
    "\n",
    "df.withColumn('v', pandas_plus_one(df.v)).show()"
   ]
  },
  {
   "cell_type": "code",
   "execution_count": 10,
   "id": "exceptional-exploration",
   "metadata": {},
   "outputs": [
    {
     "name": "stdout",
     "output_type": "stream",
     "text": [
      "Requirement already satisfied: pandas in /usr/local/lib/python3.7/dist-packages (1.2.1)\n",
      "Requirement already satisfied: pytz>=2017.3 in /usr/local/lib/python3.7/dist-packages (from pandas) (2020.5)\n",
      "Requirement already satisfied: numpy>=1.16.5 in /usr/local/lib/python3.7/dist-packages (from pandas) (1.19.5)\n",
      "Requirement already satisfied: python-dateutil>=2.7.3 in /usr/local/lib/python3.7/dist-packages (from pandas) (2.8.1)\n",
      "Requirement already satisfied: six>=1.5 in /usr/lib/python3/dist-packages (from python-dateutil>=2.7.3->pandas) (1.12.0)\n"
     ]
    }
   ],
   "source": [
    "!pip3 install pandas"
   ]
  },
  {
   "cell_type": "code",
   "execution_count": 11,
   "id": "antique-ghost",
   "metadata": {},
   "outputs": [
    {
     "name": "stdout",
     "output_type": "stream",
     "text": [
      "Collecting pyarrow\n",
      "\u001b[?25l  Downloading https://files.pythonhosted.org/packages/c8/58/d07e7ee8b0cffe509f9e5a3742e09636a4a58b2113d193166615b934846f/pyarrow-2.0.0-cp37-cp37m-manylinux1_x86_64.whl (16.9MB)\n",
      "\u001b[K    100% |████████████████████████████████| 16.9MB 104kB/s eta 0:00:01    79% |█████████████████████████▌      | 13.5MB 45.1MB/s eta 0:00:01\n",
      "\u001b[?25hRequirement already satisfied: numpy>=1.14 in /usr/local/lib/python3.7/dist-packages (from pyarrow) (1.19.5)\n",
      "Installing collected packages: pyarrow\n",
      "Successfully installed pyarrow-2.0.0\n"
     ]
    }
   ],
   "source": [
    "!pip3 install pyarrow"
   ]
  },
  {
   "cell_type": "code",
   "execution_count": null,
   "id": "european-cornwall",
   "metadata": {},
   "outputs": [],
   "source": []
  }
 ],
 "metadata": {
  "kernelspec": {
   "display_name": "Python 3",
   "language": "python",
   "name": "python3"
  },
  "language_info": {
   "codemirror_mode": {
    "name": "ipython",
    "version": 3
   },
   "file_extension": ".py",
   "mimetype": "text/x-python",
   "name": "python",
   "nbconvert_exporter": "python",
   "pygments_lexer": "ipython3",
   "version": "3.7.3"
  }
 },
 "nbformat": 4,
 "nbformat_minor": 5
}
