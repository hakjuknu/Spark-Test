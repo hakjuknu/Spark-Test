{
 "cells": [
  {
   "cell_type": "code",
   "execution_count": 2,
   "id": "bearing-framing",
   "metadata": {},
   "outputs": [],
   "source": [
    "import os, sys\n",
    "\n",
    "from random import randrange\n",
    "from operator import itemgetter\n",
    "\n",
    "from pyspark import SparkConf, SparkContext\n",
    "from pyspark.mllib.recommendation import ALS, Rating\n",
    "from pyspark.sql import SparkSession, SQLContext\n",
    "from pyspark.sql.types import *\n",
    "from pyspark.sql.types import Row\n",
    "from pyspark.sql import functions as F"
   ]
  },
  {
   "cell_type": "code",
   "execution_count": 3,
   "id": "spectacular-consortium",
   "metadata": {},
   "outputs": [],
   "source": [
    "spark = SparkSession.builder.master(\"spark://spark-master:7077\")\\\n",
    "                            .appName(\"convtype\")\\\n",
    "                            .config(\"spark.executor.memory\", \"6g\")\\\n",
    "                            .config(\"spark.jars\", \"spark-xml_2.12-0.11.0.jar\")\\\n",
    "                            .getOrCreate()"
   ]
  },
  {
   "cell_type": "code",
   "execution_count": 4,
   "id": "informative-bangladesh",
   "metadata": {},
   "outputs": [],
   "source": [
    "df = spark.read.format(\"xml\") \\\n",
    "                .option(\"rowTag\", \"page\") \\\n",
    "                .load(\"data/Wikipedia-20210208092423.xml\")"
   ]
  },
  {
   "cell_type": "code",
   "execution_count": 5,
   "id": "infinite-invasion",
   "metadata": {},
   "outputs": [
    {
     "name": "stdout",
     "output_type": "stream",
     "text": [
      "root\n",
      " |-- id: long (nullable = true)\n",
      " |-- ns: long (nullable = true)\n",
      " |-- revision: struct (nullable = true)\n",
      " |    |-- comment: string (nullable = true)\n",
      " |    |-- contributor: struct (nullable = true)\n",
      " |    |    |-- id: long (nullable = true)\n",
      " |    |    |-- ip: string (nullable = true)\n",
      " |    |    |-- username: string (nullable = true)\n",
      " |    |-- format: string (nullable = true)\n",
      " |    |-- id: long (nullable = true)\n",
      " |    |-- minor: string (nullable = true)\n",
      " |    |-- model: string (nullable = true)\n",
      " |    |-- parentid: long (nullable = true)\n",
      " |    |-- sha1: string (nullable = true)\n",
      " |    |-- text: struct (nullable = true)\n",
      " |    |    |-- _VALUE: string (nullable = true)\n",
      " |    |    |-- _bytes: long (nullable = true)\n",
      " |    |    |-- _space: string (nullable = true)\n",
      " |    |-- timestamp: string (nullable = true)\n",
      " |-- title: string (nullable = true)\n",
      "\n"
     ]
    }
   ],
   "source": [
    "df.printSchema()"
   ]
  },
  {
   "cell_type": "code",
   "execution_count": 6,
   "id": "greek-anniversary",
   "metadata": {},
   "outputs": [],
   "source": [
    "parsedDF = df.select(\"title\", \"revision.text._VALUE\")"
   ]
  },
  {
   "cell_type": "markdown",
   "id": "damaged-proxy",
   "metadata": {},
   "source": [
    "revision: struct (nullable = true)\n",
    " |    |-- comment: string (nullable = true)\n",
    " |    |-- contributor: struct (nullable = true)\n",
    " |    |    |-- id: long (nullable = true)\n",
    " |    |    |-- ip: string (nullable = true)\n",
    " |    |    |-- username: string (nullable = true)\n",
    " |    |-- format: string (nullable = true)\n",
    " |    |-- id: long (nullable = true)\n",
    " |    |-- minor: string (nullable = true)\n",
    " |    |-- model: string (nullable = true)\n",
    " |    |-- parentid: long (nullable = true)\n",
    " |    |-- sha1: string (nullable = true)\n",
    " |    |-- text: struct (nullable = true)\n",
    " |    |    |-- _VALUE: string (nullable = true)\n",
    " |    |    |-- _bytes: long (nullable = true)\n",
    " |    |    |-- _space: string (nullable = true)\n",
    " |    |-- timestamp: string (nullable = true)"
   ]
  },
  {
   "cell_type": "code",
   "execution_count": 7,
   "id": "brutal-voluntary",
   "metadata": {},
   "outputs": [],
   "source": [
    "from pyspark.sql.functions import *\n",
    "parsedDF = parsedDF.withColumn(\"parsed\", trim(col(\"_VALUE\"))).drop(\"_VALUE\")"
   ]
  },
  {
   "cell_type": "code",
   "execution_count": 8,
   "id": "ambient-cigarette",
   "metadata": {},
   "outputs": [],
   "source": [
    "from pyspark.sql.functions import udf, col, lower, regexp_replace"
   ]
  },
  {
   "cell_type": "code",
   "execution_count": 9,
   "id": "differential-valley",
   "metadata": {},
   "outputs": [],
   "source": [
    "df_clean = parsedDF.select('title', (lower(regexp_replace('parsed', \"[^a-zA-Z0-9\\\\s]\", \" \")).alias('text')))"
   ]
  },
  {
   "cell_type": "code",
   "execution_count": 10,
   "id": "double-psychology",
   "metadata": {},
   "outputs": [
    {
     "name": "stdout",
     "output_type": "stream",
     "text": [
      "+---------------------------+---------------------------------------------------------------------------------------------------------------------------------------------------------------------+\n",
      "|title                      |text                                                                                                                                                                 |\n",
      "+---------------------------+---------------------------------------------------------------------------------------------------------------------------------------------------------------------+\n",
      "|Category:Symmetry          |  commons cat symmetry  \n",
      "  cat main  \n",
      "\n",
      "  category geometry  \n",
      "  category theoretical physics  \n",
      "  category artistic techniques  \n",
      "  category aesthetics  \n",
      "  catautotoc  |\n",
      "|Category:Homogeneous spaces|  cat main homogeneous space  \n",
      "\n",
      "  category geometry  \n",
      "  category group actions  mathematics   \n",
      "  category mathematical structures                                    |\n",
      "+---------------------------+---------------------------------------------------------------------------------------------------------------------------------------------------------------------+\n",
      "only showing top 2 rows\n",
      "\n"
     ]
    }
   ],
   "source": [
    "df_clean.show(truncate=False, n=2)"
   ]
  },
  {
   "cell_type": "code",
   "execution_count": 11,
   "id": "normal-conclusion",
   "metadata": {},
   "outputs": [],
   "source": [
    "from pyspark.ml.feature import Tokenizer, StopWordsRemover"
   ]
  },
  {
   "cell_type": "code",
   "execution_count": 12,
   "id": "dense-terrorist",
   "metadata": {},
   "outputs": [],
   "source": [
    "tokenizer = Tokenizer(inputCol='text', outputCol='words_token')\n",
    "df_words_token = tokenizer.transform(df_clean).select(\"title\", \"words_token\")"
   ]
  },
  {
   "cell_type": "code",
   "execution_count": 13,
   "id": "complicated-drain",
   "metadata": {},
   "outputs": [
    {
     "name": "stdout",
     "output_type": "stream",
     "text": [
      "+---------------------------+---------------------------------------------------------------------------------------------------------------------------------------------------------------------------------------------------------------+\n",
      "|title                      |words_token                                                                                                                                                                                                    |\n",
      "+---------------------------+---------------------------------------------------------------------------------------------------------------------------------------------------------------------------------------------------------------+\n",
      "|Category:Symmetry          |[, , commons, cat, symmetry, , , , , cat, main, , , , , , category, geometry, , , , , category, theoretical, physics, , , , , category, artistic, techniques, , , , , category, aesthetics, , , , , catautotoc]|\n",
      "|Category:Homogeneous spaces|[, , cat, main, homogeneous, space, , , , , , category, geometry, , , , , category, group, actions, , mathematics, , , , , , category, mathematical, structures]                                               |\n",
      "+---------------------------+---------------------------------------------------------------------------------------------------------------------------------------------------------------------------------------------------------------+\n",
      "only showing top 2 rows\n",
      "\n"
     ]
    }
   ],
   "source": [
    "df_words_token.show(truncate=False, n=2)"
   ]
  },
  {
   "cell_type": "code",
   "execution_count": 14,
   "id": "worse-jersey",
   "metadata": {},
   "outputs": [],
   "source": [
    "stopWords = spark.sparkContext.textFile('data/stopwords.txt')\n",
    "stopWordList = stopWords.collect()"
   ]
  },
  {
   "cell_type": "code",
   "execution_count": 15,
   "id": "civic-lighter",
   "metadata": {},
   "outputs": [],
   "source": [
    "remover = StopWordsRemover(inputCol='words_token', outputCol='words_clean', stopWords=stopWordList)"
   ]
  },
  {
   "cell_type": "code",
   "execution_count": 16,
   "id": "bored-content",
   "metadata": {},
   "outputs": [],
   "source": [
    "df_no_stopWords = remover.transform(df_words_token).select('title', 'words_clean')"
   ]
  },
  {
   "cell_type": "code",
   "execution_count": 17,
   "id": "flush-bidder",
   "metadata": {},
   "outputs": [
    {
     "name": "stdout",
     "output_type": "stream",
     "text": [
      "+---------------------------+---------------------------------------------------------------------------------------------------------------------------------------------------------------------------------------------------------------+\n",
      "|title                      |words_clean                                                                                                                                                                                                    |\n",
      "+---------------------------+---------------------------------------------------------------------------------------------------------------------------------------------------------------------------------------------------------------+\n",
      "|Category:Symmetry          |[, , commons, cat, symmetry, , , , , cat, main, , , , , , category, geometry, , , , , category, theoretical, physics, , , , , category, artistic, techniques, , , , , category, aesthetics, , , , , catautotoc]|\n",
      "|Category:Homogeneous spaces|[, , cat, main, homogeneous, space, , , , , , category, geometry, , , , , category, group, actions, , mathematics, , , , , , category, mathematical, structures]                                               |\n",
      "+---------------------------+---------------------------------------------------------------------------------------------------------------------------------------------------------------------------------------------------------------+\n",
      "only showing top 2 rows\n",
      "\n"
     ]
    }
   ],
   "source": [
    "df_no_stopWords.show(truncate=False, n=2)"
   ]
  },
  {
   "cell_type": "code",
   "execution_count": 18,
   "id": "golden-thong",
   "metadata": {},
   "outputs": [],
   "source": [
    "from pyspark.sql.functions import pandas_udf,PandasUDFType\n",
    "from pyspark.sql.types import *\n",
    "import pandas as pd\n",
    "import numpy as np\n",
    "@pandas_udf(ArrayType(StringType()))\n",
    "def func(v: pd.Series) -> pd.Series:\n",
    "    res = []\n",
    "    for row in v:\n",
    "        res.append(row[row != ''])\n",
    "    return pd.Series(res)"
   ]
  },
  {
   "cell_type": "code",
   "execution_count": 19,
   "id": "pacific-chancellor",
   "metadata": {},
   "outputs": [],
   "source": [
    "words_clean_remove_empty = df_no_stopWords.withColumn('text',func(df_no_stopWords.words_clean)).select('title', 'text')"
   ]
  },
  {
   "cell_type": "code",
   "execution_count": 20,
   "id": "heavy-repository",
   "metadata": {},
   "outputs": [
    {
     "name": "stdout",
     "output_type": "stream",
     "text": [
      "+---------------------------+---------------------------------------------------------------------------------------------------------------------------------------------------------+\n",
      "|title                      |text                                                                                                                                                     |\n",
      "+---------------------------+---------------------------------------------------------------------------------------------------------------------------------------------------------+\n",
      "|Category:Symmetry          |[commons, cat, symmetry, cat, main, category, geometry, category, theoretical, physics, category, artistic, techniques, category, aesthetics, catautotoc]|\n",
      "|Category:Homogeneous spaces|[cat, main, homogeneous, space, category, geometry, category, group, actions, mathematics, category, mathematical, structures]                           |\n",
      "+---------------------------+---------------------------------------------------------------------------------------------------------------------------------------------------------+\n",
      "only showing top 2 rows\n",
      "\n"
     ]
    }
   ],
   "source": [
    "words_clean_remove_empty.show(truncate=False, n=2)"
   ]
  },
  {
   "cell_type": "code",
   "execution_count": 21,
   "id": "right-works",
   "metadata": {},
   "outputs": [],
   "source": [
    "from nltk.stem.snowball import SnowballStemmer\n",
    "\n",
    "stemmer = SnowballStemmer(language='english')\n",
    "stemmer_udf = udf(lambda tokens: [stemmer.stem(token) for token in tokens], ArrayType(StringType()))\n",
    "stemmed_words = words_clean_remove_empty.withColumn(\"SnowballStemmed\", stemmer_udf(\"text\"))"
   ]
  },
  {
   "cell_type": "code",
   "execution_count": 22,
   "id": "north-burning",
   "metadata": {},
   "outputs": [
    {
     "name": "stdout",
     "output_type": "stream",
     "text": [
      "+---------------------------+---------------------------------------------------------------------------------------------------------------------------------------------------------+--------------------------------------------------------------------------------------------------------------------------------------------+\n",
      "|title                      |text                                                                                                                                                     |SnowballStemmed                                                                                                                             |\n",
      "+---------------------------+---------------------------------------------------------------------------------------------------------------------------------------------------------+--------------------------------------------------------------------------------------------------------------------------------------------+\n",
      "|Category:Symmetry          |[commons, cat, symmetry, cat, main, category, geometry, category, theoretical, physics, category, artistic, techniques, category, aesthetics, catautotoc]|[common, cat, symmetri, cat, main, categori, geometri, categori, theoret, physic, categori, artist, techniqu, categori, aesthet, catautotoc]|\n",
      "|Category:Homogeneous spaces|[cat, main, homogeneous, space, category, geometry, category, group, actions, mathematics, category, mathematical, structures]                           |[cat, main, homogen, space, categori, geometri, categori, group, action, mathemat, categori, mathemat, structur]                            |\n",
      "+---------------------------+---------------------------------------------------------------------------------------------------------------------------------------------------------+--------------------------------------------------------------------------------------------------------------------------------------------+\n",
      "only showing top 2 rows\n",
      "\n"
     ]
    }
   ],
   "source": [
    "stemmed_words.show(truncate=False, n=2)"
   ]
  },
  {
   "cell_type": "code",
   "execution_count": 23,
   "id": "naked-boating",
   "metadata": {},
   "outputs": [],
   "source": [
    "@pandas_udf(ArrayType(StringType()))\n",
    "def func(v: pd.Series) -> pd.Series:\n",
    "    res = []\n",
    "    for tokens in v:\n",
    "        res.append([stemmer.stem(token) for token in tokens])\n",
    "    return pd.Series(res)"
   ]
  },
  {
   "cell_type": "code",
   "execution_count": 24,
   "id": "meaning-print",
   "metadata": {},
   "outputs": [],
   "source": [
    "stemmed_words = stemmed_words.withColumn('pandas_udf_stemmed',func(words_clean_remove_empty.text))"
   ]
  },
  {
   "cell_type": "code",
   "execution_count": 25,
   "id": "brutal-basement",
   "metadata": {},
   "outputs": [],
   "source": [
    "stemmed_words_with_size = stemmed_words.withColumn(\"token_count\", size(col(\"pandas_udf_stemmed\")))"
   ]
  },
  {
   "cell_type": "code",
   "execution_count": 26,
   "id": "thorough-mouse",
   "metadata": {},
   "outputs": [],
   "source": [
    "filtered_stemmed_words = stemmed_words_with_size.where(col(\"token_count\") > 1)"
   ]
  },
  {
   "cell_type": "code",
   "execution_count": 27,
   "id": "centered-spencer",
   "metadata": {},
   "outputs": [
    {
     "name": "stdout",
     "output_type": "stream",
     "text": [
      "150\n"
     ]
    }
   ],
   "source": [
    "print(stemmed_words_with_size.count())"
   ]
  },
  {
   "cell_type": "code",
   "execution_count": 28,
   "id": "fitted-tamil",
   "metadata": {},
   "outputs": [
    {
     "name": "stdout",
     "output_type": "stream",
     "text": [
      "150\n"
     ]
    }
   ],
   "source": [
    "print(filtered_stemmed_words.count())"
   ]
  },
  {
   "cell_type": "code",
   "execution_count": 29,
   "id": "yellow-baseball",
   "metadata": {},
   "outputs": [
    {
     "name": "stdout",
     "output_type": "stream",
     "text": [
      "root\n",
      " |-- title: string (nullable = true)\n",
      " |-- text: array (nullable = true)\n",
      " |    |-- element: string (containsNull = true)\n",
      " |-- SnowballStemmed: array (nullable = true)\n",
      " |    |-- element: string (containsNull = true)\n",
      " |-- pandas_udf_stemmed: array (nullable = true)\n",
      " |    |-- element: string (containsNull = true)\n",
      " |-- token_count: integer (nullable = false)\n",
      "\n"
     ]
    }
   ],
   "source": [
    "filtered_stemmed_words.printSchema()"
   ]
  },
  {
   "cell_type": "code",
   "execution_count": 30,
   "id": "fleet-acceptance",
   "metadata": {},
   "outputs": [],
   "source": [
    "from pyspark.ml.feature import CountVectorizer\n",
    "\n",
    "countVectorizer = CountVectorizer(inputCol=\"pandas_udf_stemmed\",\n",
    "                                      outputCol=\"termFreqs\",\n",
    "                                      vocabSize=20000)\n",
    "vocabModel = countVectorizer.fit(filtered_stemmed_words)\n",
    "docTermFreqs = vocabModel.transform(filtered_stemmed_words)"
   ]
  },
  {
   "cell_type": "code",
   "execution_count": 31,
   "id": "extended-advance",
   "metadata": {},
   "outputs": [
    {
     "data": {
      "text/plain": [
       "DataFrame[title: string, text: array<string>, SnowballStemmed: array<string>, pandas_udf_stemmed: array<string>, token_count: int, termFreqs: vector]"
      ]
     },
     "execution_count": 31,
     "metadata": {},
     "output_type": "execute_result"
    }
   ],
   "source": [
    "docTermFreqs.cache()"
   ]
  },
  {
   "cell_type": "code",
   "execution_count": 32,
   "id": "peripheral-college",
   "metadata": {},
   "outputs": [
    {
     "name": "stdout",
     "output_type": "stream",
     "text": [
      "+-----------------+--------------------+--------------------+--------------------+-----------+--------------------+\n",
      "|            title|                text|     SnowballStemmed|  pandas_udf_stemmed|token_count|           termFreqs|\n",
      "+-----------------+--------------------+--------------------+--------------------+-----------+--------------------+\n",
      "|Category:Symmetry|[commons, cat, sy...|[common, cat, sym...|[common, cat, sym...|         16|(13550,[7,56,91,1...|\n",
      "+-----------------+--------------------+--------------------+--------------------+-----------+--------------------+\n",
      "only showing top 1 row\n",
      "\n"
     ]
    }
   ],
   "source": [
    "docTermFreqs.show(n=1)"
   ]
  },
  {
   "cell_type": "code",
   "execution_count": 33,
   "id": "entertaining-watch",
   "metadata": {},
   "outputs": [],
   "source": [
    "from pyspark.ml.feature import IDF\n",
    "\n",
    "idf = IDF(inputCol=\"termFreqs\", \n",
    "          outputCol=\"tfidfVec\")\n",
    "idfModel = idf.fit(docTermFreqs)\n",
    "docTermMatrix = idfModel.transform(docTermFreqs).select(\"title\", \"tfidfVec\")"
   ]
  },
  {
   "cell_type": "code",
   "execution_count": 34,
   "id": "characteristic-blast",
   "metadata": {},
   "outputs": [
    {
     "name": "stdout",
     "output_type": "stream",
     "text": [
      "+--------------------+--------------------+\n",
      "|               title|            tfidfVec|\n",
      "+--------------------+--------------------+\n",
      "|   Category:Symmetry|(13550,[7,56,91,1...|\n",
      "|Category:Homogene...|(13550,[7,14,24,3...|\n",
      "|       Ambient space|(13550,[0,1,2,3,5...|\n",
      "|Category:Duality ...|(13550,[1,3,7,38,...|\n",
      "|          Superspace|(13550,[0,1,2,3,4...|\n",
      "|     Geometry Center|(13550,[0,1,2,5,6...|\n",
      "|          Dehn plane|(13550,[0,1,3,5,6...|\n",
      "|Complex reflectio...|(13550,[0,1,2,3,4...|\n",
      "|    Lipschitz domain|(13550,[0,1,2,3,5...|\n",
      "|        Complex line|(13550,[2,7,8,10,...|\n",
      "|Visibility (geome...|(13550,[2,5,6,7,8...|\n",
      "|   Spacetime diagram|(13550,[0,1,2,3,4...|\n",
      "|Partial linear space|(13550,[0,1,3,5,7...|\n",
      "| Geometry processing|(13550,[0,1,2,3,5...|\n",
      "|          Hatch mark|(13550,[0,1,2,3,5...|\n",
      "|       Lattice plane|(13550,[2,5,7,12,...|\n",
      "|Tarski's plank pr...|(13550,[0,1,2,3,4...|\n",
      "|     Visual calculus|(13550,[0,2,3,5,6...|\n",
      "|          Benz plane|(13550,[0,1,2,3,5...|\n",
      "|Infinitely near p...|(13550,[0,1,2,3,4...|\n",
      "+--------------------+--------------------+\n",
      "only showing top 20 rows\n",
      "\n"
     ]
    }
   ],
   "source": [
    "docTermMatrix.show()"
   ]
  },
  {
   "cell_type": "code",
   "execution_count": 35,
   "id": "higher-soldier",
   "metadata": {},
   "outputs": [],
   "source": [
    "from pyspark.sql.functions import monotonically_increasing_id\n",
    "\n",
    "docTermFreqswithID = docTermFreqs.withColumn('id', monotonically_increasing_id()).cache()"
   ]
  },
  {
   "cell_type": "code",
   "execution_count": 36,
   "id": "aware-killer",
   "metadata": {},
   "outputs": [
    {
     "name": "stdout",
     "output_type": "stream",
     "text": [
      "+--------------------+--------------------+--------------------+--------------------+-----------+--------------------+---+\n",
      "|               title|                text|     SnowballStemmed|  pandas_udf_stemmed|token_count|           termFreqs| id|\n",
      "+--------------------+--------------------+--------------------+--------------------+-----------+--------------------+---+\n",
      "|   Category:Symmetry|[commons, cat, sy...|[common, cat, sym...|[common, cat, sym...|         16|(13550,[7,56,91,1...|  0|\n",
      "|Category:Homogene...|[cat, main, homog...|[cat, main, homog...|[cat, main, homog...|         13|(13550,[7,14,24,3...|  1|\n",
      "|       Ambient space|[short, descripti...|[short, descript,...|[short, descript,...|        312|(13550,[0,1,2,3,5...|  2|\n",
      "|Category:Duality ...|[portal, mathemat...|[portal, mathemat...|[portal, mathemat...|         48|(13550,[1,3,7,38,...|  3|\n",
      "|          Superspace|[superspace, coor...|[superspac, coord...|[superspac, coord...|       1512|(13550,[0,1,2,3,4...|  4|\n",
      "|     Geometry Center|[geometry, center...|[geometri, center...|[geometri, center...|        649|(13550,[0,1,2,5,6...|  5|\n",
      "|          Dehn plane|[geometry, dehn, ...|[geometri, dehn, ...|[geometri, dehn, ...|        468|(13550,[0,1,3,5,6...|  6|\n",
      "|Complex reflectio...|[mathematics, com...|[mathemat, comple...|[mathemat, comple...|       4384|(13550,[0,1,2,3,4...|  7|\n",
      "|    Lipschitz domain|[mathematics, lip...|[mathemat, lipsch...|[mathemat, lipsch...|        452|(13550,[0,1,2,3,5...|  8|\n",
      "|        Complex line|[mathematics, com...|[mathemat, comple...|[mathemat, comple...|        204|(13550,[2,7,8,10,...|  9|\n",
      "|Visibility (geome...|[visibility, geom...|[visibl, geometri...|[visibl, geometri...|        298|(13550,[2,5,6,7,8...| 10|\n",
      "|   Spacetime diagram|[file, minkowski,...|[file, minkowski,...|[file, minkowski,...|       4454|(13550,[0,1,2,3,4...| 11|\n",
      "|Partial linear space|[partial, linear,...|[partial, linear,...|[partial, linear,...|        244|(13550,[0,1,3,5,7...| 12|\n",
      "| Geometry processing|[file, polygon, m...|[file, polygon, m...|[file, polygon, m...|       3214|(13550,[0,1,2,3,5...| 13|\n",
      "|          Hatch mark|[uses, hash, mark...|[use, hash, mark,...|[use, hash, mark,...|        523|(13550,[0,1,2,3,5...| 14|\n",
      "|       Lattice plane|[crystallography,...|[crystallographi,...|[crystallographi,...|        119|(13550,[2,5,7,12,...| 15|\n",
      "|Tarski's plank pr...|[mathematics, tar...|[mathemat, tarski...|[mathemat, tarski...|        359|(13550,[0,1,2,3,4...| 16|\n",
      "|     Visual calculus|[short, descripti...|[short, descript,...|[short, descript,...|        571|(13550,[0,2,3,5,6...| 17|\n",
      "|          Benz plane|[mathematics, ben...|[mathemat, benz, ...|[mathemat, benz, ...|        556|(13550,[0,1,2,3,5...| 18|\n",
      "|Infinitely near p...|[algebraic, geome...|[algebra, geometr...|[algebra, geometr...|        532|(13550,[0,1,2,3,4...| 19|\n",
      "+--------------------+--------------------+--------------------+--------------------+-----------+--------------------+---+\n",
      "only showing top 20 rows\n",
      "\n"
     ]
    }
   ],
   "source": [
    "docTermFreqswithID.show()"
   ]
  },
  {
   "cell_type": "code",
   "execution_count": 37,
   "id": "false-segment",
   "metadata": {},
   "outputs": [
    {
     "name": "stdout",
     "output_type": "stream",
     "text": [
      "root\n",
      " |-- title: string (nullable = true)\n",
      " |-- tfidfVec: vector (nullable = true)\n",
      "\n"
     ]
    }
   ],
   "source": [
    "docTermMatrix.printSchema()"
   ]
  },
  {
   "cell_type": "code",
   "execution_count": 38,
   "id": "described-douglas",
   "metadata": {},
   "outputs": [],
   "source": [
    "from pyspark.mllib.linalg.distributed import RowMatrix"
   ]
  },
  {
   "cell_type": "markdown",
   "id": "short-romantic",
   "metadata": {},
   "source": [
    "[ml 과 mllib 벡터](https://stackoverflow.com/questions/41074182/cannot-convert-type-class-pyspark-ml-linalg-sparsevector-into-vector)"
   ]
  },
  {
   "cell_type": "code",
   "execution_count": 39,
   "id": "competent-pharmacy",
   "metadata": {},
   "outputs": [
    {
     "name": "stdout",
     "output_type": "stream",
     "text": [
      "+--------------------+--------------------+\n",
      "|               title|            tfidfVec|\n",
      "+--------------------+--------------------+\n",
      "|   Category:Symmetry|(13550,[7,56,91,1...|\n",
      "|Category:Homogene...|(13550,[7,14,24,3...|\n",
      "|       Ambient space|(13550,[0,1,2,3,5...|\n",
      "|Category:Duality ...|(13550,[1,3,7,38,...|\n",
      "|          Superspace|(13550,[0,1,2,3,4...|\n",
      "|     Geometry Center|(13550,[0,1,2,5,6...|\n",
      "|          Dehn plane|(13550,[0,1,3,5,6...|\n",
      "|Complex reflectio...|(13550,[0,1,2,3,4...|\n",
      "|    Lipschitz domain|(13550,[0,1,2,3,5...|\n",
      "|        Complex line|(13550,[2,7,8,10,...|\n",
      "|Visibility (geome...|(13550,[2,5,6,7,8...|\n",
      "|   Spacetime diagram|(13550,[0,1,2,3,4...|\n",
      "|Partial linear space|(13550,[0,1,3,5,7...|\n",
      "| Geometry processing|(13550,[0,1,2,3,5...|\n",
      "|          Hatch mark|(13550,[0,1,2,3,5...|\n",
      "|       Lattice plane|(13550,[2,5,7,12,...|\n",
      "|Tarski's plank pr...|(13550,[0,1,2,3,4...|\n",
      "|     Visual calculus|(13550,[0,2,3,5,6...|\n",
      "|          Benz plane|(13550,[0,1,2,3,5...|\n",
      "|Infinitely near p...|(13550,[0,1,2,3,4...|\n",
      "+--------------------+--------------------+\n",
      "only showing top 20 rows\n",
      "\n"
     ]
    }
   ],
   "source": [
    "from pyspark.mllib.util import MLUtils\n",
    "vecDF = MLUtils.convertVectorColumnsFromML(docTermMatrix, \"tfidfVec\")\n",
    "vecDF.show()"
   ]
  },
  {
   "cell_type": "code",
   "execution_count": 40,
   "id": "revised-prevention",
   "metadata": {},
   "outputs": [],
   "source": [
    "vecRDD = vecDF.select(\"tfidfVec\").rdd.flatMap(lambda x:x)\n",
    "\n",
    "mat = RowMatrix(vecRDD)"
   ]
  },
  {
   "cell_type": "code",
   "execution_count": 41,
   "id": "alive-opportunity",
   "metadata": {},
   "outputs": [],
   "source": [
    "svd = mat.computeSVD(50, computeU=True)"
   ]
  },
  {
   "cell_type": "code",
   "execution_count": 42,
   "id": "victorian-friend",
   "metadata": {},
   "outputs": [],
   "source": [
    "termIds = vocabModel.vocabulary"
   ]
  },
  {
   "cell_type": "code",
   "execution_count": 43,
   "id": "compatible-thomson",
   "metadata": {},
   "outputs": [],
   "source": [
    "docIds = docTermFreqswithID.select(create_map('id', 'title').alias('map'))"
   ]
  },
  {
   "cell_type": "code",
   "execution_count": 44,
   "id": "informed-cornwall",
   "metadata": {},
   "outputs": [
    {
     "name": "stdout",
     "output_type": "stream",
     "text": [
      "+--------------------+\n",
      "|                 map|\n",
      "+--------------------+\n",
      "|[0 -> Category:Sy...|\n",
      "+--------------------+\n",
      "only showing top 1 row\n",
      "\n"
     ]
    }
   ],
   "source": [
    "docIds.show(n=1)"
   ]
  },
  {
   "cell_type": "code",
   "execution_count": 45,
   "id": "cardiac-violence",
   "metadata": {},
   "outputs": [
    {
     "data": {
      "text/plain": [
       "[Row(map={0: 'Category:Symmetry'}),\n",
       " Row(map={1: 'Category:Homogeneous spaces'}),\n",
       " Row(map={2: 'Ambient space'}),\n",
       " Row(map={3: 'Category:Duality theories'}),\n",
       " Row(map={4: 'Superspace'}),\n",
       " Row(map={5: 'Geometry Center'}),\n",
       " Row(map={6: 'Dehn plane'}),\n",
       " Row(map={7: 'Complex reflection group'}),\n",
       " Row(map={8: 'Lipschitz domain'}),\n",
       " Row(map={9: 'Complex line'}),\n",
       " Row(map={10: 'Visibility (geometry)'}),\n",
       " Row(map={11: 'Spacetime diagram'}),\n",
       " Row(map={12: 'Partial linear space'}),\n",
       " Row(map={13: 'Geometry processing'}),\n",
       " Row(map={14: 'Hatch mark'}),\n",
       " Row(map={15: 'Lattice plane'}),\n",
       " Row(map={16: \"Tarski's plank problem\"}),\n",
       " Row(map={17: 'Visual calculus'}),\n",
       " Row(map={18: 'Benz plane'}),\n",
       " Row(map={19: 'Infinitely near point'}),\n",
       " Row(map={20: 'Isogonal'}),\n",
       " Row(map={21: 'Axis-aligned object'}),\n",
       " Row(map={22: 'Coplanarity'}),\n",
       " Row(map={23: 'Real tree'}),\n",
       " Row(map={24: 'Manipulability ellipsoid'}),\n",
       " Row(map={25: \"Cavalieri's principle\"}),\n",
       " Row(map={26: 'Flatness (mathematics)'}),\n",
       " Row(map={27: 'Corner-point grid'}),\n",
       " Row(map={28: 'Symmetry group'}),\n",
       " Row(map={29: 'Timeline of geometry'}),\n",
       " Row(map={30: 'Category:Geometers'}),\n",
       " Row(map={31: 'Outline of geometry'}),\n",
       " Row(map={32: 'Mathematical visualization'}),\n",
       " Row(map={33: 'Ageometresia'}),\n",
       " Row(map={34: \"Analyst's traveling salesman theorem\"}),\n",
       " Row(map={35: 'Supporting line'}),\n",
       " Row(map={36: 'Minkowski space'}),\n",
       " Row(map={37: 'Link (geometry)'}),\n",
       " Row(map={38: 'Equichordal point'}),\n",
       " Row(map={39: 'Quasisymmetric map'}),\n",
       " Row(map={40: \"Wittgenstein's rod\"}),\n",
       " Row(map={41: 'Strähle construction'}),\n",
       " Row(map={42: 'Rabatment of the rectangle'}),\n",
       " Row(map={43: 'Unit hyperbola'}),\n",
       " Row(map={44: 'Bragg plane'}),\n",
       " Row(map={45: 'Transversality (mathematics)'}),\n",
       " Row(map={46: 'Category:History of geometry'}),\n",
       " Row(map={47: 'Geometry and topology'}),\n",
       " Row(map={48: 'Pregeometry (model theory)'}),\n",
       " Row(map={49: 'Category:Geometry in computer vision'}),\n",
       " Row(map={50: 'Pregeometry (physics)'}),\n",
       " Row(map={51: 'Category:Theorems in geometry'}),\n",
       " Row(map={52: 'Category:Transformation (function)'}),\n",
       " Row(map={53: 'Affine plane (incidence geometry)'}),\n",
       " Row(map={54: 'Robbins constant'}),\n",
       " Row(map={55: \"Lill's method\"}),\n",
       " Row(map={56: 'Lacunarity'}),\n",
       " Row(map={57: 'Exsphere (polyhedra)'}),\n",
       " Row(map={58: 'Category:Geometry stubs'}),\n",
       " Row(map={59: 'Line moiré'}),\n",
       " Row(map={60: 'Shape moiré'}),\n",
       " Row(map={61: 'Corresponding sides and corresponding angles'}),\n",
       " Row(map={62: 'Laguerre plane'}),\n",
       " Row(map={63: 'Minkowski plane'}),\n",
       " Row(map={64: 'Quadratic set'}),\n",
       " Row(map={65: 'Second moment of area'}),\n",
       " Row(map={66: 'Lénárt sphere'}),\n",
       " Row(map={67: 'Geometry of binary search trees'}),\n",
       " Row(map={68: 'Huzita–Hatori axioms'}),\n",
       " Row(map={69: 'Minkowski–Steiner formula'}),\n",
       " Row(map={70: 'Category:Geometric objects'}),\n",
       " Row(map={71: 'Auxiliary line'}),\n",
       " Row(map={72: 'Amplituhedron'}),\n",
       " Row(map={73: 'Sum of angles of a triangle'}),\n",
       " Row(map={74: 'Approximate tangent space'}),\n",
       " Row(map={75: 'Geometric separator'}),\n",
       " Row(map={76: 'Minimum bounding box'}),\n",
       " Row(map={77: 'Subpaving'}),\n",
       " Row(map={78: 'Affine plane'}),\n",
       " Row(map={79: 'Busemann function'}),\n",
       " Row(map={80: 'Linear separability'}),\n",
       " Row(map={81: 'Finite subdivision rule'}),\n",
       " Row(map={82: 'Fat object (geometry)'}),\n",
       " Row(map={83: 'Geometric transformation'}),\n",
       " Row(map={84: 'Snub (geometry)'}),\n",
       " Row(map={85: 'Coin rotation paradox'}),\n",
       " Row(map={86: 'Great ellipse'}),\n",
       " Row(map={87: 'Category:Orientation (geometry)'}),\n",
       " Row(map={88: 'Cramer–Castillon problem'}),\n",
       " Row(map={89: 'Sheaf of planes'}),\n",
       " Row(map={90: 'Almgren–Pitts min-max theory'}),\n",
       " Row(map={91: 'Oswald Veblen Prize in Geometry'}),\n",
       " Row(map={92: 'Circumcenter of mass'}),\n",
       " Row(map={93: 'Catenoid'}),\n",
       " Row(map={94: 'Schema for horizontal dials'}),\n",
       " Row(map={95: 'Angular unit'}),\n",
       " Row(map={96: 'Biconcave disc'}),\n",
       " Row(map={97: 'Geometric set cover problem'}),\n",
       " Row(map={98: 'List of geometry topics'}),\n",
       " Row(map={99: 'Surface (mathematics)'}),\n",
       " Row(map={100: 'Behrend function'}),\n",
       " Row(map={101: 'Geometrothermodynamics'}),\n",
       " Row(map={102: 'Local coordinates'}),\n",
       " Row(map={103: 'Minkowski content'}),\n",
       " Row(map={104: 'Miller index'}),\n",
       " Row(map={105: 'Geometry'}),\n",
       " Row(map={106: 'Regulus (geometry)'}),\n",
       " Row(map={107: 'Secant plane'}),\n",
       " Row(map={108: 'Twisted sheaf'}),\n",
       " Row(map={109: 'Volume and displacement indicators for an architectural structure'}),\n",
       " Row(map={110: 'Coxeter decompositions of hyperbolic polygons'}),\n",
       " Row(map={111: 'Base change theorems'}),\n",
       " Row(map={112: 'Bayesian model of computational anatomy'}),\n",
       " Row(map={113: 'Computational anatomy'}),\n",
       " Row(map={114: 'Group actions in computational anatomy'}),\n",
       " Row(map={115: 'Large deformation diffeomorphic metric mapping'}),\n",
       " Row(map={116: 'Riemannian metric and Lie bracket in computational anatomy'}),\n",
       " Row(map={117: 'Category:Topology'}),\n",
       " Row(map={118: 'Cubinder'}),\n",
       " Row(map={119: 'Vertical and horizontal'}),\n",
       " Row(map={120: 'Geometry template'}),\n",
       " Row(map={121: 'Acylindrically hyperbolic group'}),\n",
       " Row(map={122: 'Diffeomorphometry'}),\n",
       " Row(map={123: \"Haruki's Theorem\"}),\n",
       " Row(map={124: 'Space'}),\n",
       " Row(map={125: 'Point-normal triangle'}),\n",
       " Row(map={126: 'Nonagon'}),\n",
       " Row(map={127: 'Similarity system of triangles'}),\n",
       " Row(map={128: 'Symmetry'}),\n",
       " Row(map={129: 'Genus g surface'}),\n",
       " Row(map={130: 'Newton–Gauss line'}),\n",
       " Row(map={131: 'Coaxial'}),\n",
       " Row(map={132: 'Categorical trace'}),\n",
       " Row(map={133: 'Inverse Pythagorean theorem'}),\n",
       " Row(map={134: 'Category:Geometric measurement'}),\n",
       " Row(map={135: 'Abelian Lie group'}),\n",
       " Row(map={136: 'Valuation (geometry)'}),\n",
       " Row(map={137: 'Moiré pattern'}),\n",
       " Row(map={138: 'Gram–Euler theorem'}),\n",
       " Row(map={139: 'Perspective geological correlation'}),\n",
       " Row(map={140: 'Bridgeland stability condition'}),\n",
       " Row(map={141: 'Deformed Hermitian Yang–Mills equation'}),\n",
       " Row(map={142: 'Laguerre transformations'}),\n",
       " Row(map={143: 'Badouel intersection algorithm'}),\n",
       " Row(map={144: 'Buffer (GIS)'}),\n",
       " Row(map={145: 'Category:Space'}),\n",
       " Row(map={146: 'Category:Fields of geometry'}),\n",
       " Row(map={147: 'Category:Unsolved problems in geometry'}),\n",
       " Row(map={148: \"Cat's cradle\"}),\n",
       " Row(map={149: '600-cell'})]"
      ]
     },
     "execution_count": 45,
     "metadata": {},
     "output_type": "execute_result"
    }
   ],
   "source": [
    "docIds.collect()"
   ]
  },
  {
   "cell_type": "code",
   "execution_count": 46,
   "id": "exciting-specification",
   "metadata": {},
   "outputs": [],
   "source": [
    "v = svd.V"
   ]
  },
  {
   "cell_type": "code",
   "execution_count": 47,
   "id": "surrounded-cocktail",
   "metadata": {},
   "outputs": [],
   "source": [
    "arr = v.toArray()"
   ]
  },
  {
   "cell_type": "code",
   "execution_count": 48,
   "id": "played-paste",
   "metadata": {},
   "outputs": [
    {
     "data": {
      "text/plain": [
       "array([[-2.82703518e-01,  1.64697759e-01,  1.47379783e-01, ...,\n",
       "        -2.68032486e-02,  7.88174405e-02, -9.40086762e-02],\n",
       "       [-1.08884980e-01,  4.19537196e-02,  2.17882971e-02, ...,\n",
       "         2.76171395e-02, -2.58898615e-02, -4.08647334e-02],\n",
       "       [-5.24200208e-02,  3.51223888e-02, -3.53020490e-02, ...,\n",
       "         5.43403774e-03,  2.41877855e-02,  3.98727601e-03],\n",
       "       ...,\n",
       "       [-1.43369658e-04,  5.81407408e-05, -8.93747465e-05, ...,\n",
       "        -5.57202907e-04, -2.35575798e-04, -1.67956605e-04],\n",
       "       [-9.26131114e-05,  3.12016253e-05,  9.60880822e-05, ...,\n",
       "        -4.52348849e-04, -3.38346245e-04, -4.05417903e-04],\n",
       "       [-5.03847318e-05,  2.00135761e-05, -4.67463228e-06, ...,\n",
       "         2.96339230e-04, -1.43502647e-05, -6.19633881e-04]])"
      ]
     },
     "execution_count": 48,
     "metadata": {},
     "output_type": "execute_result"
    }
   ],
   "source": [
    "arr"
   ]
  },
  {
   "cell_type": "code",
   "execution_count": 49,
   "id": "boolean-supervision",
   "metadata": {},
   "outputs": [],
   "source": [
    "transposedArr = arr.transpose()"
   ]
  },
  {
   "cell_type": "code",
   "execution_count": 51,
   "id": "biblical-baking",
   "metadata": {},
   "outputs": [
    {
     "data": {
      "text/plain": [
       "50"
      ]
     },
     "execution_count": 51,
     "metadata": {},
     "output_type": "execute_result"
    }
   ],
   "source": [
    "arr[0]\n",
    "len(arr[0])"
   ]
  },
  {
   "cell_type": "code",
   "execution_count": 52,
   "id": "empty-tsunami",
   "metadata": {},
   "outputs": [
    {
     "data": {
      "text/plain": [
       "13550"
      ]
     },
     "execution_count": 52,
     "metadata": {},
     "output_type": "execute_result"
    }
   ],
   "source": [
    "len(arr)"
   ]
  },
  {
   "cell_type": "code",
   "execution_count": 53,
   "id": "upset-armstrong",
   "metadata": {},
   "outputs": [],
   "source": [
    "def topTermsInTopConcepts(svd, numConcepts, numTerms, termIds):\n",
    "    arr = svd.V.toArray().transpose()\n",
    "    res = []\n",
    "    for i,v  in enumerate(arr):\n",
    "        if( i > numConcepts ): break\n",
    "\n",
    "        v = list(enumerate(v))\n",
    "        v.sort(key=lambda x : x[1], reverse=True)\n",
    "        v = v[0:numTerms]\n",
    "        v = list((termIds[termId], score) for termId, score in v)\n",
    "        res.append(v)\n",
    "    return res"
   ]
  },
  {
   "cell_type": "code",
   "execution_count": 54,
   "id": "current-valuable",
   "metadata": {},
   "outputs": [
    {
     "data": {
      "text/plain": [
       "[[('geometri', 1.5678831981049865e-19),\n",
       "  ('categori', -6.094395078157064e-19),\n",
       "  ('wpss', -4.974050824577774e-08),\n",
       "  ('newstub', -4.9740508245792666e-08),\n",
       "  ('catrel', -1.8113050476640275e-07),\n",
       "  ('spaceflight', -5.381884622449594e-07),\n",
       "  ('disambig', -6.997036659610312e-07),\n",
       "  ('catautotoc', -8.329525916104524e-07),\n",
       "  ('gem', -9.392279543308255e-07),\n",
       "  ('cs348b', -9.392279543312185e-07)],\n",
       " [('phi', 0.18799956042473137),\n",
       "  ('math', 0.1646977587223749),\n",
       "  ('t', 0.1303945111415621),\n",
       "  ('diffeomorph', 0.11638211453415771),\n",
       "  ('anatomi', 0.10731195094533721),\n",
       "  ('v', 0.10024116137011954),\n",
       "  ('match', 0.0758741837413897),\n",
       "  ('x', 0.07161059203462791),\n",
       "  ('sub', 0.06966893576247948),\n",
       "  ('varphi', 0.0690792482638371)],\n",
       " [('sub', 0.5352921187049191),\n",
       "  ('y', 0.15643338031422663),\n",
       "  ('math', 0.14737978347414654),\n",
       "  ('h', 0.13018148632796064),\n",
       "  ('gamma', 0.1256484507454903),\n",
       "  ('x', 0.1117757223295788),\n",
       "  ('busemann', 0.09606925447307893),\n",
       "  ('hadamard', 0.09496404110893532),\n",
       "  ('sup', 0.08947497536140395),\n",
       "  ('d', 0.08225988449983479)],\n",
       " [('cell', 0.17681326916260703),\n",
       "  ('sub', 0.12909820510773531),\n",
       "  ('600', 0.09863778978116183),\n",
       "  ('radic', 0.05983268958002619),\n",
       "  ('y', 0.04695309660297572),\n",
       "  ('x', 0.04118935855550125),\n",
       "  ('geodes', 0.039074408017503545),\n",
       "  ('gamma', 0.037944343466101774),\n",
       "  ('chord', 0.03735098595085698),\n",
       "  ('24', 0.035810241439017475)],\n",
       " [('minkowski', 0.3139689439095486),\n",
       "  ('u', 0.29987166620952777),\n",
       "  ('mathbf', 0.24458731837129166),\n",
       "  ('spacetim', 0.20462966222813353),\n",
       "  ('vector', 0.18345589908767337),\n",
       "  ('sup', 0.16833125447969197),\n",
       "  ('mvar', 0.15288524756511634),\n",
       "  ('left', 0.14829251370055882),\n",
       "  ('eta', 0.1274839327633122),\n",
       "  ('tau', 0.12307784989717094)]]"
      ]
     },
     "execution_count": 54,
     "metadata": {},
     "output_type": "execute_result"
    }
   ],
   "source": [
    "topTermsInTopConcepts(svd, 4, 10, termIds)"
   ]
  },
  {
   "cell_type": "code",
   "execution_count": 55,
   "id": "center-wilderness",
   "metadata": {},
   "outputs": [],
   "source": [
    "def topDocsInTopConcept(svd, numConcepts, numDocs, docIds):\n",
    "    u = svd.U\n",
    "    res = []\n",
    "\n",
    "    for i, u in enumerate(u.rows.map(lambda i : i.toArray()).collect()):\n",
    "        if( i > numConcepts ): break\n",
    "        u = list(enumerate(u))\n",
    "        u.sort(key=lambda x: x[1], reverse=True)\n",
    "        u = u[0:numDocs]\n",
    "        u = list((docIds.collect()[docId][0][docId], score) for docId, score in u)\n",
    "        res.append(u)\n",
    "    return res"
   ]
  },
  {
   "cell_type": "code",
   "execution_count": 56,
   "id": "conventional-astronomy",
   "metadata": {},
   "outputs": [
    {
     "data": {
      "text/plain": [
       "[[('Hatch mark', 0.002544294286500924),\n",
       "  ('Transversality (mathematics)', 0.0010153629251844684),\n",
       "  ('Supporting line', 0.0009310251030893441),\n",
       "  (\"Cavalieri's principle\", 0.000765911098599488),\n",
       "  ('Geometry processing', 0.0007434422443675006),\n",
       "  ('Timeline of geometry', 0.0006033744774238724),\n",
       "  ('Outline of geometry', 0.0005058739268164644),\n",
       "  ('Mathematical visualization', 0.0003962247715992711),\n",
       "  ('Quasisymmetric map', 0.00036315619310208283),\n",
       "  (\"Tarski's plank problem\", 0.0003349396551846728)],\n",
       " [(\"Cavalieri's principle\", 0.0011419559849047338),\n",
       "  ('Outline of geometry', 0.0010811961779002002),\n",
       "  ('Mathematical visualization', 0.0009448482480736536),\n",
       "  ('Supporting line', 0.0008373239410025579),\n",
       "  ('Isogonal', 0.0006324171236660299),\n",
       "  ('Unit hyperbola', 0.0004245118471315644),\n",
       "  ('Infinitely near point', 0.00042350087679640343),\n",
       "  ('Category:History of geometry', 0.00031575871801271696),\n",
       "  ('Complex line', 0.0002953242113434343),\n",
       "  ('Geometry and topology', 0.00028865409890449414)],\n",
       " [('Equichordal point', 0.027816755142882923),\n",
       "  ('Link (geometry)', 0.01582804875773949),\n",
       "  ('Mathematical visualization', 0.011876358752207654),\n",
       "  (\"Cavalieri's principle\", 0.011551111771440215),\n",
       "  ('Pregeometry (model theory)', 0.008706602614215126),\n",
       "  ('Ageometresia', 0.007129155322196085),\n",
       "  ('Infinitely near point', 0.006052034180649195),\n",
       "  ('Superspace', 0.005440204340010548),\n",
       "  ('Timeline of geometry', 0.0032907410172335356),\n",
       "  ('Supporting line', 0.0026559445470107404)],\n",
       " [(\"Analyst's traveling salesman theorem\", 0.0018700644043666327),\n",
       "  (\"Cavalieri's principle\", 0.0017758005408830201),\n",
       "  ('Mathematical visualization', 0.0016470437765171546),\n",
       "  ('Equichordal point', 0.0016233415881783562),\n",
       "  ('Link (geometry)', 0.0014191720957362423),\n",
       "  ('Coplanarity', 0.0012686256906339552),\n",
       "  ('Category:Geometry in computer vision', 0.0010423176055480404),\n",
       "  ('Timeline of geometry', 0.0009722235651566459),\n",
       "  ('Symmetry group', 0.0009432115268424644),\n",
       "  ('Ageometresia', 0.0008987998232418347)],\n",
       " [('Outline of geometry', 0.6645452573507598),\n",
       "  (\"Analyst's traveling salesman theorem\", 0.28773492295145586),\n",
       "  (\"Cavalieri's principle\", 0.2619819783421247),\n",
       "  ('Link (geometry)', 0.2390951368885324),\n",
       "  ('Timeline of geometry', 0.18189508317196904),\n",
       "  ('Symmetry group', 0.16192053075411067),\n",
       "  ('Category:Geometers', 0.11829653751542722),\n",
       "  ('Strähle construction', 0.10432410479934964),\n",
       "  ('Axis-aligned object', 0.08284289876969361),\n",
       "  ('Superspace', 0.05640352476143023)]]"
      ]
     },
     "execution_count": 56,
     "metadata": {},
     "output_type": "execute_result"
    }
   ],
   "source": [
    "topDocsInTopConcept(svd, 4, 10, docIds)"
   ]
  },
  {
   "cell_type": "code",
   "execution_count": 58,
   "id": "filled-gardening",
   "metadata": {},
   "outputs": [
    {
     "name": "stdout",
     "output_type": "stream",
     "text": [
      "<class 'pyspark.mllib.linalg.distributed.RowMatrix'>\n",
      "<class 'pyspark.mllib.linalg.DenseVector'>\n",
      "<class 'pyspark.mllib.linalg.DenseMatrix'>\n"
     ]
    }
   ],
   "source": [
    "u = svd.U\n",
    "s = svd.s\n",
    "v = svd.V\n",
    "\n",
    "print(type(u))\n",
    "print(type(s))\n",
    "print(type(v))"
   ]
  },
  {
   "cell_type": "code",
   "execution_count": 65,
   "id": "australian-effort",
   "metadata": {},
   "outputs": [],
   "source": [
    "from pyspark.mllib.linalg.distributed import IndexedRow, IndexedRowMatrix\n",
    "\n",
    "s_distributed = spark.sparkContext.parallelize(np.diag(s.toArray())).zipWithIndex() # 대각 행렬\n",
    "s_distributed = IndexedRowMatrix(s_distributed.map(lambda row: IndexedRow(row[1], row[0]))).toBlockMatrix()"
   ]
  },
  {
   "cell_type": "code",
   "execution_count": 74,
   "id": "preceding-assistant",
   "metadata": {},
   "outputs": [],
   "source": [
    "v_distributed = spark.sparkContext.parallelize(v.toArray()).zipWithIndex()\n",
    "v_distributed = IndexedRowMatrix(v_distributed.map(lambda row: IndexedRow(row[1], row[0]))).toBlockMatrix()"
   ]
  },
  {
   "cell_type": "code",
   "execution_count": 75,
   "id": "residential-telescope",
   "metadata": {},
   "outputs": [
    {
     "name": "stdout",
     "output_type": "stream",
     "text": [
      "<class 'pyspark.mllib.linalg.distributed.BlockMatrix'>\n",
      "<class 'pyspark.mllib.linalg.distributed.BlockMatrix'>\n"
     ]
    }
   ],
   "source": [
    "print(type(s_distributed))\n",
    "print(type(v_distributed))"
   ]
  },
  {
   "cell_type": "code",
   "execution_count": 76,
   "id": "occupational-journal",
   "metadata": {},
   "outputs": [],
   "source": [
    "sv_distributed = v_distributed.multiply(s_distributed)"
   ]
  },
  {
   "cell_type": "code",
   "execution_count": 84,
   "id": "unauthorized-seven",
   "metadata": {},
   "outputs": [],
   "source": [
    "sv_dotted = sv_distributed.blocks.collect()"
   ]
  },
  {
   "cell_type": "code",
   "execution_count": 85,
   "id": "arabic-mystery",
   "metadata": {},
   "outputs": [
    {
     "name": "stderr",
     "output_type": "stream",
     "text": [
      "/usr/local/lib/python3.8/dist-packages/numpy/core/_asarray.py:102: VisibleDeprecationWarning: Creating an ndarray from ragged nested sequences (which is a list-or-tuple of lists-or-tuples-or ndarrays with different lengths or shapes) is deprecated. If you meant to do this, you must specify 'dtype=object' when creating the ndarray.\n",
      "  return array(a, dtype, copy=False, order=order)\n"
     ]
    },
    {
     "data": {
      "text/plain": [
       "(14, 2)"
      ]
     },
     "execution_count": 85,
     "metadata": {},
     "output_type": "execute_result"
    }
   ],
   "source": [
    "np.shape(sv_dotted)"
   ]
  },
  {
   "cell_type": "code",
   "execution_count": 82,
   "id": "mental-saskatchewan",
   "metadata": {},
   "outputs": [
    {
     "name": "stdout",
     "output_type": "stream",
     "text": [
      "(13550, 50) dot (50, 50) -> (13550, 50)\n"
     ]
    }
   ],
   "source": [
    "# local\n",
    "local_v = v.toArray()\n",
    "local_s = np.diag(s.toArray())\n",
    "sv = np.dot(local_v, local_s)\n",
    "\n",
    "print(f\"{np.shape(local_v)} dot {np.shape(local_s)} -> {np.shape(sv)}\" )"
   ]
  },
  {
   "cell_type": "code",
   "execution_count": 83,
   "id": "abstract-blowing",
   "metadata": {},
   "outputs": [
    {
     "ename": "ModuleNotFoundError",
     "evalue": "No module named 'sklearn'",
     "output_type": "error",
     "traceback": [
      "\u001b[0;31m---------------------------------------------------------------------------\u001b[0m",
      "\u001b[0;31mModuleNotFoundError\u001b[0m                       Traceback (most recent call last)",
      "\u001b[0;32m<ipython-input-83-4abfdac615b1>\u001b[0m in \u001b[0;36m<module>\u001b[0;34m\u001b[0m\n\u001b[0;32m----> 1\u001b[0;31m \u001b[0;32mfrom\u001b[0m \u001b[0msklearn\u001b[0m\u001b[0;34m.\u001b[0m\u001b[0mpreprocessing\u001b[0m \u001b[0;32mimport\u001b[0m \u001b[0mnormalize\u001b[0m\u001b[0;34m\u001b[0m\u001b[0;34m\u001b[0m\u001b[0m\n\u001b[0m",
      "\u001b[0;31mModuleNotFoundError\u001b[0m: No module named 'sklearn'"
     ]
    }
   ],
   "source": [
    "from sklearn.preprocessing import normalize"
   ]
  },
  {
   "cell_type": "code",
   "execution_count": null,
   "id": "beneficial-suggestion",
   "metadata": {},
   "outputs": [],
   "source": []
  }
 ],
 "metadata": {
  "kernelspec": {
   "display_name": "Python 3",
   "language": "python",
   "name": "python3"
  },
  "language_info": {
   "codemirror_mode": {
    "name": "ipython",
    "version": 3
   },
   "file_extension": ".py",
   "mimetype": "text/x-python",
   "name": "python",
   "nbconvert_exporter": "python",
   "pygments_lexer": "ipython3",
   "version": "3.8.5"
  }
 },
 "nbformat": 4,
 "nbformat_minor": 5
}
