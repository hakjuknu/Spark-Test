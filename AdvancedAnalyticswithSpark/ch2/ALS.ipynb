{
 "cells": [
  {
   "cell_type": "code",
   "execution_count": 1,
   "metadata": {},
   "outputs": [],
   "source": [
    "import os, sys"
   ]
  },
  {
   "cell_type": "code",
   "execution_count": 2,
   "metadata": {},
   "outputs": [],
   "source": [
    "from random import randrange\n",
    "from operator import itemgetter\n",
    "from pyspark import SparkConf, SparkContext\n",
    "from pyspark.mllib.recommendation import ALS, Rating\n",
    "from pyspark.sql import SparkSession, SQLContext\n",
    "from pyspark.sql.types import *\n",
    "from pyspark.sql.types import Row\n",
    "from pyspark.sql import functions as F"
   ]
  },
  {
   "cell_type": "code",
   "execution_count": 3,
   "metadata": {},
   "outputs": [],
   "source": [
    "conf = SparkConf()\n",
    "conf.set(\"spark.app.name\", \"Recommender\");\n",
    "conf.set(\"spark.master\", \"spark://spark-master:7077\");\n",
    "conf.set(\"spark.executor.memory\", \"6g\")\n",
    "conf.set(\"spark.ui.port\", \"8080\");\n",
    "sc = SparkContext(conf=conf).getOrCreate()"
   ]
  },
  {
   "cell_type": "code",
   "execution_count": 4,
   "metadata": {},
   "outputs": [],
   "source": [
    "rawArtistData = sc.textFile(\"resources/lastfm/artist_data.txt\")\n",
    "rawArtistAlias = sc.textFile(\"resources/lastfm/artist_alias.txt\")\n",
    "rawUserArtistData = sc.textFile(\"resources/lastfm/user_artist_data.txt\")"
   ]
  },
  {
   "cell_type": "code",
   "execution_count": 5,
   "metadata": {},
   "outputs": [],
   "source": [
    "def buildRatings(rawUserArtistData, bArtistAlias):\n",
    "    def getArtistRating(line):\n",
    "        (userID, artistID, count) = map(lambda x: int(x), line.split(' '))\n",
    "        try:\n",
    "            finalArtistID = bArtistAlias.value[artistID]\n",
    "        except KeyError:\n",
    "            finalArtistID = artistID\n",
    "        return Rating(userID, finalArtistID, count)\n",
    "\n",
    "    return rawUserArtistData.map(lambda line: getArtistRating(line))"
   ]
  },
  {
   "cell_type": "code",
   "execution_count": 6,
   "metadata": {},
   "outputs": [],
   "source": [
    "def representsInt(s):\n",
    "    try:\n",
    "        int(s)\n",
    "        return True\n",
    "    except ValueError:\n",
    "        return False"
   ]
  },
  {
   "cell_type": "code",
   "execution_count": 7,
   "metadata": {},
   "outputs": [],
   "source": [
    "def buildArtistAlias(rawArtistAlias):\n",
    "    '''\n",
    "        - convert ther rawArtistData into tuples of (aliasID, artistID)\n",
    "        - filter all bad lines\n",
    "    '''\n",
    "    return rawArtistAlias \\\n",
    "        .map(lambda line: line.split('\\t')) \\\n",
    "        .filter(lambda artist: artist[0] and representsInt(artist[0])) \\\n",
    "        .map(lambda artist: (int(artist[0]), int(artist[1]))) \\\n",
    "        .collectAsMap()"
   ]
  },
  {
   "cell_type": "code",
   "execution_count": 8,
   "metadata": {},
   "outputs": [],
   "source": [
    "def buildArtistByID(rawArtistData):\n",
    "    '''\n",
    "        - convert ther rawArtistData into tuples of (artistID, artistName)\n",
    "        - filter all bad lines\n",
    "    '''\n",
    "    return rawArtistData \\\n",
    "        .map(lambda line: line.split('\\t', 1)) \\\n",
    "        .filter(lambda artist: artist[0] and representsInt(artist[0])) \\\n",
    "        .map(lambda artist: (int(artist[0]), artist[1].strip()))"
   ]
  },
  {
   "cell_type": "code",
   "execution_count": 9,
   "metadata": {},
   "outputs": [],
   "source": [
    "sqlContext = SQLContext(sc)"
   ]
  },
  {
   "cell_type": "code",
   "execution_count": 10,
   "metadata": {},
   "outputs": [],
   "source": [
    "artistByID = buildArtistByID(rawArtistData)\n",
    "artistAlias = buildArtistAlias(rawArtistAlias)"
   ]
  },
  {
   "cell_type": "code",
   "execution_count": null,
   "metadata": {},
   "outputs": [],
   "source": [
    "artistAlias"
   ]
  },
  {
   "cell_type": "code",
   "execution_count": 11,
   "metadata": {},
   "outputs": [
    {
     "data": {
      "text/plain": [
       "[(1092764, 1000311),\n",
       " (1095122, 1000557),\n",
       " (6708070, 1007267),\n",
       " (10088054, 1042317),\n",
       " (1195917, 1042317),\n",
       " (1112006, 1000557),\n",
       " (1187350, 1294511),\n",
       " (1116694, 1327092),\n",
       " (6793225, 1042317),\n",
       " (1079959, 1000557)]"
      ]
     },
     "execution_count": 11,
     "metadata": {},
     "output_type": "execute_result"
    }
   ],
   "source": [
    "list(artistAlias.items())[0:10]"
   ]
  },
  {
   "cell_type": "code",
   "execution_count": 12,
   "metadata": {},
   "outputs": [
    {
     "data": {
      "text/plain": [
       "[(1134999, '06Crazy Life'),\n",
       " (6821360, 'Pang Nakarin'),\n",
       " (10113088, 'Terfel, Bartoli- Mozart: Don'),\n",
       " (10151459, 'The Flaming Sidebur'),\n",
       " (6826647, 'Bodenstandig 3000'),\n",
       " (10186265, 'Jota Quest e Ivete Sangalo'),\n",
       " (6828986, 'Toto_XX (1977'),\n",
       " (10236364, 'U.S Bombs -'),\n",
       " (1135000, 'artist formaly know as Mat'),\n",
       " (10299728, 'Kassierer - Musik für beide Ohren')]"
      ]
     },
     "execution_count": 12,
     "metadata": {},
     "output_type": "execute_result"
    }
   ],
   "source": [
    "artistByID.take(10)"
   ]
  },
  {
   "cell_type": "code",
   "execution_count": 13,
   "metadata": {},
   "outputs": [],
   "source": [
    "bArtistAlias = sc.broadcast(artistAlias)\n",
    "trainData = buildRatings(rawUserArtistData, bArtistAlias).cache()"
   ]
  },
  {
   "cell_type": "code",
   "execution_count": 14,
   "metadata": {},
   "outputs": [
    {
     "data": {
      "text/plain": [
       "PythonRDD[8] at RDD at PythonRDD.scala:53"
      ]
     },
     "execution_count": 14,
     "metadata": {},
     "output_type": "execute_result"
    }
   ],
   "source": [
    "trainData"
   ]
  },
  {
   "cell_type": "code",
   "execution_count": 16,
   "metadata": {},
   "outputs": [
    {
     "data": {
      "text/plain": [
       "PythonRDD[8] at RDD at PythonRDD.scala:53"
      ]
     },
     "execution_count": 16,
     "metadata": {},
     "output_type": "execute_result"
    }
   ],
   "source": [
    "trainData.cache()"
   ]
  },
  {
   "cell_type": "code",
   "execution_count": 15,
   "metadata": {},
   "outputs": [
    {
     "data": {
      "text/plain": [
       "Rating(user=1000002, product=1, rating=55.0)"
      ]
     },
     "execution_count": 15,
     "metadata": {},
     "output_type": "execute_result"
    }
   ],
   "source": [
    "trainData.first()"
   ]
  },
  {
   "cell_type": "code",
   "execution_count": 18,
   "metadata": {},
   "outputs": [],
   "source": [
    "model = ALS.trainImplicit(ratings=trainData, rank=10, iterations=5, lambda_=0.01, alpha=1.0)"
   ]
  },
  {
   "cell_type": "code",
   "execution_count": 19,
   "metadata": {},
   "outputs": [
    {
     "data": {
      "text/plain": [
       "PythonRDD[8] at RDD at PythonRDD.scala:53"
      ]
     },
     "execution_count": 19,
     "metadata": {},
     "output_type": "execute_result"
    }
   ],
   "source": [
    "trainData.unpersist()"
   ]
  },
  {
   "cell_type": "code",
   "execution_count": 20,
   "metadata": {},
   "outputs": [
    {
     "name": "stdout",
     "output_type": "stream",
     "text": [
      "(90, '-0.314458429813385, 0.37867167592048645, 0.6905015707015991, -0.47901904582977295, 1.0030543804168701, 0.7148472666740417, 0.05969858169555664, 0.18951988220214844, 0.28648626804351807, -0.21078184247016907')\n"
     ]
    }
   ],
   "source": [
    "print(model.userFeatures().mapValues(lambda v: \", \".join( map(lambda x: str(x),v) )).first())"
   ]
  },
  {
   "cell_type": "code",
   "execution_count": 51,
   "metadata": {},
   "outputs": [
    {
     "name": "stdout",
     "output_type": "stream",
     "text": [
      "Rating(user=2093760, product=2814, rating=0.025538512837930714) 2814\n",
      "Rating(user=2093760, product=1300642, rating=0.025242757394979408) 1300642\n",
      "Rating(user=2093760, product=1001819, rating=0.02488927245684423) 1001819\n",
      "Rating(user=2093760, product=1003249, rating=0.024226043130549567) 1003249\n",
      "Rating(user=2093760, product=4605, rating=0.024202361443191288) 4605\n"
     ]
    }
   ],
   "source": [
    "userID = 2093760\n",
    "recommendations = model.recommendProducts(userID, 5)\n",
    "for val in recommendations:\n",
    "    print(val, val.product)"
   ]
  },
  {
   "cell_type": "code",
   "execution_count": 52,
   "metadata": {},
   "outputs": [],
   "source": [
    "recommendedProductIDs = list(map(lambda rec: rec.product, recommendations))"
   ]
  },
  {
   "cell_type": "code",
   "execution_count": 53,
   "metadata": {},
   "outputs": [],
   "source": [
    "rawArtistForUser = rawUserArtistData\\\n",
    "    .map(lambda x: x.split(' '))\\\n",
    "    .filter(lambda x: int(x[0]) == userID)"
   ]
  },
  {
   "cell_type": "code",
   "execution_count": 54,
   "metadata": {},
   "outputs": [
    {
     "name": "stdout",
     "output_type": "stream",
     "text": [
      "1180\n",
      "1255340\n",
      "378\n",
      "813\n",
      "942\n"
     ]
    }
   ],
   "source": [
    "existingProducts = rawArtistForUser.map(lambda x: int(x[1])).collect()\n",
    "for val in existingProducts:\n",
    "    print(val)"
   ]
  },
  {
   "cell_type": "code",
   "execution_count": 55,
   "metadata": {},
   "outputs": [
    {
     "name": "stdout",
     "output_type": "stream",
     "text": [
      "(1180, 'David Gray')\n",
      "(378, 'Blackalicious')\n",
      "(813, 'Jurassic 5')\n",
      "(1255340, 'The Saw Doctors')\n",
      "(942, 'Xzibit')\n"
     ]
    }
   ],
   "source": [
    "existingArtists = artistByID.filter(lambda artist: artist[0] in existingProducts).collect()\n",
    "for val in existingArtists:\n",
    "    print(val)"
   ]
  },
  {
   "cell_type": "code",
   "execution_count": 56,
   "metadata": {},
   "outputs": [
    {
     "name": "stdout",
     "output_type": "stream",
     "text": [
      "(2814, '50 Cent')\n",
      "(4605, 'Snoop Dogg')\n",
      "(1003249, 'Ludacris')\n",
      "(1001819, '2Pac')\n",
      "(1300642, 'The Game')\n"
     ]
    }
   ],
   "source": [
    "recommendedArtists = artistByID.filter(lambda artist: artist[0] in recommendedProductIDs).collect()\n",
    "for val in recommendedArtists:\n",
    "    print(val)"
   ]
  },
  {
   "cell_type": "code",
   "execution_count": null,
   "metadata": {},
   "outputs": [],
   "source": []
  }
 ],
 "metadata": {
  "kernelspec": {
   "display_name": "Python 3",
   "language": "python",
   "name": "python3"
  },
  "language_info": {
   "codemirror_mode": {
    "name": "ipython",
    "version": 3
   },
   "file_extension": ".py",
   "mimetype": "text/x-python",
   "name": "python",
   "nbconvert_exporter": "python",
   "pygments_lexer": "ipython3",
   "version": "3.7.3"
  }
 },
 "nbformat": 4,
 "nbformat_minor": 4
}
